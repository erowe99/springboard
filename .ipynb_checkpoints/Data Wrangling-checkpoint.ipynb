{
 "cells": [
  {
   "cell_type": "code",
   "execution_count": 46,
   "metadata": {},
   "outputs": [],
   "source": [
    "#Import libraries\n",
    "import pandas as pd\n",
    "import matplotlib.pyplot as plt\n",
    "import seaborn as sns"
   ]
  },
  {
   "cell_type": "code",
   "execution_count": 50,
   "metadata": {},
   "outputs": [],
   "source": [
    "#Read in csv as dataframe\n",
    "#Using a smaller subset of the data since testing with 6mil+ rows would be too intensive\n",
    "df = pd.read_csv('/Users/ethanrowe/Dev/springboard_data/KSU Assessment Page Views Fall 2018.csv', nrows = 10000)"
   ]
  },
  {
   "cell_type": "code",
   "execution_count": 48,
   "metadata": {},
   "outputs": [],
   "source": [
    "#Eliminate Outliers using the 1.5*interquartile rule\n",
    "IQR = float(df['duration'].quantile([0.75])) - float(df['duration'].quantile([0.25]))\n",
    "upper_bound = float(df['duration'].quantile([0.75])) + 1.5*IQR\n",
    "lower_bound = float(df['duration'].quantile([0.25])) - 1.5*IQR\n",
    "\n",
    "df_clean = df[(df['duration'] < upper_bound) & (df['duration'] > lower_bound)]"
   ]
  },
  {
   "cell_type": "code",
   "execution_count": 19,
   "metadata": {
    "scrolled": true
   },
   "outputs": [
    {
     "name": "stdout",
     "output_type": "stream",
     "text": [
      "(8846, 13)\n",
      "Null Values: False\n"
     ]
    }
   ],
   "source": [
    "print(df_clean.shape)\n",
    "print(\"Null Values: \" + str(df_clean.isnull().values.any()))\n",
    "#df_clean.to_csv('KSU Assessment Page Views Fall 2018 Clean.csv')"
   ]
  },
  {
   "cell_type": "code",
   "execution_count": 52,
   "metadata": {},
   "outputs": [],
   "source": [
    "#Determine if there are missing values missing values\n",
    "total =  []\n",
    "for chunk in pd.read_csv('/Users/ethanrowe/Dev/springboard_data/KSU Assessment Page Views Fall 2018.csv', chunksize = 1000):\n",
    "    if chunk.isnull().values.any():\n",
    "        total.append(chunk)\n",
    "        \n",
    "#There are missing values in the whole dataframe\n",
    "#Need to check user_id, canvas_assignment_d, canvas_attempt_id, page_ids\n",
    "#There are no missing values in the columns that we are taking an interest in for any of our calculations\n",
    "#Checked each column for missing values and each column had none"
   ]
  },
  {
   "cell_type": "code",
   "execution_count": 110,
   "metadata": {},
   "outputs": [
    {
     "name": "stdout",
     "output_type": "stream",
     "text": [
      "\n",
      "Grouped by Assignment\n",
      "(580, 1)\n",
      "\n",
      "Grouped by User\n",
      "(1865, 1)\n"
     ]
    }
   ],
   "source": [
    "#Group by page and by students to compare average assignment durations\n",
    "assignment_df = pd.DataFrame(df_clean.groupby(['canvas_assignment_id'])['duration'].mean())\n",
    "print('\\nGrouped by Assignment')\n",
    "assignment_df.columns = ['Average Duration']\n",
    "print(page_df.shape)\n",
    "\n",
    "user_df = pd.DataFrame(df_clean.groupby(['user_param_external_user_id', 'canvas_assignment_id'])['duration'].mean())\n",
    "print('\\nGrouped by User')\n",
    "user_df.columns = ['Average Duration']\n",
    "print(user_df.shape)\n",
    "\n",
    "\n",
    "#page_df.to_csv('KSU Assessment Assignment Duration Averages.csv')\n",
    "#user_df.to_csv('KSU Assessment Student Views by User.csv')    "
   ]
  },
  {
   "cell_type": "code",
   "execution_count": 111,
   "metadata": {
    "scrolled": true
   },
   "outputs": [],
   "source": [
    "#User_df is good for visualizing the data, but a df that is easier to work with will be labeled sub_df. It has the \n",
    "#same columns as user_df, just in a different order with a numerical index. It will also be sorted by \n",
    "#canvas_assignment_id in order to match assignment_df's index\n",
    "sub_df = user_df.reset_index()  \n",
    "sub_df = sub_df.set_index('canvas_assignment_id')  \n",
    "sub_df = sub_df.sort_index()     \n",
    "sub_df = sub_df.reset_index()    \n",
    "\n",
    "#Using the user_df, turn it back into a dictionary grouped by canvas_assignment ids\n",
    "dfs = {}       \n",
    "for entry in sub_df.iterrows():  \n",
    "    if index != entry[1]['canvas_assignment_id']:  \n",
    "        index = entry[1]['canvas_assignment_id']  \n",
    "        df = pd.DataFrame(columns=['canvas_assignment_id', 'user_param_external_user_id', 'Average Duration'])  \n",
    "        df = df.append(dict(entry[1]), ignore_index = True) \n",
    "        dfs[index] = df  \n",
    "    else:  \n",
    "        dfs[index] = dfs[index].append(dict(entry[1]), ignore_index = True)  \n",
    "\n",
    "#Now page_df and this dictionary dfs should have one to one matches for the loop below\n",
    "#This loop will find all the student-assignment_id pairs that had an above average duration for that assignment\n",
    "above_avg_df = pd.DataFrame(columns = ['canvas_assignment_id', 'user_param_external_user_id','Average Duration']) \n",
    "for entry in assignment_df.iterrows(): \n",
    "    df = dfs[entry[0]] \n",
    "    above_avg_chunk = df[df['Average Duration'] >= entry[1][0]] \n",
    "    above_avg_df = above_avg_df.append(above_avg_chunk) \n",
    "#above_avg_df.to_csv('KSU Students with Above Average Assignment Duration.csv')    "
   ]
  },
  {
   "cell_type": "code",
   "execution_count": 112,
   "metadata": {},
   "outputs": [
    {
     "name": "stdout",
     "output_type": "stream",
     "text": [
      "3054\n",
      "   canvas_assignment_id  user_param_external_user_id  Average Duration\n",
      "0               40876.0                      37827.0      12831.500000\n",
      "0               40878.0                      37949.0       9549.583333\n",
      "3               40878.0                      37251.0      10307.500000\n",
      "0               40879.0                      38399.0      11579.000000\n",
      "5               40879.0                      40394.0      16064.857143\n"
     ]
    }
   ],
   "source": [
    "print(above_avg_df.size)\n",
    "print(above_avg_df.head())"
   ]
  },
  {
   "cell_type": "code",
   "execution_count": null,
   "metadata": {},
   "outputs": [],
   "source": []
  }
 ],
 "metadata": {
  "kernelspec": {
   "display_name": "Python 3",
   "language": "python",
   "name": "python3"
  },
  "language_info": {
   "codemirror_mode": {
    "name": "ipython",
    "version": 3
   },
   "file_extension": ".py",
   "mimetype": "text/x-python",
   "name": "python",
   "nbconvert_exporter": "python",
   "pygments_lexer": "ipython3",
   "version": "3.7.3"
  }
 },
 "nbformat": 4,
 "nbformat_minor": 2
}
