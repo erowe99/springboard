{
 "cells": [
  {
   "cell_type": "markdown",
   "metadata": {},
   "source": [
    "# Unit 5: Data Storytelling\n",
    "\n",
    "Note: Assessment Page Views is about (6million, 13) and most Jupyter notebook cannot handle most computations with it.\n",
    "    \n",
    "This notebook will be an example using the first 10000 rows of the dataset. The actual graphs will be created using\n",
    "\n",
    "iPython in the terminal and will be exported. The graphs will be stored in the same folder as this notebook though.\n",
    "    \n",
    "## EDA Section 1: Assessment Page Views\n",
    "\n",
    "Import relevant csv files derived from Assessment Page Views\n",
    "\n",
    "**Questions/Trends:** \n",
    "    \n",
    "Average Duration on each Assignment -  see if there is a trend over the course of more assignments\n",
    "\n",
    "## EDA Section 2: Course Grades\n",
    "\n",
    "Import relevant csv files derived from Course Grades/Grade export\n",
    "\n",
    "**Questions/Trends:** \n",
    "    \n",
    "Distribution of Final Scores - overall and for the scores below 70\n",
    "\n",
    "Scatter plot of student grades and last login date - see if there is a correlation between the two\n",
    "\n",
    "Average final score by section\n",
    "\n",
    "Average final score by course\n",
    "\n",
    "Count of low scoring students by section\n",
    "\n",
    "Count of low scoring students by course\n",
    "\n",
    "\n",
    "## EDA Section 3: Course Grades and Assessment Page Views\n",
    "\n",
    "Use relevant csv files from Section 1 and 2\n",
    "\n",
    "**Questions/Trends:**\n",
    "    \n",
    "Final Score in the class by average assignment duration - see if there is a correlation\n",
    "\n"
   ]
  },
  {
   "cell_type": "code",
   "execution_count": null,
   "metadata": {},
   "outputs": [],
   "source": [
    "#Import libraries for data analysis and visualization\n",
    "import pandas as pd\n",
    "import numpy as np\n",
    "import matplotlib.pyplot as plt\n",
    "import seaborn as sns\n",
    "import pendulum\n",
    "import datetime"
   ]
  },
  {
   "cell_type": "code",
   "execution_count": 297,
   "metadata": {},
   "outputs": [],
   "source": [
    "\"\"\"\n",
    "EDA Section 1: Assessment Page Views\n",
    "\"\"\"\n",
    "#Assessment Page Views\n",
    "df = pd.read_csv('/Users/ethanrowe/Dev/springboard_data/KSU Assessment Page Views Fall 2018 Clean.csv', nrows = 10000, index_col = 0)\n",
    "#Assessment Page Views columns: canvas_assignment_id, user_param_external_user_id, and Average Duration. Grouped by assignment id\n",
    "df2 = pd.read_csv('/Users/ethanrowe/Dev/springboard_data/KSU Assignment Duration Average with User Id.csv', nrows = 10000)\n",
    "#Assessment Page Views columns: user_param_external_user_id, canvas_assignment_id, and Average Duration. Grouped by user id\n",
    "\"\"\"\n",
    "df3 will be a rearrangement of df2 that will be easier to work with.\n",
    "\"\"\"\n",
    "#Assessment Page Views columns: canvas_assignment_id and Average Duration. Grouped by assignment id\n",
    "df4 = pd.read_csv('/Users/ethanrowe/Dev/springboard_data/KSU Assessment Assignment Duration Averages.csv', nrows = 10000)\n",
    "#Assessment Page Views columns: canvas_assignment_id, user_param_external_user_id, and Average Duration. \n",
    "#Grouped by assignment Id. Filtered to find user id entries with above average duration. (This need to be grouped by user id eventually)\n",
    "df5 = pd.read_csv('/Users/ethanrowe/Dev/springboard_data/KSU Students with Above Average Assignment Duration.csv', nrows = 10000, index_col = 0)"
   ]
  },
  {
   "cell_type": "code",
   "execution_count": 319,
   "metadata": {},
   "outputs": [
    {
     "data": {
      "text/html": [
       "<div>\n",
       "<style scoped>\n",
       "    .dataframe tbody tr th:only-of-type {\n",
       "        vertical-align: middle;\n",
       "    }\n",
       "\n",
       "    .dataframe tbody tr th {\n",
       "        vertical-align: top;\n",
       "    }\n",
       "\n",
       "    .dataframe thead th {\n",
       "        text-align: right;\n",
       "    }\n",
       "</style>\n",
       "<table border=\"1\" class=\"dataframe\">\n",
       "  <thead>\n",
       "    <tr style=\"text-align: right;\">\n",
       "      <th></th>\n",
       "      <th>user_param_external_user_id</th>\n",
       "      <th>canvas_assignment_id</th>\n",
       "      <th>Average Duration</th>\n",
       "    </tr>\n",
       "  </thead>\n",
       "  <tbody>\n",
       "    <tr>\n",
       "      <th>0</th>\n",
       "      <td>21650</td>\n",
       "      <td>22476.0</td>\n",
       "      <td>3453.500000</td>\n",
       "    </tr>\n",
       "    <tr>\n",
       "      <th>1</th>\n",
       "      <td>33479</td>\n",
       "      <td>31317.0</td>\n",
       "      <td>5811.400000</td>\n",
       "    </tr>\n",
       "    <tr>\n",
       "      <th>2</th>\n",
       "      <td>37111</td>\n",
       "      <td>40876.0</td>\n",
       "      <td>10265.000000</td>\n",
       "    </tr>\n",
       "    <tr>\n",
       "      <th>3</th>\n",
       "      <td>37478</td>\n",
       "      <td>40876.0</td>\n",
       "      <td>3075.000000</td>\n",
       "    </tr>\n",
       "    <tr>\n",
       "      <th>4</th>\n",
       "      <td>37993</td>\n",
       "      <td>40876.0</td>\n",
       "      <td>4410.333333</td>\n",
       "    </tr>\n",
       "  </tbody>\n",
       "</table>\n",
       "</div>"
      ],
      "text/plain": [
       "   user_param_external_user_id  canvas_assignment_id  Average Duration\n",
       "0                        21650               22476.0       3453.500000\n",
       "1                        33479               31317.0       5811.400000\n",
       "2                        37111               40876.0      10265.000000\n",
       "3                        37478               40876.0       3075.000000\n",
       "4                        37993               40876.0       4410.333333"
      ]
     },
     "execution_count": 319,
     "metadata": {},
     "output_type": "execute_result"
    }
   ],
   "source": [
    "df2.head()\n",
    "\n",
    "cols = ['user_param_external_user_id', 'canvas_assignment_id', 'Average Duration']\n",
    "df3 = df2[cols]\n",
    "df3.head()"
   ]
  },
  {
   "cell_type": "code",
   "execution_count": 201,
   "metadata": {},
   "outputs": [
    {
     "data": {
      "image/png": "[encoded data removed]",
      "text/plain": [
       "<Figure size 432x288 with 1 Axes>"
      ]
     },
     "metadata": {
      "needs_background": "light"
     },
     "output_type": "display_data"
    }
   ],
   "source": [
    "#Average Duration on each Assignment. \n",
    "#Using a scatter plot to see if there is a trend over the course of more assignments\n",
    "_ = plt.scatter(data = df4, x = 'canvas_assignment_id', y = 'Average Duration')\n",
    "_ = plt.xlim(40000, 50000)\n",
    "_ = plt.title('Average Duration on each Assignment')\n",
    "_ = plt.xlabel('Assignment Id')\n",
    "_ = plt.ylabel('Duration(ms)')\n",
    "plt.show()"
   ]
  },
  {
   "cell_type": "code",
   "execution_count": null,
   "metadata": {},
   "outputs": [],
   "source": []
  },
  {
   "cell_type": "code",
   "execution_count": 115,
   "metadata": {},
   "outputs": [],
   "source": [
    "\"\"\"\n",
    "EDA Section 2: Course Grades\n",
    "\"\"\"\n",
    "#Contains student grade info, shown below.\n",
    "grades = pd.read_csv('/Users/ethanrowe/Dev/springboard_data/KSU Student Final Grades 2018 Anonymous.csv', index_col = 0)\n",
    "#Contains student grade info for student that scored below 70; added column 'login time', shown below.\n",
    "grades_below_70 = pd.read_csv('/Users/ethanrowe/Dev/springboard_data/grades_and_login_times(below 70).csv', index_col = 0)\n"
   ]
  },
  {
   "cell_type": "code",
   "execution_count": 282,
   "metadata": {},
   "outputs": [
    {
     "data": {
      "text/html": [
       "<div>\n",
       "<style scoped>\n",
       "    .dataframe tbody tr th:only-of-type {\n",
       "        vertical-align: middle;\n",
       "    }\n",
       "\n",
       "    .dataframe tbody tr th {\n",
       "        vertical-align: top;\n",
       "    }\n",
       "\n",
       "    .dataframe thead th {\n",
       "        text-align: right;\n",
       "    }\n",
       "</style>\n",
       "<table border=\"1\" class=\"dataframe\">\n",
       "  <thead>\n",
       "    <tr style=\"text-align: right;\">\n",
       "      <th></th>\n",
       "      <th>student id</th>\n",
       "      <th>student sis</th>\n",
       "      <th>course</th>\n",
       "      <th>course id</th>\n",
       "      <th>course sis</th>\n",
       "      <th>section</th>\n",
       "      <th>section id</th>\n",
       "      <th>section sis</th>\n",
       "      <th>term</th>\n",
       "      <th>term id</th>\n",
       "      <th>term sis</th>\n",
       "      <th>current score</th>\n",
       "      <th>final score</th>\n",
       "      <th>enrollment state</th>\n",
       "      <th>unposted current score</th>\n",
       "      <th>unposted final score</th>\n",
       "    </tr>\n",
       "  </thead>\n",
       "  <tbody>\n",
       "    <tr>\n",
       "      <th>0</th>\n",
       "      <td>37888</td>\n",
       "      <td>NaN</td>\n",
       "      <td>WELL1000 Foundations for Healthy Living - Howton</td>\n",
       "      <td>622</td>\n",
       "      <td>NaN</td>\n",
       "      <td>WELL 1000/01</td>\n",
       "      <td>1159</td>\n",
       "      <td>NaN</td>\n",
       "      <td>Fall 2018</td>\n",
       "      <td>20</td>\n",
       "      <td>NaN</td>\n",
       "      <td>87.42</td>\n",
       "      <td>86.29</td>\n",
       "      <td>active</td>\n",
       "      <td>87.42</td>\n",
       "      <td>86.29</td>\n",
       "    </tr>\n",
       "    <tr>\n",
       "      <th>1</th>\n",
       "      <td>37902</td>\n",
       "      <td>NaN</td>\n",
       "      <td>WELL1000 Foundations for Healthy Living - Howton</td>\n",
       "      <td>622</td>\n",
       "      <td>NaN</td>\n",
       "      <td>WELL 1000/01</td>\n",
       "      <td>1159</td>\n",
       "      <td>NaN</td>\n",
       "      <td>Fall 2018</td>\n",
       "      <td>20</td>\n",
       "      <td>NaN</td>\n",
       "      <td>94.90</td>\n",
       "      <td>93.67</td>\n",
       "      <td>active</td>\n",
       "      <td>94.90</td>\n",
       "      <td>93.67</td>\n",
       "    </tr>\n",
       "    <tr>\n",
       "      <th>2</th>\n",
       "      <td>37956</td>\n",
       "      <td>NaN</td>\n",
       "      <td>WELL1000 Foundations for Healthy Living - Howton</td>\n",
       "      <td>622</td>\n",
       "      <td>NaN</td>\n",
       "      <td>WELL 1000/01</td>\n",
       "      <td>1159</td>\n",
       "      <td>NaN</td>\n",
       "      <td>Fall 2018</td>\n",
       "      <td>20</td>\n",
       "      <td>NaN</td>\n",
       "      <td>94.31</td>\n",
       "      <td>93.09</td>\n",
       "      <td>active</td>\n",
       "      <td>94.31</td>\n",
       "      <td>93.09</td>\n",
       "    </tr>\n",
       "    <tr>\n",
       "      <th>3</th>\n",
       "      <td>38080</td>\n",
       "      <td>NaN</td>\n",
       "      <td>WELL1000 Foundations for Healthy Living - Howton</td>\n",
       "      <td>622</td>\n",
       "      <td>NaN</td>\n",
       "      <td>WELL 1000/01</td>\n",
       "      <td>1159</td>\n",
       "      <td>NaN</td>\n",
       "      <td>Fall 2018</td>\n",
       "      <td>20</td>\n",
       "      <td>NaN</td>\n",
       "      <td>97.18</td>\n",
       "      <td>95.92</td>\n",
       "      <td>active</td>\n",
       "      <td>97.18</td>\n",
       "      <td>95.92</td>\n",
       "    </tr>\n",
       "    <tr>\n",
       "      <th>4</th>\n",
       "      <td>38176</td>\n",
       "      <td>NaN</td>\n",
       "      <td>WELL1000 Foundations for Healthy Living - Howton</td>\n",
       "      <td>622</td>\n",
       "      <td>NaN</td>\n",
       "      <td>WELL 1000/01</td>\n",
       "      <td>1159</td>\n",
       "      <td>NaN</td>\n",
       "      <td>Fall 2018</td>\n",
       "      <td>20</td>\n",
       "      <td>NaN</td>\n",
       "      <td>84.40</td>\n",
       "      <td>83.30</td>\n",
       "      <td>active</td>\n",
       "      <td>84.40</td>\n",
       "      <td>83.30</td>\n",
       "    </tr>\n",
       "  </tbody>\n",
       "</table>\n",
       "</div>"
      ],
      "text/plain": [
       "   student id  student sis                                            course  \\\n",
       "0       37888          NaN  WELL1000 Foundations for Healthy Living - Howton   \n",
       "1       37902          NaN  WELL1000 Foundations for Healthy Living - Howton   \n",
       "2       37956          NaN  WELL1000 Foundations for Healthy Living - Howton   \n",
       "3       38080          NaN  WELL1000 Foundations for Healthy Living - Howton   \n",
       "4       38176          NaN  WELL1000 Foundations for Healthy Living - Howton   \n",
       "\n",
       "   course id  course sis       section  section id  section sis       term  \\\n",
       "0        622         NaN  WELL 1000/01        1159          NaN  Fall 2018   \n",
       "1        622         NaN  WELL 1000/01        1159          NaN  Fall 2018   \n",
       "2        622         NaN  WELL 1000/01        1159          NaN  Fall 2018   \n",
       "3        622         NaN  WELL 1000/01        1159          NaN  Fall 2018   \n",
       "4        622         NaN  WELL 1000/01        1159          NaN  Fall 2018   \n",
       "\n",
       "   term id  term sis  current score  final score enrollment state  \\\n",
       "0       20       NaN          87.42        86.29           active   \n",
       "1       20       NaN          94.90        93.67           active   \n",
       "2       20       NaN          94.31        93.09           active   \n",
       "3       20       NaN          97.18        95.92           active   \n",
       "4       20       NaN          84.40        83.30           active   \n",
       "\n",
       "   unposted current score  unposted final score  \n",
       "0                   87.42                 86.29  \n",
       "1                   94.90                 93.67  \n",
       "2                   94.31                 93.09  \n",
       "3                   97.18                 95.92  \n",
       "4                   84.40                 83.30  "
      ]
     },
     "execution_count": 282,
     "metadata": {},
     "output_type": "execute_result"
    }
   ],
   "source": [
    "grades.head()"
   ]
  },
  {
   "cell_type": "code",
   "execution_count": 180,
   "metadata": {},
   "outputs": [
    {
     "data": {
      "text/html": [
       "<div>\n",
       "<style scoped>\n",
       "    .dataframe tbody tr th:only-of-type {\n",
       "        vertical-align: middle;\n",
       "    }\n",
       "\n",
       "    .dataframe tbody tr th {\n",
       "        vertical-align: top;\n",
       "    }\n",
       "\n",
       "    .dataframe thead th {\n",
       "        text-align: right;\n",
       "    }\n",
       "</style>\n",
       "<table border=\"1\" class=\"dataframe\">\n",
       "  <thead>\n",
       "    <tr style=\"text-align: right;\">\n",
       "      <th></th>\n",
       "      <th>course id</th>\n",
       "      <th>unposted final score</th>\n",
       "      <th>login time</th>\n",
       "      <th>student id</th>\n",
       "      <th>student sis</th>\n",
       "      <th>course</th>\n",
       "      <th>course sis</th>\n",
       "      <th>section</th>\n",
       "      <th>section id</th>\n",
       "      <th>section sis</th>\n",
       "      <th>term</th>\n",
       "      <th>term id</th>\n",
       "      <th>term sis</th>\n",
       "      <th>current score</th>\n",
       "      <th>final score</th>\n",
       "      <th>enrollment state</th>\n",
       "      <th>unposted current score</th>\n",
       "    </tr>\n",
       "  </thead>\n",
       "  <tbody>\n",
       "    <tr>\n",
       "      <th>0</th>\n",
       "      <td>639</td>\n",
       "      <td>0.0</td>\n",
       "      <td>2018-08-13 10:46:00</td>\n",
       "      <td>38094</td>\n",
       "      <td>NaN</td>\n",
       "      <td>WELL1000 Foundations for Healthy Living - Onli...</td>\n",
       "      <td>NaN</td>\n",
       "      <td>WELL 1000/W72</td>\n",
       "      <td>1191</td>\n",
       "      <td>NaN</td>\n",
       "      <td>Fall 2018</td>\n",
       "      <td>20</td>\n",
       "      <td>NaN</td>\n",
       "      <td>0.0</td>\n",
       "      <td>0.0</td>\n",
       "      <td>active</td>\n",
       "      <td>0.0</td>\n",
       "    </tr>\n",
       "    <tr>\n",
       "      <th>1</th>\n",
       "      <td>659</td>\n",
       "      <td>0.0</td>\n",
       "      <td>2018-08-13 11:04:00</td>\n",
       "      <td>22168</td>\n",
       "      <td>NaN</td>\n",
       "      <td>WELL1000 Foundations for Healthy Living - Onli...</td>\n",
       "      <td>NaN</td>\n",
       "      <td>WELL 1000/W87</td>\n",
       "      <td>1230</td>\n",
       "      <td>NaN</td>\n",
       "      <td>Fall 2018</td>\n",
       "      <td>20</td>\n",
       "      <td>NaN</td>\n",
       "      <td>0.0</td>\n",
       "      <td>0.0</td>\n",
       "      <td>concluded</td>\n",
       "      <td>0.0</td>\n",
       "    </tr>\n",
       "    <tr>\n",
       "      <th>2</th>\n",
       "      <td>659</td>\n",
       "      <td>0.0</td>\n",
       "      <td>2018-08-13 03:19:00</td>\n",
       "      <td>37144</td>\n",
       "      <td>NaN</td>\n",
       "      <td>WELL1000 Foundations for Healthy Living - Onli...</td>\n",
       "      <td>NaN</td>\n",
       "      <td>WELL 1000/W87</td>\n",
       "      <td>1230</td>\n",
       "      <td>NaN</td>\n",
       "      <td>Fall 2018</td>\n",
       "      <td>20</td>\n",
       "      <td>NaN</td>\n",
       "      <td>0.0</td>\n",
       "      <td>0.0</td>\n",
       "      <td>concluded</td>\n",
       "      <td>0.0</td>\n",
       "    </tr>\n",
       "    <tr>\n",
       "      <th>3</th>\n",
       "      <td>638</td>\n",
       "      <td>0.0</td>\n",
       "      <td>2018-08-13 09:04:00</td>\n",
       "      <td>38000</td>\n",
       "      <td>NaN</td>\n",
       "      <td>WELL1000 Foundations for Healthy Living - Onli...</td>\n",
       "      <td>NaN</td>\n",
       "      <td>WELL 1000/W75</td>\n",
       "      <td>1190</td>\n",
       "      <td>NaN</td>\n",
       "      <td>Fall 2018</td>\n",
       "      <td>20</td>\n",
       "      <td>NaN</td>\n",
       "      <td>0.0</td>\n",
       "      <td>0.0</td>\n",
       "      <td>active</td>\n",
       "      <td>0.0</td>\n",
       "    </tr>\n",
       "    <tr>\n",
       "      <th>4</th>\n",
       "      <td>631</td>\n",
       "      <td>0.0</td>\n",
       "      <td>2018-08-14 01:12:00</td>\n",
       "      <td>38410</td>\n",
       "      <td>NaN</td>\n",
       "      <td>WELL1000 Foundations for Healthy Living - Onli...</td>\n",
       "      <td>NaN</td>\n",
       "      <td>WELL 1000/W63</td>\n",
       "      <td>1176</td>\n",
       "      <td>NaN</td>\n",
       "      <td>Fall 2018</td>\n",
       "      <td>20</td>\n",
       "      <td>NaN</td>\n",
       "      <td>0.0</td>\n",
       "      <td>0.0</td>\n",
       "      <td>active</td>\n",
       "      <td>0.0</td>\n",
       "    </tr>\n",
       "  </tbody>\n",
       "</table>\n",
       "</div>"
      ],
      "text/plain": [
       "   course id  unposted final score           login time  student id  \\\n",
       "0        639                   0.0  2018-08-13 10:46:00       38094   \n",
       "1        659                   0.0  2018-08-13 11:04:00       22168   \n",
       "2        659                   0.0  2018-08-13 03:19:00       37144   \n",
       "3        638                   0.0  2018-08-13 09:04:00       38000   \n",
       "4        631                   0.0  2018-08-14 01:12:00       38410   \n",
       "\n",
       "   student sis                                             course  course sis  \\\n",
       "0          NaN  WELL1000 Foundations for Healthy Living - Onli...         NaN   \n",
       "1          NaN  WELL1000 Foundations for Healthy Living - Onli...         NaN   \n",
       "2          NaN  WELL1000 Foundations for Healthy Living - Onli...         NaN   \n",
       "3          NaN  WELL1000 Foundations for Healthy Living - Onli...         NaN   \n",
       "4          NaN  WELL1000 Foundations for Healthy Living - Onli...         NaN   \n",
       "\n",
       "         section  section id  section sis       term  term id  term sis  \\\n",
       "0  WELL 1000/W72        1191          NaN  Fall 2018       20       NaN   \n",
       "1  WELL 1000/W87        1230          NaN  Fall 2018       20       NaN   \n",
       "2  WELL 1000/W87        1230          NaN  Fall 2018       20       NaN   \n",
       "3  WELL 1000/W75        1190          NaN  Fall 2018       20       NaN   \n",
       "4  WELL 1000/W63        1176          NaN  Fall 2018       20       NaN   \n",
       "\n",
       "   current score  final score enrollment state  unposted current score  \n",
       "0            0.0          0.0           active                     0.0  \n",
       "1            0.0          0.0        concluded                     0.0  \n",
       "2            0.0          0.0        concluded                     0.0  \n",
       "3            0.0          0.0           active                     0.0  \n",
       "4            0.0          0.0           active                     0.0  "
      ]
     },
     "execution_count": 180,
     "metadata": {},
     "output_type": "execute_result"
    }
   ],
   "source": [
    "grades_below70 = grades_below_70.sort_values('login time')\n",
    "grades_below_70.head()"
   ]
  },
  {
   "cell_type": "code",
   "execution_count": 191,
   "metadata": {},
   "outputs": [
    {
     "data": {
      "image/png": "[encoded data removed]",
      "text/plain": [
       "<Figure size 432x288 with 1 Axes>"
      ]
     },
     "metadata": {
      "needs_background": "light"
     },
     "output_type": "display_data"
    }
   ],
   "source": [
    "#Distribution of Final Scores\n",
    "_ = plt.hist(x =grades['unposted final score'], bins = 50)\n",
    "_ = plt.title('Distribution of Final Scores')\n",
    "_ = plt.xlabel('Score')\n",
    "_ = plt.ylabel('Count')\n",
    "plt.show()"
   ]
  },
  {
   "cell_type": "code",
   "execution_count": 150,
   "metadata": {
    "scrolled": true
   },
   "outputs": [
    {
     "data": {
      "image/png": "[encoded data removed]",
      "text/plain": [
       "<Figure size 432x288 with 1 Axes>"
      ]
     },
     "metadata": {
      "needs_background": "light"
     },
     "output_type": "display_data"
    }
   ],
   "source": [
    "#Distribution of low scoring students\n",
    "_ = plt.hist(x =grades_below_70['unposted final score'], bins = 50)\n",
    "_ = plt.title('Distribution of Scores below 70')\n",
    "_ = plt.xlabel('Score')\n",
    "_ = plt.ylabel('Count')\n",
    "plt.show()"
   ]
  },
  {
   "cell_type": "code",
   "execution_count": 265,
   "metadata": {},
   "outputs": [
    {
     "data": {
      "image/png": "[encoded data removed]",
      "text/plain": [
       "<Figure size 432x288 with 1 Axes>"
      ]
     },
     "metadata": {
      "needs_background": "light"
     },
     "output_type": "display_data"
    },
    {
     "data": {
      "text/plain": [
       "login time\n",
       "2018-08-13 03:19:00    0.0\n",
       "2018-08-13 09:04:00    0.0\n",
       "2018-08-13 10:46:00    0.0\n",
       "2018-08-13 11:04:00    0.0\n",
       "2018-08-14 01:12:00    0.0\n",
       "Name: unposted final score, dtype: float64"
      ]
     },
     "execution_count": 265,
     "metadata": {},
     "output_type": "execute_result"
    }
   ],
   "source": [
    "#Scatter plot of student grades and last login date\n",
    "grades_below_70 = grades_below_70.sort_values('login time') \n",
    "time_series_df = grades_below_70.set_index('login time')\n",
    "time_series_df = time_series_df.loc[:,'unposted final score']\n",
    "\n",
    "#The dates are not evenly spaced out because the frequency of last logins is higher in December\n",
    "xlabels = ['Aug 13', 'Aug 30', 'Sept 23', 'Oct 14', 'Nov 12', 'Nov 30', 'Dec 04', 'Dec 08', 'Dec 19']\n",
    "\n",
    "_ = plt.axes(xticklabels = xlabels)\n",
    "_ = plt.title('Final Scores (below 70) and last login date')\n",
    "_ = plt.plot(time_series_df, linestyle = 'none', marker = '.')\n",
    "_ = plt.xlabel('Login Date')\n",
    "_ = plt.xticks(np.arange(0, 500, step=60), rotation=20)\n",
    "_ = plt.ylabel('Score')\n",
    "plt.show()\n",
    "time_series_df.head()"
   ]
  },
  {
   "cell_type": "code",
   "execution_count": 183,
   "metadata": {},
   "outputs": [
    {
     "name": "stdout",
     "output_type": "stream",
     "text": [
      "\n",
      "Average Score Grouped by Section \n",
      "(70, 1)\n",
      "        section id  avg unposted final score\n",
      "count    70.000000                 70.000000\n",
      "mean   1206.871429                 79.274036\n",
      "std      43.635487                  7.738668\n",
      "min    1159.000000                 55.950000\n",
      "25%    1180.250000                 75.430596\n",
      "50%    1200.500000                 80.071033\n",
      "75%    1219.750000                 84.338500\n",
      "max    1384.000000                 92.963958\n"
     ]
    },
    {
     "data": {
      "text/html": [
       "<div>\n",
       "<style scoped>\n",
       "    .dataframe tbody tr th:only-of-type {\n",
       "        vertical-align: middle;\n",
       "    }\n",
       "\n",
       "    .dataframe tbody tr th {\n",
       "        vertical-align: top;\n",
       "    }\n",
       "\n",
       "    .dataframe thead th {\n",
       "        text-align: right;\n",
       "    }\n",
       "</style>\n",
       "<table border=\"1\" class=\"dataframe\">\n",
       "  <thead>\n",
       "    <tr style=\"text-align: right;\">\n",
       "      <th></th>\n",
       "      <th>section id</th>\n",
       "      <th>avg unposted final score</th>\n",
       "    </tr>\n",
       "  </thead>\n",
       "  <tbody>\n",
       "    <tr>\n",
       "      <th>0</th>\n",
       "      <td>1159</td>\n",
       "      <td>86.415000</td>\n",
       "    </tr>\n",
       "    <tr>\n",
       "      <th>1</th>\n",
       "      <td>1160</td>\n",
       "      <td>78.252045</td>\n",
       "    </tr>\n",
       "    <tr>\n",
       "      <th>2</th>\n",
       "      <td>1161</td>\n",
       "      <td>78.416531</td>\n",
       "    </tr>\n",
       "    <tr>\n",
       "      <th>3</th>\n",
       "      <td>1164</td>\n",
       "      <td>74.921489</td>\n",
       "    </tr>\n",
       "    <tr>\n",
       "      <th>4</th>\n",
       "      <td>1165</td>\n",
       "      <td>83.806226</td>\n",
       "    </tr>\n",
       "  </tbody>\n",
       "</table>\n",
       "</div>"
      ],
      "text/plain": [
       "   section id  avg unposted final score\n",
       "0        1159                 86.415000\n",
       "1        1160                 78.252045\n",
       "2        1161                 78.416531\n",
       "3        1164                 74.921489\n",
       "4        1165                 83.806226"
      ]
     },
     "execution_count": 183,
     "metadata": {},
     "output_type": "execute_result"
    }
   ],
   "source": [
    "#Average final score by section\n",
    "section_avg_df = pd.DataFrame(grades.groupby(['section id'])['unposted final score'].mean())\n",
    "print('\\nAverage Score Grouped by Section ')\n",
    "section_avg_df.columns = ['avg unposted final score']\n",
    "print(section_avg_df.shape)\n",
    "\n",
    "section_avg_df = section_avg_df.reset_index()\n",
    "section_avg_df.head()\n"
   ]
  },
  {
   "cell_type": "code",
   "execution_count": 195,
   "metadata": {
    "scrolled": true
   },
   "outputs": [
    {
     "data": {
      "image/png": "[encoded data removed]",
      "text/plain": [
       "<Figure size 432x288 with 1 Axes>"
      ]
     },
     "metadata": {
      "needs_background": "light"
     },
     "output_type": "display_data"
    }
   ],
   "source": [
    "#Bar graph of average final score by section\n",
    "_ = plt.bar(data = section_avg_df, x = 'section id', height = 'avg unposted final score')\n",
    "_ = plt.title('Average Final Score by Section')\n",
    "_ = plt.xlabel('Section Id')\n",
    "_ = plt.ylabel('Average Final Score')\n",
    "plt.show()"
   ]
  },
  {
   "cell_type": "code",
   "execution_count": 141,
   "metadata": {
    "scrolled": true
   },
   "outputs": [
    {
     "name": "stdout",
     "output_type": "stream",
     "text": [
      "\n",
      "Average Score Grouped by Course \n",
      "(40, 1)\n"
     ]
    },
    {
     "data": {
      "text/html": [
       "<div>\n",
       "<style scoped>\n",
       "    .dataframe tbody tr th:only-of-type {\n",
       "        vertical-align: middle;\n",
       "    }\n",
       "\n",
       "    .dataframe tbody tr th {\n",
       "        vertical-align: top;\n",
       "    }\n",
       "\n",
       "    .dataframe thead th {\n",
       "        text-align: right;\n",
       "    }\n",
       "</style>\n",
       "<table border=\"1\" class=\"dataframe\">\n",
       "  <thead>\n",
       "    <tr style=\"text-align: right;\">\n",
       "      <th></th>\n",
       "      <th>course id</th>\n",
       "      <th>avg unposted final score</th>\n",
       "    </tr>\n",
       "  </thead>\n",
       "  <tbody>\n",
       "    <tr>\n",
       "      <th>0</th>\n",
       "      <td>622</td>\n",
       "      <td>86.415000</td>\n",
       "    </tr>\n",
       "    <tr>\n",
       "      <th>1</th>\n",
       "      <td>623</td>\n",
       "      <td>76.531868</td>\n",
       "    </tr>\n",
       "    <tr>\n",
       "      <th>2</th>\n",
       "      <td>624</td>\n",
       "      <td>78.416531</td>\n",
       "    </tr>\n",
       "    <tr>\n",
       "      <th>3</th>\n",
       "      <td>626</td>\n",
       "      <td>83.038286</td>\n",
       "    </tr>\n",
       "    <tr>\n",
       "      <th>4</th>\n",
       "      <td>627</td>\n",
       "      <td>85.830972</td>\n",
       "    </tr>\n",
       "  </tbody>\n",
       "</table>\n",
       "</div>"
      ],
      "text/plain": [
       "   course id  avg unposted final score\n",
       "0        622                 86.415000\n",
       "1        623                 76.531868\n",
       "2        624                 78.416531\n",
       "3        626                 83.038286\n",
       "4        627                 85.830972"
      ]
     },
     "execution_count": 141,
     "metadata": {},
     "output_type": "execute_result"
    }
   ],
   "source": [
    "#Average score by course\n",
    "course_avg_df = pd.DataFrame(grades.groupby(['course id'])['unposted final score'].mean())\n",
    "print('\\nAverage Score Grouped by Course ')\n",
    "course_avg_df.columns = ['avg unposted final score']\n",
    "print(course_avg_df.shape)\n",
    "\n",
    "course_avg_df = course_avg_df.reset_index()\n",
    "course_avg_df.head()"
   ]
  },
  {
   "cell_type": "code",
   "execution_count": 198,
   "metadata": {},
   "outputs": [
    {
     "data": {
      "image/png": "[encoded data removed]",
      "text/plain": [
       "<Figure size 432x288 with 1 Axes>"
      ]
     },
     "metadata": {
      "needs_background": "light"
     },
     "output_type": "display_data"
    }
   ],
   "source": [
    "#Bar graph of average final score by course\n",
    "_ = plt.bar(data = course_avg_df, x = 'course id', height = 'avg unposted final score')\n",
    "_ = plt.title('Average Final Score by Course Id')\n",
    "_ = plt.xlabel('Course Id')\n",
    "_ = plt.ylabel('Average Final Score')\n",
    "plt.show()"
   ]
  },
  {
   "cell_type": "code",
   "execution_count": 283,
   "metadata": {},
   "outputs": [
    {
     "name": "stdout",
     "output_type": "stream",
     "text": [
      "Shape\n",
      "(69, 1)\n",
      "   section id  Count\n",
      "0        1159      1\n",
      "1        1160      8\n",
      "2        1161      8\n",
      "3        1164      9\n",
      "4        1165      6\n",
      "Section with most low scorers\n",
      "    section id  Count\n",
      "26        1191     21\n"
     ]
    },
    {
     "data": {
      "image/png": "[encoded data removed]",
      "text/plain": [
       "<Figure size 432x288 with 1 Axes>"
      ]
     },
     "metadata": {
      "needs_background": "light"
     },
     "output_type": "display_data"
    }
   ],
   "source": [
    "#Count of low scoring students by section\n",
    "grades_bad_section_df = pd.DataFrame(grades_below_70.groupby(['section id'])['unposted final score'].count())\n",
    "grades_bad_section_df.columns = ['Count']\n",
    "print('Shape')\n",
    "print(grades_bad_section_df.shape)\n",
    "\n",
    "grades_bad_section_df = grades_bad_section_df.reset_index()\n",
    "print(grades_bad_section_df.head())\n",
    "\n",
    "print('Section with most low scorers')\n",
    "print(grades_bad_section_df[grades_bad_section_df['Count'] == grades_bad_section_df['Count'].max()])\n",
    "\n",
    "_ = plt.bar(data = grades_bad_section_df, x = 'section id', height = 'Count')\n",
    "_ = plt.title('Low Scoring Students(below 70) by Section')\n",
    "_ = plt.xlabel('Section Id')\n",
    "_ = plt.ylabel('Score')\n",
    "plt.show()\n"
   ]
  },
  {
   "cell_type": "code",
   "execution_count": 275,
   "metadata": {},
   "outputs": [
    {
     "name": "stdout",
     "output_type": "stream",
     "text": [
      "Shape\n",
      "(40, 1)\n",
      "   course id  Count\n",
      "0        622      1\n",
      "1        623     17\n",
      "2        624      8\n",
      "3        626     12\n",
      "4        627      8\n",
      "Course with most low scorers\n",
      "    course id  Count\n",
      "34        658     33\n"
     ]
    },
    {
     "data": {
      "image/png": "[encoded data removed]",
      "text/plain": [
       "<Figure size 432x288 with 1 Axes>"
      ]
     },
     "metadata": {
      "needs_background": "light"
     },
     "output_type": "display_data"
    }
   ],
   "source": [
    "#Count of low scoring students by course\n",
    "grades_bad_course_df = pd.DataFrame(grades_below_70.groupby(['course id'])['unposted final score'].count())\n",
    "grades_bad_course_df.columns = ['Count']\n",
    "print('Shape')\n",
    "print(grades_bad_course_df.shape)\n",
    "grades_bad_course_df = grades_bad_course_df.reset_index()\n",
    "print(grades_bad_course_df.head())\n",
    "print('Course with most low scorers')\n",
    "print(grades_bad_course_df[grades_bad_course_df['Count'] == grades_bad_course_df['Count'].max()])\n",
    "_ = plt.bar(data = grades_bad_course_df, x = 'course id', height = 'Count')\n",
    "_ = plt.title('Low Scoring Students(below 70) by Course')\n",
    "_ = plt.xlabel('Course Id')\n",
    "_ = plt.ylabel('Score')\n",
    "plt.show()"
   ]
  },
  {
   "cell_type": "code",
   "execution_count": null,
   "metadata": {},
   "outputs": [],
   "source": []
  },
  {
   "cell_type": "code",
   "execution_count": 202,
   "metadata": {},
   "outputs": [
    {
     "data": {
      "text/plain": [
       "'\\nEDA Section 3: Course Grades and Assessment Page Views\\n'"
      ]
     },
     "execution_count": 202,
     "metadata": {},
     "output_type": "execute_result"
    }
   ],
   "source": [
    "\"\"\"\n",
    "EDA Section 3: Course Grades and Assessment Page Views\n",
    "\"\"\""
   ]
  },
  {
   "cell_type": "code",
   "execution_count": 324,
   "metadata": {},
   "outputs": [
    {
     "name": "stdout",
     "output_type": "stream",
     "text": [
      "(484, 2)\n"
     ]
    },
    {
     "data": {
      "text/html": [
       "<div>\n",
       "<style scoped>\n",
       "    .dataframe tbody tr th:only-of-type {\n",
       "        vertical-align: middle;\n",
       "    }\n",
       "\n",
       "    .dataframe tbody tr th {\n",
       "        vertical-align: top;\n",
       "    }\n",
       "\n",
       "    .dataframe thead th {\n",
       "        text-align: right;\n",
       "    }\n",
       "</style>\n",
       "<table border=\"1\" class=\"dataframe\">\n",
       "  <thead>\n",
       "    <tr style=\"text-align: right;\">\n",
       "      <th></th>\n",
       "      <th>student id</th>\n",
       "      <th>average duration</th>\n",
       "    </tr>\n",
       "  </thead>\n",
       "  <tbody>\n",
       "    <tr>\n",
       "      <th>0</th>\n",
       "      <td>1229</td>\n",
       "      <td>12304.000000</td>\n",
       "    </tr>\n",
       "    <tr>\n",
       "      <th>1</th>\n",
       "      <td>1669</td>\n",
       "      <td>5983.604369</td>\n",
       "    </tr>\n",
       "    <tr>\n",
       "      <th>2</th>\n",
       "      <td>1778</td>\n",
       "      <td>6253.875000</td>\n",
       "    </tr>\n",
       "    <tr>\n",
       "      <th>3</th>\n",
       "      <td>2641</td>\n",
       "      <td>6376.252979</td>\n",
       "    </tr>\n",
       "    <tr>\n",
       "      <th>4</th>\n",
       "      <td>12761</td>\n",
       "      <td>8504.857699</td>\n",
       "    </tr>\n",
       "  </tbody>\n",
       "</table>\n",
       "</div>"
      ],
      "text/plain": [
       "   student id  average duration\n",
       "0        1229      12304.000000\n",
       "1        1669       5983.604369\n",
       "2        1778       6253.875000\n",
       "3        2641       6376.252979\n",
       "4       12761       8504.857699"
      ]
     },
     "execution_count": 324,
     "metadata": {},
     "output_type": "execute_result"
    }
   ],
   "source": [
    "#Question\n",
    "#Prep the data frames for merging\n",
    "#Not everything will match up here with partial code. The actual graph will be made in iPython using the full dataset.\n",
    "student_duration_averages = pd.DataFrame(df3.groupby(['user_param_external_user_id'])['Average Duration'].mean())\n",
    "student_duration_averages = student_duration_averages.reset_index()\n",
    "student_duration_averages.columns = ['student id', 'average duration']\n",
    "print(student_duration_averages.shape)\n",
    "student_duration_averages.head()"
   ]
  },
  {
   "cell_type": "code",
   "execution_count": 323,
   "metadata": {
    "scrolled": true
   },
   "outputs": [
    {
     "name": "stdout",
     "output_type": "stream",
     "text": [
      "(490, 2)\n"
     ]
    },
    {
     "data": {
      "text/html": [
       "<div>\n",
       "<style scoped>\n",
       "    .dataframe tbody tr th:only-of-type {\n",
       "        vertical-align: middle;\n",
       "    }\n",
       "\n",
       "    .dataframe tbody tr th {\n",
       "        vertical-align: top;\n",
       "    }\n",
       "\n",
       "    .dataframe thead th {\n",
       "        text-align: right;\n",
       "    }\n",
       "</style>\n",
       "<table border=\"1\" class=\"dataframe\">\n",
       "  <thead>\n",
       "    <tr style=\"text-align: right;\">\n",
       "      <th></th>\n",
       "      <th>student id</th>\n",
       "      <th>unposted final score</th>\n",
       "    </tr>\n",
       "  </thead>\n",
       "  <tbody>\n",
       "    <tr>\n",
       "      <th>2</th>\n",
       "      <td>37144</td>\n",
       "      <td>0.0</td>\n",
       "    </tr>\n",
       "    <tr>\n",
       "      <th>3</th>\n",
       "      <td>38000</td>\n",
       "      <td>0.0</td>\n",
       "    </tr>\n",
       "    <tr>\n",
       "      <th>0</th>\n",
       "      <td>38094</td>\n",
       "      <td>0.0</td>\n",
       "    </tr>\n",
       "    <tr>\n",
       "      <th>1</th>\n",
       "      <td>22168</td>\n",
       "      <td>0.0</td>\n",
       "    </tr>\n",
       "    <tr>\n",
       "      <th>4</th>\n",
       "      <td>38410</td>\n",
       "      <td>0.0</td>\n",
       "    </tr>\n",
       "  </tbody>\n",
       "</table>\n",
       "</div>"
      ],
      "text/plain": [
       "   student id  unposted final score\n",
       "2       37144                   0.0\n",
       "3       38000                   0.0\n",
       "0       38094                   0.0\n",
       "1       22168                   0.0\n",
       "4       38410                   0.0"
      ]
     },
     "execution_count": 323,
     "metadata": {},
     "output_type": "execute_result"
    }
   ],
   "source": [
    "#Prep the dataframe for merging\n",
    "student_final_grades = grades_below_70.loc[:, ['student id', 'unposted final score']]\n",
    "print(student_final_grades.shape)\n",
    "student_final_grades.head()\n"
   ]
  },
  {
   "cell_type": "code",
   "execution_count": 338,
   "metadata": {},
   "outputs": [
    {
     "name": "stdout",
     "output_type": "stream",
     "text": [
      "(70, 3)\n"
     ]
    },
    {
     "data": {
      "text/html": [
       "<div>\n",
       "<style scoped>\n",
       "    .dataframe tbody tr th:only-of-type {\n",
       "        vertical-align: middle;\n",
       "    }\n",
       "\n",
       "    .dataframe tbody tr th {\n",
       "        vertical-align: top;\n",
       "    }\n",
       "\n",
       "    .dataframe thead th {\n",
       "        text-align: right;\n",
       "    }\n",
       "</style>\n",
       "<table border=\"1\" class=\"dataframe\">\n",
       "  <thead>\n",
       "    <tr style=\"text-align: right;\">\n",
       "      <th></th>\n",
       "      <th>student id</th>\n",
       "      <th>average duration</th>\n",
       "      <th>unposted final score</th>\n",
       "    </tr>\n",
       "  </thead>\n",
       "  <tbody>\n",
       "    <tr>\n",
       "      <th>0</th>\n",
       "      <td>16467</td>\n",
       "      <td>5670.932960</td>\n",
       "      <td>69.41</td>\n",
       "    </tr>\n",
       "    <tr>\n",
       "      <th>1</th>\n",
       "      <td>18084</td>\n",
       "      <td>4993.342338</td>\n",
       "      <td>53.73</td>\n",
       "    </tr>\n",
       "    <tr>\n",
       "      <th>2</th>\n",
       "      <td>22030</td>\n",
       "      <td>6756.300000</td>\n",
       "      <td>49.60</td>\n",
       "    </tr>\n",
       "    <tr>\n",
       "      <th>3</th>\n",
       "      <td>23402</td>\n",
       "      <td>12209.915316</td>\n",
       "      <td>13.16</td>\n",
       "    </tr>\n",
       "    <tr>\n",
       "      <th>4</th>\n",
       "      <td>31673</td>\n",
       "      <td>5083.498509</td>\n",
       "      <td>45.74</td>\n",
       "    </tr>\n",
       "  </tbody>\n",
       "</table>\n",
       "</div>"
      ],
      "text/plain": [
       "   student id  average duration  unposted final score\n",
       "0       16467       5670.932960                 69.41\n",
       "1       18084       4993.342338                 53.73\n",
       "2       22030       6756.300000                 49.60\n",
       "3       23402      12209.915316                 13.16\n",
       "4       31673       5083.498509                 45.74"
      ]
     },
     "execution_count": 338,
     "metadata": {},
     "output_type": "execute_result"
    }
   ],
   "source": [
    "#Merge the dataframes.\n",
    "student_duration_grades = pd.merge(student_duration_averages, student_final_grades, on = ['student id'], how = 'inner')\n",
    "\n",
    "print(student_duration_grades.shape)\n",
    "student_duration_grades.head()\n"
   ]
  },
  {
   "cell_type": "code",
   "execution_count": 337,
   "metadata": {},
   "outputs": [
    {
     "data": {
      "image/png": "[encoded data removed]",
      "text/plain": [
       "<Figure size 432x288 with 1 Axes>"
      ]
     },
     "metadata": {
      "needs_background": "light"
     },
     "output_type": "display_data"
    }
   ],
   "source": [
    "#Scatter plot of student_duration_grades\n",
    "\n",
    "_ = plt.title('Final Score by Total Average Assignment Duration')\n",
    "_ = plt.scatter(data = student_duration_grades, x = 'average duration', y = 'unposted final score')\n",
    "_ = plt.xlabel('Average Assignment Duration(ms)')\n",
    "_ = plt.ylabel('Final Score')\n",
    "plt.show()"
   ]
  },
  {
   "cell_type": "code",
   "execution_count": null,
   "metadata": {},
   "outputs": [],
   "source": []
  },
  {
   "cell_type": "markdown",
   "metadata": {},
   "source": [
    "### Conclusion\n",
    "\n",
    "Just report my findings here and what I might look into going forward."
   ]
  },
  {
   "cell_type": "code",
   "execution_count": null,
   "metadata": {},
   "outputs": [],
   "source": []
  }
 ],
 "metadata": {
  "kernelspec": {
   "display_name": "Python 3",
   "language": "python",
   "name": "python3"
  },
  "language_info": {
   "codemirror_mode": {
    "name": "ipython",
    "version": 3
   },
   "file_extension": ".py",
   "mimetype": "text/x-python",
   "name": "python",
   "nbconvert_exporter": "python",
   "pygments_lexer": "ipython3",
   "version": "3.7.3"
  }
 },
 "nbformat": 4,
 "nbformat_minor": 2
}
