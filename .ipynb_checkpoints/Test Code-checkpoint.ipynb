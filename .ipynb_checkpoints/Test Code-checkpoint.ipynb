{
 "cells": [
  {
   "cell_type": "code",
   "execution_count": 5,
   "metadata": {},
   "outputs": [],
   "source": [
    "import pandas as pd\n",
    "import matplotlib.pyplot as plt\n",
    "import seaborn as sn "
   ]
  },
  {
   "cell_type": "code",
   "execution_count": 204,
   "metadata": {
    "scrolled": false
   },
   "outputs": [
    {
     "name": "stdout",
     "output_type": "stream",
     "text": [
      "Original Data Frame\n",
      "   attempt_id type  assignment_id  course_id  section_id    created_at  \\\n",
      "0           1  Ch1              1        100           1  Sept-03-2018   \n",
      "1           1  Ch1              1        100           1   Oct-06-2018   \n",
      "2           1  Ch2              1        100           1   Nov-04-2018   \n",
      "3           1  Ch2              1        100           1  Nov-028-2018   \n",
      "\n",
      "   duration  id  page_id  user_id  \n",
      "0    600000   1        1        1  \n",
      "1    800000   2        1        1  \n",
      "2    450000   3        1        2  \n",
      "3    660000   4        1        2  \n",
      "Grouped by Page\n",
      "                                  Average Duration\n",
      "assignment_id attempt_id page_id                  \n",
      "1             1          1                  627500\n",
      "627500.0\n",
      "Grouped by User\n",
      "                                          duration\n",
      "user_id assignment_id attempt_id page_id          \n",
      "1       1             1          1          700000\n",
      "2       1             1          1          555000\n",
      "700000.0\n",
      "Outliers\n"
     ]
    },
    {
     "data": {
      "image/png": "[encoded data removed]",
      "text/plain": [
       "<Figure size 432x288 with 1 Axes>"
      ]
     },
     "metadata": {
      "needs_background": "light"
     },
     "output_type": "display_data"
    },
    {
     "name": "stdout",
     "output_type": "stream",
     "text": [
      "count         4.0\n",
      "mean     627500.0\n",
      "std      145000.0\n",
      "min      450000.0\n",
      "25%      562500.0\n",
      "50%      630000.0\n",
      "75%      695000.0\n",
      "max      800000.0\n",
      "Name: duration, dtype: float64\n",
      "562500.0\n",
      "695000.0\n",
      "198750.0\n",
      "Outlier-Free DataFrame\n",
      "   attempt_id type  assignment_id  course_id  section_id    created_at  \\\n",
      "0           1  Ch1              1        100           1  Sept-03-2018   \n",
      "1           1  Ch1              1        100           1   Oct-06-2018   \n",
      "2           1  Ch2              1        100           1   Nov-04-2018   \n",
      "3           1  Ch2              1        100           1  Nov-028-2018   \n",
      "\n",
      "   duration  id  page_id  user_id  \n",
      "0    600000   1        1        1  \n",
      "1    800000   2        1        1  \n",
      "2    450000   3        1        2  \n",
      "3    660000   4        1        2  \n",
      "Testing in chunks\n",
      "assignment_id  attempt_id  page_id\n",
      "1              1           1          700000\n",
      "Name: duration, dtype: int64\n",
      "assignment_id  attempt_id  page_id\n",
      "1              1           1          555000\n",
      "Name: duration, dtype: int64\n",
      "\n",
      "\n",
      "                                          Average Duration\n",
      "user_id assignment_id attempt_id page_id                  \n",
      "1       1             1          1                  700000\n"
     ]
    }
   ],
   "source": [
    "#This is a test space for myself to test out random code\n",
    "data = {'attempt_id':[1,1,1,1], 'type':['Ch1', 'Ch1', 'Ch2', 'Ch2'],'assignment_id':[1,1,1,1],'course_id':[100,100,100, 100],\n",
    "        'section_id':[1,1,1,1], 'created_at':['Sept-03-2018','Oct-06-2018','Nov-04-2018', 'Nov-028-2018'], 'duration':[600000,800000,450000, 660000], 'id':[1,2,3,4], 'page_id':[1,1,1,1], 'user_id':[1,1,2,2]}\n",
    "\n",
    "df = pd.DataFrame(data)\n",
    "print('Original Data Frame')\n",
    "print(df)\n",
    "\n",
    "page_df = pd.DataFrame(df.groupby(['assignment_id', 'attempt_id', 'page_id'])['duration'].mean())\n",
    "print('Grouped by Page')\n",
    "page_df.columns = ['Average Duration']\n",
    "print(page_df)\n",
    "#Use this value to check if an entry with a \"similar index\" has a value higher or below that. Mentor says we want \n",
    "#Keep the high values but I think it'd be better to keep the low values and see if they are associated with failure.\n",
    "print(float(page_df.loc[([1], 1, 1),:]['Average Duration']))\n",
    "user_df = pd.DataFrame(df.groupby(['user_id', 'assignment_id','attempt_id', 'page_id'])['duration'].mean())\n",
    "print('Grouped by User')\n",
    "print(user_df)\n",
    "user_df.columns = ['Average Duration']\n",
    "#This will have to be a type of loop how to check all 60,000 rows? has to be efficient. It will take a long-time.\n",
    "#it will also have to use .iloc since I don't want to use loc when I will not know all of the index labels...\n",
    "#Pseudo code: For each entry in page_avg_duration, check if an entry in user_avg_duration has a duration higher or lower\n",
    "#has a higher or lower value. How to check them, extract the index position names? Well whatever I used to get the position of one\n",
    "#work for the others.\n",
    "print(float(user_df.loc[(1, 1, 1,1),:]['Average Duration']))\n",
    "print('Outliers')\n",
    "df['duration'].plot(kind = 'box')\n",
    "plt.show()\n",
    "print(df['duration'].describe())\n",
    "\n",
    "print(float(df['duration'].quantile([0.25])))\n",
    "print(float(df['duration'].quantile([0.75])))\n",
    "\n",
    "IQR = float(df['duration'].quantile([0.75])) - float(df['duration'].quantile([0.25]))\n",
    "print(1.5*IQR)\n",
    "upper_bound = float(df['duration'].quantile([0.75])) + 1.5*IQR\n",
    "lower_bound = float(df['duration'].quantile([0.25])) - 1.5*IQR\n",
    "#Outlier is a (0.75+1.5*IQR) < x < (0.25 - 1.5*IQR)\n",
    "#I'll run this computation to identify outliers and then removed them from the data set.\n",
    "#I want to use the iterators and chunk size too though.\n",
    "#That's next\n",
    "#I don't think I can commit any of this yet until I get approval to upload all of this information to github for my project\n",
    "#I also have to prepare for my mentor meeting tomorrow and make sure that I am on track\n",
    "#This code will parse over the whole data and only return the df that has things, I should record the outliers though?\n",
    "#no I should write down my code and then like a summary of what was removed e.g how many total and how many were removed \n",
    "#off of each end a long with how the mean and median changed. --> closer to a type of distribution like normal?\n",
    "df_thing = df[(df['duration'] < upper_bound) & (df['duration'] > lower_bound)]\n",
    "print('Outlier-Free DataFrame')\n",
    "print(df_thing)\n",
    "\n",
    "print('Testing in chunks')\n",
    "csv = df_thing.to_csv('test_data.csv')\n",
    "df2 = pd.DataFrame()\n",
    "for chunk in pd.read_csv('test_data.csv', chunksize = 2, index_col = 0):\n",
    "    chunk_grouped = chunk.groupby(['assignment_id', 'attempt_id', 'page_id'])['duration'].mean()\n",
    "    print(chunk_grouped)\n",
    "\n",
    "#df3 = pd.read_csv('KSU Assessment Page Views Fall 2018.csv', nrows = 60000)\n",
    "#print(df3.shape)\n",
    "#60,000 rows worked fine\n",
    "#for chunk in df3:\n",
    "#    chunk_grouped = chunk.groupby(['canvas_assignment_id', 'assessment_attempt_id', 'page_id'])['duration'].mean()\n",
    "#I still have to tidy this code up, maybe use some functions, I don't know it might be easier to name and comment that way\n",
    "\n",
    "#pseudeo code for thing\n",
    "#it could be kept as a DF or a pandas series, either way is ok\n",
    "#take each index with its average duration and use it as a boolean series to check if the time by students\n",
    "#was less than the average by page\n",
    "#series = pages_df\n",
    "#df2 = df[boolean_series]\n",
    "#boolean_series = df[series]\n",
    "#how to check if a students page views time is less?\n",
    "\n",
    "\n",
    "#Alright, now let's write the loop for iterating over everything. The two groupbys will take about 1min each I bet\n",
    "#along with loading the data set - > 30s. \n",
    "\n",
    "\n",
    "rows_to_drop = []\n",
    "for index1, row1 in page_df.iterrows():\n",
    "    for index2, row2 in user_df.iterrows():\n",
    "        li = list(index2)\n",
    "        li.pop(0) #removes the user_id so it can compare [1,1,1] to list((1,1,1)) to find a page and attempt match\n",
    "        if li == list(index1):\n",
    "            if row2['Average Duration'] < row1['Average Duration']:\n",
    "                #Remove this row\n",
    "                rows_to_drop.append(index2)\n",
    "                \n",
    "                \n",
    "user_df = user_df.drop(rows_to_drop, axis =0)\n",
    "print(user_df)\n"
   ]
  },
  {
   "cell_type": "code",
   "execution_count": 214,
   "metadata": {},
   "outputs": [
    {
     "name": "stdout",
     "output_type": "stream",
     "text": [
      "Original Data Frame\n",
      "   attempt_id type  assignment_id  course_id  section_id    created_at  \\\n",
      "0           1  Ch1              1        100           1  Sept-03-2018   \n",
      "1           1  Ch1              1        100           1   Oct-06-2018   \n",
      "2           1  Ch2              1        100           1   Nov-04-2018   \n",
      "3           1  Ch2              1        100           1  Nov-028-2018   \n",
      "\n",
      "   duration  id  page_id  user_id  \n",
      "0    600000   1        1        1  \n",
      "1    800000   2        1        1  \n",
      "2    450000   3        1        2  \n",
      "3    660000   4        1        2  \n"
     ]
    }
   ],
   "source": [
    "#import pandas as pd\n",
    "#import matplotlib.pyplot as plt\n",
    "#import seaborn as sn \n",
    "\n",
    "data = {'attempt_id':[1,1,1,1], 'type':['Ch1', 'Ch1', 'Ch2', 'Ch2'],'assignment_id':[1,1,1,1],'course_id':[100,100,100, 100],\n",
    "        'section_id':[1,1,1,1], 'created_at':['Sept-03-2018','Oct-06-2018','Nov-04-2018', 'Nov-028-2018'], 'duration':[600000,800000,450000, 660000], 'id':[1,2,3,4], 'page_id':[1,1,1,1], 'user_id':[1,1,2,2]}\n",
    "\n",
    "df = pd.DataFrame(data)\n",
    "print('Original Data Frame')\n",
    "print(df)\n",
    "\n",
    "\n"
   ]
  },
  {
   "cell_type": "code",
   "execution_count": 215,
   "metadata": {},
   "outputs": [
    {
     "name": "stdout",
     "output_type": "stream",
     "text": [
      "Outliers\n"
     ]
    },
    {
     "data": {
      "image/png": "[encoded data removed]",
      "text/plain": [
       "<Figure size 432x288 with 1 Axes>"
      ]
     },
     "metadata": {
      "needs_background": "light"
     },
     "output_type": "display_data"
    },
    {
     "name": "stdout",
     "output_type": "stream",
     "text": [
      "count         4.0\n",
      "mean     627500.0\n",
      "std      145000.0\n",
      "min      450000.0\n",
      "25%      562500.0\n",
      "50%      630000.0\n",
      "75%      695000.0\n",
      "max      800000.0\n",
      "Name: duration, dtype: float64\n",
      "\n",
      "Outlier-Free DataFrame\n",
      "   attempt_id type  assignment_id  course_id  section_id    created_at  \\\n",
      "0           1  Ch1              1        100           1  Sept-03-2018   \n",
      "1           1  Ch1              1        100           1   Oct-06-2018   \n",
      "2           1  Ch2              1        100           1   Nov-04-2018   \n",
      "3           1  Ch2              1        100           1  Nov-028-2018   \n",
      "\n",
      "   duration  id  page_id  user_id  \n",
      "0    600000   1        1        1  \n",
      "1    800000   2        1        1  \n",
      "2    450000   3        1        2  \n",
      "3    660000   4        1        2  \n"
     ]
    }
   ],
   "source": [
    "#Alright lets create the code the will find an elimate the outliers *This step should be done before the groupbys*\n",
    "print('Outliers')\n",
    "df['duration'].plot(kind = 'box')\n",
    "plt.show()\n",
    "print(df['duration'].describe())\n",
    "\n",
    "IQR = float(df['duration'].quantile([0.75])) - float(df['duration'].quantile([0.25]))\n",
    "upper_bound = float(df['duration'].quantile([0.75])) + 1.5*IQR\n",
    "lower_bound = float(df['duration'].quantile([0.25])) - 1.5*IQR\n",
    "#This code will parse over the whole data and only return the df that has things, I should record the outliers though?\n",
    "#no I should write down my code and then like a summary of what was removed e.g how many total and how many were removed \n",
    "#off of each end a long with how the mean and median changed. --> closer to a type of distribution like normal?\n",
    "\n",
    "df_thing = df[(df['duration'] < upper_bound) & (df['duration'] > lower_bound)]\n",
    "print('\\nOutlier-Free DataFrame')\n",
    "print(df_thing)\n",
    "\n"
   ]
  },
  {
   "cell_type": "code",
   "execution_count": 216,
   "metadata": {},
   "outputs": [
    {
     "name": "stdout",
     "output_type": "stream",
     "text": [
      "\n",
      "Grouped by Page\n",
      "                                  Average Duration\n",
      "assignment_id attempt_id page_id                  \n",
      "1             1          1                  627500\n",
      "\n",
      "Grouped by User\n",
      "                                          Average Duration\n",
      "user_id assignment_id attempt_id page_id                  \n",
      "1       1             1          1                  700000\n",
      "2       1             1          1                  555000\n"
     ]
    }
   ],
   "source": [
    "#Group the csv file to find the average page view times for each page and each student\n",
    "page_df = pd.DataFrame(df.groupby(['assignment_id', 'attempt_id', 'page_id'])['duration'].mean())\n",
    "print('\\nGrouped by Page')\n",
    "page_df.columns = ['Average Duration']\n",
    "print(page_df)\n",
    "\n",
    "user_df = pd.DataFrame(df.groupby(['user_id', 'assignment_id','attempt_id', 'page_id'])['duration'].mean())\n",
    "print('\\nGrouped by User')\n",
    "user_df.columns = ['Average Duration']\n",
    "print(user_df)\n"
   ]
  },
  {
   "cell_type": "code",
   "execution_count": 218,
   "metadata": {},
   "outputs": [
    {
     "name": "stdout",
     "output_type": "stream",
     "text": [
      "                                          Average Duration\n",
      "user_id assignment_id attempt_id page_id                  \n",
      "1       1             1          1                  700000\n"
     ]
    }
   ],
   "source": [
    "#For the User table, eliminate any row that are less than the average view time for that page\n",
    "rows_to_drop = []\n",
    "for index1, row1 in page_df.iterrows():\n",
    "    for index2, row2 in user_df.iterrows():\n",
    "        li = list(index2)\n",
    "        li.pop(0) #removes the user_id so it can compare [1,1,1] to list((1,1,1)) to find a page and attempt match\n",
    "        if li == list(index1):\n",
    "            if row2['Average Duration'] < row1['Average Duration']:\n",
    "                #Remove this row\n",
    "                rows_to_drop.append(index2)\n",
    "                \n",
    "                \n",
    "user_df = user_df.drop(rows_to_drop, axis = 0)\n",
    "print(user_df)\n",
    "\n"
   ]
  },
  {
   "cell_type": "code",
   "execution_count": 221,
   "metadata": {},
   "outputs": [
    {
     "data": {
      "text/plain": [
       "'\\nMy biggest problem with the code above is that I do not use any iterators or generator objects \\nfor loading this huge data set. I don\\'t know how my computer will handle this or if there is a better way to do this.\\n\\nI don\\'t think there is a good way to get around the groupbys. It should condense the data a little bit.\\nTo do that though, I have to have the whole data set in memory anyway. There may be a good way to do this, but \\nthis is the only way I can think to do it in the time limit. We\\'ll see how it performs in about twenty seconds.\\n\\nWhat is the code to save things to csv\\'s?\\n\\ndf.to_csv(\"name\")\\nThis should save it the same /springboard automatically\\nFile names\\n\\npage_views_cleaned\\navg_page_durations.csv\\npage_durations_by_user.csv\\n\\nQuestions:\\nShould I seperate them by attempt, I was not planning to yet, but that may be a good insight later on.\\nIf I do have to do that, should the names change. Maybe like V2 or something.\\n\\nI also need to clean this data up a little bit so that it is actually usable on the original data set.\\nI\\'ll just make a new notebook since I can still use this one for practice.\\n\\nI will not actually run anything on it. I\\'ll set it so that it only runs everything on a chunk. It will also have \\nthe save csv code commented out. That way it will demonstrate what I did in a nice environment while I do the actualy\\ncomputations in the terminal.\\n'"
      ]
     },
     "execution_count": 221,
     "metadata": {},
     "output_type": "execute_result"
    }
   ],
   "source": [
    "\"\"\"\n",
    "My biggest problem with the code above is that I do not use any iterators or generator objects \n",
    "for loading this huge data set. I don't know how my computer will handle this or if there is a better way to do this.\n",
    "\n",
    "I don't think there is a good way to get around the groupbys. It should condense the data a little bit.\n",
    "To do that though, I have to have the whole data set in memory anyway. There may be a good way to do this, but \n",
    "this is the only way I can think to do it in the time limit. We'll see how it performs in about twenty seconds.\n",
    "\n",
    "What is the code to save things to csv's?\n",
    "\n",
    "df.to_csv(\"name\")\n",
    "This should save it the same /springboard automatically\n",
    "File names\n",
    "\n",
    "page_views_cleaned\n",
    "avg_page_durations.csv\n",
    "page_durations_by_user.csv\n",
    "\n",
    "Questions:\n",
    "Should I seperate them by attempt, I was not planning to yet, but that may be a good insight later on.\n",
    "If I do have to do that, should the names change. Maybe like V2 or something.\n",
    "\n",
    "I also need to clean this data up a little bit so that it is actually usable on the original data set.\n",
    "I'll just make a new notebook since I can still use this one for practice.\n",
    "\n",
    "I will not actually run anything on it. I'll set it so that it only runs everything on a chunk. It will also have \n",
    "the save csv code commented out. That way it will demonstrate what I did in a nice environment while I do the actualy\n",
    "computations in the terminal.\n",
    "\"\"\""
   ]
  },
  {
   "cell_type": "code",
   "execution_count": null,
   "metadata": {},
   "outputs": [],
   "source": []
  }
 ],
 "metadata": {
  "kernelspec": {
   "display_name": "Python 3",
   "language": "python",
   "name": "python3"
  },
  "language_info": {
   "codemirror_mode": {
    "name": "ipython",
    "version": 3
   },
   "file_extension": ".py",
   "mimetype": "text/x-python",
   "name": "python",
   "nbconvert_exporter": "python",
   "pygments_lexer": "ipython3",
   "version": "3.7.3"
  }
 },
 "nbformat": 4,
 "nbformat_minor": 2
}
