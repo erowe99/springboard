{
 "cells": [
  {
   "cell_type": "markdown",
   "metadata": {},
   "source": [
    "# Unit 5: Data Storytelling\n",
    "\n",
    "### Get going by asking the following questions and looking for the answers with some code and plots\n",
    "\n",
    "(This will all eventually be basically a paper that describes what questions I want to answer. This will probably act very similar to a ReadMe file and it will outline my approach. Then at the end. I'll have a similar section that can be used to describe my findings and any further questions it has led me towards.)\n",
    " \n",
    "**Brainstorm:** \n",
    " \n",
    "Can you count something interesting?\n",
    "\n",
    "* This could include summary statistics for data\n",
    "* The number of kids who dropped the course or gave up\n",
    "    * What period did most kids stop being active?\n",
    "    * Did these students have lower average durations on assessments\n",
    "* Boxplot of duration\n",
    "* Boxplot of grades (before and after cleaning)\n",
    "* Try to see the spreads using histograms/bargraphs/boxplots for grades by type of assignmnet like quiz, assessment, project, rando etc.\n",
    "\n",
    "Can you find some trends (high, low, increase, decrease, anomalies)?\n",
    "\n",
    "* Increases in click history\n",
    "* Trend for average page view duration (maybe use created_at instead of assessments? also, regardless of attempts too)\n",
    "* Trend for grades on minor assessments over the semester\n",
    "* Could plot all of the durations for assignments x = duration, y = assignments in ascending id order.\n",
    "    * Could analyze later what the id and assignments actually are\n",
    "    * Could also break down by students who were above or below the average into seperate graphs\n",
    "* y = grade on assessment, x = duration (have to generalize this)(It would be too hard to make a thousand graphs for this)\n",
    "* y = grade on assessment, x = number of attempts (how to graph this)\n",
    "\n",
    "\n",
    "Can you make a bar plot or a histogram?\n",
    "\n",
    "* bar plot of grades by section\n",
    "* plot final course grades as a histogram\n",
    "* plot grades (averages) as a trend (e.g a students grade over time, or averages on quizzes, assessments, projects etc.)\n",
    "\n",
    "Can you compare two related quantities?\n",
    "\n",
    "* Compare assessment, quiz, rando assignment, and test grades (Have to learn what these mean first)\n",
    "    * see if it makes a difference to have below or above average duration for students\n",
    " \n",
    "Can you make a scatterplot? (I guess do not actually do the linear regression in this section. Save that for Project 6.4)\n",
    "\n",
    "* linear regression between amount of attempts and grades (of any kind, it can be broken down)\n",
    "\n",
    "* linear regression between amount of time spent on an assessment and grades \n",
    "\n",
    "* Do assessment grades predict quiz and test grades?\n",
    " \n",
    "Can you make a time-series plot?\n",
    "\n",
    "* This will be about the same as trends. A time series would only work for the data sets that have a created_at field which are: \n",
    "Assessment Response Log, Assessment Page Views, Click History\n",
    "* Note: There are trends for grades that would follow a succession of assignments, not necessarily a datetime object\n",
    "* click history over time (would have to clean first and then prep it)\n",
    "    * if click history goes up or down, is there a response seen somewhere else in the data\n",
    "        * if average click history rises later, is that because low-activity students dropped the class (or didn't)\n",
    " \n",
    "\n",
    "Other:\n",
    "                                                                                                         \n",
    "Mentor Question: Does the time spent on a page of an assessment correlate with the final grade in the class?\n",
    "\n",
    "Does the amount of attempts on an assessment corelate with the final grade in the class?\n",
    "\n",
    "Notes about a trend in grades?\n",
    "\n",
    "* The grades sheet has assessments, rando assignments, quizzes, tests, and a final assessment\n",
    "* Which one of these is indicative of student success/failure\n",
    "* Is it just completing the quizzes and showing up gets you a better grade\n",
    "* Really, it always boils down to participation, especially for a class like this\n",
    "* If it is not participation then what could it be?\n",
    "\n",
    "Is there a trend for view times? does the amount of time spent and amount of attempts decrease over the course of the semester?\n",
    "                                                                                                         \n",
    "                                                                                                         \n",
    "I still have to think about what to do with Assessment Response Log; on its own and how it can augment the other data sets. \n",
    "                                                                                                         \n",
    "I can also still explore more columns. Go through the data dictionary and make more notes of things to look at.                                                                                                          \n"
   ]
  },
  {
   "cell_type": "code",
   "execution_count": 13,
   "metadata": {},
   "outputs": [],
   "source": [
    "#Import libraries for data analysis and visualization\n",
    "import pandas as pd\n",
    "import matplotlib.pyplot as plt\n",
    "import seaborn as sns"
   ]
  },
  {
   "cell_type": "code",
   "execution_count": 10,
   "metadata": {},
   "outputs": [
    {
     "data": {
      "text/plain": [
       "'\\nEDA Section 1: Assessment Page Views\\n'"
      ]
     },
     "execution_count": 10,
     "metadata": {},
     "output_type": "execute_result"
    }
   ],
   "source": [
    "\"\"\"\n",
    "EDA Section 1: Assessment Page Views\n",
    "\"\"\""
   ]
  },
  {
   "cell_type": "code",
   "execution_count": 11,
   "metadata": {},
   "outputs": [
    {
     "data": {
      "text/plain": [
       "'\\nEDA Section 2: Course Grades\\n'"
      ]
     },
     "execution_count": 11,
     "metadata": {},
     "output_type": "execute_result"
    }
   ],
   "source": [
    "\"\"\"\n",
    "EDA Section 2: Course Grades\n",
    "\"\"\""
   ]
  },
  {
   "cell_type": "code",
   "execution_count": 12,
   "metadata": {},
   "outputs": [
    {
     "data": {
      "text/plain": [
       "'\\nEDA Section 3: Click History\\n'"
      ]
     },
     "execution_count": 12,
     "metadata": {},
     "output_type": "execute_result"
    }
   ],
   "source": [
    "\"\"\"\n",
    "EDA Section 3: Click History\n",
    "\"\"\""
   ]
  },
  {
   "cell_type": "code",
   "execution_count": null,
   "metadata": {},
   "outputs": [],
   "source": []
  },
  {
   "cell_type": "markdown",
   "metadata": {},
   "source": [
    "### Conclusion\n",
    "\n",
    "Just report my findings here and what I might look into going forward."
   ]
  },
  {
   "cell_type": "code",
   "execution_count": null,
   "metadata": {},
   "outputs": [],
   "source": []
  }
 ],
 "metadata": {
  "kernelspec": {
   "display_name": "Python 3",
   "language": "python",
   "name": "python3"
  },
  "language_info": {
   "codemirror_mode": {
    "name": "ipython",
    "version": 3
   },
   "file_extension": ".py",
   "mimetype": "text/x-python",
   "name": "python",
   "nbconvert_exporter": "python",
   "pygments_lexer": "ipython3",
   "version": "3.7.3"
  }
 },
 "nbformat": 4,
 "nbformat_minor": 2
}
