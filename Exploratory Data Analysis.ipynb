{
 "cells": [
  {
   "cell_type": "markdown",
   "metadata": {},
   "source": [
    "# Unit 5: Data Storytelling\n",
    "\n",
    "### Get going by asking the following questions and looking for the answers with some code and plots\n",
    "\n",
    "(This will all eventually be basically a paper that describes what questions I want to answer. This will probably act very similar to a ReadMe file and it will outline my approach. Then at the end. I'll have a similar section that can be used to describe my findings and any further questions it has led me towards.)\n",
    "\n",
    "Can you count something interesting?\n",
    "\n",
    "* Not really\n",
    "\n",
    "Can you find some trends (high, low, increase, decrease, anomalies)?\n",
    "\n",
    "* Increases in click history, trend for average page view duration, trend for grades on minor assessments over the semester\n",
    "\n",
    "Can you make a bar plot or a histogram?\n",
    "\n",
    "* None that would help much for this project, maybe grades by section or something\n",
    "\n",
    "Can you compare two related quantities?\n",
    "\n",
    "* Compare assessment, quiz, rando assignment, and test grades\n",
    " \n",
    "Can you make a scatterplot?\n",
    "\n",
    "* linear regression between amount of attempts and grades (of any kind, it can be broken down)\n",
    "\n",
    "* linear regression between amount of time spent on an assessment and grades \n",
    "\n",
    "* Do assessment grades predict quiz and test grades?\n",
    " \n",
    "Can you make a time-series plot?\n",
    "\n",
    "* This will be about the same as trends. A time series would only work for the data sets that have a created_at field which are: \n",
    "Assessment Response Log, Assessment Page Views, Click History\n",
    "* Note: There are trends for grades that would follow a succession of assignments, not necessarily a datetime object\n",
    " \n",
    "**Brainstorm:** \n",
    "\n",
    "Mentor Question: Does the time spent on a page of an assessment correlate with the final grade in the class?\n",
    "\n",
    "Does the amount of attempts on an assessment corelate with the final grade in the class?\n",
    "\n",
    "Something about click history?\n",
    "\n",
    "Something about a trend in grades?\n",
    "\n",
    "* The grades sheet has assessments, rando assignments, quizzes, tests, and a final assessment\n",
    "* Which one of these is indicative of student success/failure\n",
    "* Is it just completing the quizzes and showing up gets you a better grade\n",
    "* Really, it always boils down to participation, especially for a class like this\n",
    "* If it is not participation then what could it be?\n",
    "\n",
    "Is there a trend for view times? do the amount of time spend and amount of attempts decrease over the course of the semester?\n"
   ]
  },
  {
   "cell_type": "code",
   "execution_count": null,
   "metadata": {},
   "outputs": [],
   "source": [
    "#Import libraries for data analysis and visualization\n",
    "import pandas\n",
    "import matplotlib.pyplot as plt\n",
    "import seaborn as sns"
   ]
  },
  {
   "cell_type": "code",
   "execution_count": null,
   "metadata": {},
   "outputs": [],
   "source": []
  }
 ],
 "metadata": {
  "kernelspec": {
   "display_name": "Python 3",
   "language": "python",
   "name": "python3"
  },
  "language_info": {
   "codemirror_mode": {
    "name": "ipython",
    "version": 3
   },
   "file_extension": ".py",
   "mimetype": "text/x-python",
   "name": "python",
   "nbconvert_exporter": "python",
   "pygments_lexer": "ipython3",
   "version": "3.7.3"
  }
 },
 "nbformat": 4,
 "nbformat_minor": 2
}
