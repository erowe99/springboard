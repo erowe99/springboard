{
 "cells": [
  {
   "cell_type": "markdown",
   "metadata": {},
   "source": [
    "# Introduction:\n",
    "\n",
    "Establish the questions that are being asked and the way they will be answer. Why are we asking these questions and why did I choose this route to solve them?\n",
    "\n",
    "Outline the rest of the paper."
   ]
  },
  {
   "cell_type": "code",
   "execution_count": 70,
   "metadata": {},
   "outputs": [],
   "source": [
    "#Import libraries\n",
    "import pandas as pd\n",
    "import numpy as np\n",
    "import matplotlib.pyplot as plt\n",
    "import seaborn as sns\n",
    "import pendulum\n",
    "import datetime\n",
    "from scipy import stats"
   ]
  },
  {
   "cell_type": "markdown",
   "metadata": {},
   "source": [
    "****\n",
    "### Question 1:"
   ]
  },
  {
   "cell_type": "code",
   "execution_count": 71,
   "metadata": {},
   "outputs": [],
   "source": [
    "\"\"\"\n",
    "Import Data\n",
    "\"\"\"\n",
    "#Assessment Page Views\n",
    "page_views = pd.read_csv('/Users/ethanrowe/Dev/springboard_data/KSU Assessment Page Views Fall 2018 Clean.csv', nrows = 10000, index_col = 0)\n",
    "#Final Grade Export\n",
    "grades = pd.read_csv('/Users/ethanrowe/Dev/springboard_data/KSU Student Final Grades 2018 Anonymous.csv', index_col = 0)\n",
    "#\n",
    "grades_f2f_quiz = pd.read_csv('/Users/ethanrowe/Dev/springboard_data/grades detailed/Course Grades (Detail View) Fall 2018.xlsx - F2F Quizzes.csv', index_col = 0)\n",
    "#\n",
    "grades_online = pd.read_csv('/Users/ethanrowe/Dev/springboard_data/grades detailed/Course Grades (Detail View) Fall 2018.xlsx - Online.csv', index_col = 0)\n",
    "#\n",
    "grades_f2f_test = pd.read_csv('/Users/ethanrowe/Dev/springboard_data/grades detailed/Course Grades (Detail View) Fall 2018.xlsx - F2F Tests.csv', index_col = 0)\n"
   ]
  },
  {
   "cell_type": "code",
   "execution_count": 72,
   "metadata": {},
   "outputs": [
    {
     "data": {
      "text/html": [
       "<div>\n",
       "<style scoped>\n",
       "    .dataframe tbody tr th:only-of-type {\n",
       "        vertical-align: middle;\n",
       "    }\n",
       "\n",
       "    .dataframe tbody tr th {\n",
       "        vertical-align: top;\n",
       "    }\n",
       "\n",
       "    .dataframe thead th {\n",
       "        text-align: right;\n",
       "    }\n",
       "</style>\n",
       "<table border=\"1\" class=\"dataframe\">\n",
       "  <thead>\n",
       "    <tr style=\"text-align: right;\">\n",
       "      <th></th>\n",
       "      <th>assessment_attempt_id</th>\n",
       "      <th>assessment_type</th>\n",
       "      <th>canvas_assignment_id</th>\n",
       "      <th>canvas_course_id</th>\n",
       "      <th>canvas_section_id</th>\n",
       "      <th>created_at</th>\n",
       "      <th>duration</th>\n",
       "      <th>id</th>\n",
       "      <th>load_time</th>\n",
       "      <th>page_id</th>\n",
       "      <th>raw_lti_param_ext_outcome_submission_submitted_at_accepted</th>\n",
       "      <th>submit_time</th>\n",
       "      <th>user_param_external_user_id</th>\n",
       "    </tr>\n",
       "  </thead>\n",
       "  <tbody>\n",
       "    <tr>\n",
       "      <th>0</th>\n",
       "      <td>289769</td>\n",
       "      <td>MentalHealthChapterAssessment</td>\n",
       "      <td>42549.0</td>\n",
       "      <td>640</td>\n",
       "      <td>1193.0</td>\n",
       "      <td>2018-11-09 10:37:31 UTC</td>\n",
       "      <td>1277.0</td>\n",
       "      <td>6475582</td>\n",
       "      <td>2018-11-09 10:37:37 UTC</td>\n",
       "      <td>76</td>\n",
       "      <td>True</td>\n",
       "      <td>2018-11-09 10:37:39 UTC</td>\n",
       "      <td>38922</td>\n",
       "    </tr>\n",
       "    <tr>\n",
       "      <th>1</th>\n",
       "      <td>286863</td>\n",
       "      <td>KsuStressChapterAssessment</td>\n",
       "      <td>41440.0</td>\n",
       "      <td>641</td>\n",
       "      <td>1196.0</td>\n",
       "      <td>2018-11-09 10:38:07 UTC</td>\n",
       "      <td>2720.0</td>\n",
       "      <td>6475589</td>\n",
       "      <td>2018-11-09 10:38:03 UTC</td>\n",
       "      <td>50</td>\n",
       "      <td>True</td>\n",
       "      <td>2018-11-09 10:38:06 UTC</td>\n",
       "      <td>37374</td>\n",
       "    </tr>\n",
       "    <tr>\n",
       "      <th>2</th>\n",
       "      <td>289769</td>\n",
       "      <td>MentalHealthChapterAssessment</td>\n",
       "      <td>42549.0</td>\n",
       "      <td>640</td>\n",
       "      <td>1193.0</td>\n",
       "      <td>2018-11-09 10:39:47 UTC</td>\n",
       "      <td>736.0</td>\n",
       "      <td>6475595</td>\n",
       "      <td>2018-11-09 10:39:53 UTC</td>\n",
       "      <td>78</td>\n",
       "      <td>True</td>\n",
       "      <td>2018-11-09 10:39:54 UTC</td>\n",
       "      <td>38922</td>\n",
       "    </tr>\n",
       "    <tr>\n",
       "      <th>3</th>\n",
       "      <td>289769</td>\n",
       "      <td>MentalHealthChapterAssessment</td>\n",
       "      <td>42549.0</td>\n",
       "      <td>640</td>\n",
       "      <td>1193.0</td>\n",
       "      <td>2018-11-09 10:41:25 UTC</td>\n",
       "      <td>61.0</td>\n",
       "      <td>6475621</td>\n",
       "      <td>2018-11-09 10:41:32 UTC</td>\n",
       "      <td>85</td>\n",
       "      <td>True</td>\n",
       "      <td>2018-11-09 10:41:32 UTC</td>\n",
       "      <td>38922</td>\n",
       "    </tr>\n",
       "    <tr>\n",
       "      <th>4</th>\n",
       "      <td>289769</td>\n",
       "      <td>MentalHealthChapterAssessment</td>\n",
       "      <td>42549.0</td>\n",
       "      <td>640</td>\n",
       "      <td>1193.0</td>\n",
       "      <td>2018-11-09 10:41:26 UTC</td>\n",
       "      <td>22.0</td>\n",
       "      <td>6475623</td>\n",
       "      <td>2018-11-09 10:41:34 UTC</td>\n",
       "      <td>85</td>\n",
       "      <td>True</td>\n",
       "      <td>2018-11-09 10:41:34 UTC</td>\n",
       "      <td>38922</td>\n",
       "    </tr>\n",
       "  </tbody>\n",
       "</table>\n",
       "</div>"
      ],
      "text/plain": [
       "   assessment_attempt_id                assessment_type  canvas_assignment_id  \\\n",
       "0                 289769  MentalHealthChapterAssessment               42549.0   \n",
       "1                 286863     KsuStressChapterAssessment               41440.0   \n",
       "2                 289769  MentalHealthChapterAssessment               42549.0   \n",
       "3                 289769  MentalHealthChapterAssessment               42549.0   \n",
       "4                 289769  MentalHealthChapterAssessment               42549.0   \n",
       "\n",
       "   canvas_course_id  canvas_section_id               created_at  duration  \\\n",
       "0               640             1193.0  2018-11-09 10:37:31 UTC    1277.0   \n",
       "1               641             1196.0  2018-11-09 10:38:07 UTC    2720.0   \n",
       "2               640             1193.0  2018-11-09 10:39:47 UTC     736.0   \n",
       "3               640             1193.0  2018-11-09 10:41:25 UTC      61.0   \n",
       "4               640             1193.0  2018-11-09 10:41:26 UTC      22.0   \n",
       "\n",
       "        id                load_time  page_id  \\\n",
       "0  6475582  2018-11-09 10:37:37 UTC       76   \n",
       "1  6475589  2018-11-09 10:38:03 UTC       50   \n",
       "2  6475595  2018-11-09 10:39:53 UTC       78   \n",
       "3  6475621  2018-11-09 10:41:32 UTC       85   \n",
       "4  6475623  2018-11-09 10:41:34 UTC       85   \n",
       "\n",
       "   raw_lti_param_ext_outcome_submission_submitted_at_accepted  \\\n",
       "0                                               True            \n",
       "1                                               True            \n",
       "2                                               True            \n",
       "3                                               True            \n",
       "4                                               True            \n",
       "\n",
       "               submit_time  user_param_external_user_id  \n",
       "0  2018-11-09 10:37:39 UTC                        38922  \n",
       "1  2018-11-09 10:38:06 UTC                        37374  \n",
       "2  2018-11-09 10:39:54 UTC                        38922  \n",
       "3  2018-11-09 10:41:32 UTC                        38922  \n",
       "4  2018-11-09 10:41:34 UTC                        38922  "
      ]
     },
     "execution_count": 72,
     "metadata": {},
     "output_type": "execute_result"
    }
   ],
   "source": [
    "page_views.head()"
   ]
  },
  {
   "cell_type": "code",
   "execution_count": 73,
   "metadata": {
    "scrolled": true
   },
   "outputs": [
    {
     "data": {
      "text/html": [
       "<div>\n",
       "<style scoped>\n",
       "    .dataframe tbody tr th:only-of-type {\n",
       "        vertical-align: middle;\n",
       "    }\n",
       "\n",
       "    .dataframe tbody tr th {\n",
       "        vertical-align: top;\n",
       "    }\n",
       "\n",
       "    .dataframe thead th {\n",
       "        text-align: right;\n",
       "    }\n",
       "</style>\n",
       "<table border=\"1\" class=\"dataframe\">\n",
       "  <thead>\n",
       "    <tr style=\"text-align: right;\">\n",
       "      <th></th>\n",
       "      <th>assessment_type</th>\n",
       "      <th>avg_duration</th>\n",
       "    </tr>\n",
       "  </thead>\n",
       "  <tbody>\n",
       "    <tr>\n",
       "      <th>0</th>\n",
       "      <td>BehaviorChangeChapterAssessment</td>\n",
       "      <td>5957.079470</td>\n",
       "    </tr>\n",
       "    <tr>\n",
       "      <th>1</th>\n",
       "      <td>BodyMassIndexAssessment</td>\n",
       "      <td>6224.692308</td>\n",
       "    </tr>\n",
       "    <tr>\n",
       "      <th>2</th>\n",
       "      <td>CalorieBmrAssessment</td>\n",
       "      <td>7815.461538</td>\n",
       "    </tr>\n",
       "    <tr>\n",
       "      <th>3</th>\n",
       "      <td>CurlUpAssessment</td>\n",
       "      <td>9241.600000</td>\n",
       "    </tr>\n",
       "    <tr>\n",
       "      <th>4</th>\n",
       "      <td>FamilyHistoryAssessment</td>\n",
       "      <td>25365.000000</td>\n",
       "    </tr>\n",
       "  </tbody>\n",
       "</table>\n",
       "</div>"
      ],
      "text/plain": [
       "                   assessment_type  avg_duration\n",
       "0  BehaviorChangeChapterAssessment   5957.079470\n",
       "1          BodyMassIndexAssessment   6224.692308\n",
       "2             CalorieBmrAssessment   7815.461538\n",
       "3                 CurlUpAssessment   9241.600000\n",
       "4          FamilyHistoryAssessment  25365.000000"
      ]
     },
     "execution_count": 73,
     "metadata": {},
     "output_type": "execute_result"
    }
   ],
   "source": [
    "\"\"\"\n",
    "Create dataframe grouped by assessment_type and average duration\n",
    "\"\"\"\n",
    "type_avg_duration = pd.DataFrame(page_views.groupby(['assessment_type'])['duration'].mean())\n",
    "type_avg_duration = type_avg_duration.reset_index()\n",
    "type_avg_duration.columns = ['assessment_type', 'avg_duration']\n",
    "type_avg_duration.head()"
   ]
  },
  {
   "cell_type": "code",
   "execution_count": 74,
   "metadata": {},
   "outputs": [
    {
     "data": {
      "text/plain": [
       "\"\\nFind a way to identify students above and below this duration. State my goals and what I actually want to find out\\ntomorrow morning. I'll have to talk with Jenn and narrow it down again.\\nCome up with concrete questions to ask and a plan of action to show her.\\nStart work at 10:30 sharp. Work until about 11:15. Then start getting ready for the rapids. I can take the\\nlaptop in the car if necessary for work. It'll be a 1hr 15min drive.\\n\\nwork in the car, so charge my laptop. Decide what I want to do in the car first.\\n\\n1. seperate all entries into above and below the average for that assignment. Might take a hefty function for that.\\n    - Above will be a df and below will be a df\\n2. Find a way to match the assessment_type entry and page_view to the student's grade on the assessment. Do a merge?\\n3. Graph the grade distribution for above and below. Only take first attempts though? Second attempts should be \\nseperated into their own graphs I think\\n    - Or maybe group by student and assessment_type and then average the duration of all their attempts. Then start \\n    filtering them out of the above and below. I feel like this removes something important, so I won't do that.\\n    - The dataframe is also an entry for a page_view that is on an assessment. So the assessment grade will be \\n    related to an assessment_type, attempt_id, and user_id I think. The highest score or the last attempt is what they will\\n    keep. Do they really keep the grade for each attempt? how would I get that information? assessment_responses?\\n    - Keep it simple stupid. I should average all of their attempts or maybe add them together to take into account\\n    the 'total' time they spent on the assessment.\\n    - I could create a similar thing that does user_id --> assessment_type --> number of attempts and correlate that with \\n    grade on the assessment.\\n    * Then I could need to find the average number of attempts or just draw attempt number with a better grade on the guided\\n    learning which would make sense since they should be getting better at it. I should really correlate the average number of \\n    attempts each student too on the assessments in guided learning and then correlate that with their final grade in the class,\\n    their average quiz grades, or maybe their midterm grade.\\n    * Using duration, I need to look at the grades thing again. It seems useless to correlate it to a grade in guided learning\\n    since it is mostly completion and more attempts would obviously lead to a better score since you can just guess 4-5 \\n    times to get the corect answer. I propose getting the average time a student spent on the assessment_type, and compare that too\\n    the average for all students. Then group the students into two groups of above and below. Then just test the \\n    correlation with various factors. I have to do some linear regressions and confidence intervals and margin of error\\n    and what not. I could also do a hypothesis test whether the mean grade on stuff between the two is the same or not\\n    with a t-test hypothesis test using the mean. I would do the same confidence interval and margin of error.\\n    That would be pretty dope analysis. \\n    - The other two questions can be more for just perceivant. How about for this project. I turn it in with just two\\n    questions answered. Then start working on the milestone report while also brainstorming for the third questions.\\n    I can turn it in a little bit later, but I need to get a move on with my progress.\\n    \\nTo-do: create a dataframe of average attempts for each student for all assessment_types\\ncreate a dataframe of average time spent on each assessment_type. \\nThen an average for each student across all assessment_types.\\nAfter that I can focus on correlating things with different types of grades and also bucketing students and stuff.\\n4. How to get these on like the same axis or something.\\n\\n\""
      ]
     },
     "execution_count": 74,
     "metadata": {},
     "output_type": "execute_result"
    }
   ],
   "source": [
    "\"\"\"\n",
    "Find a way to identify students above and below this duration. State my goals and what I actually want to find out\n",
    "tomorrow morning. I'll have to talk with Jenn and narrow it down again.\n",
    "Come up with concrete questions to ask and a plan of action to show her.\n",
    "Start work at 10:30 sharp. Work until about 11:15. Then start getting ready for the rapids. I can take the\n",
    "laptop in the car if necessary for work. It'll be a 1hr 15min drive.\n",
    "\n",
    "work in the car, so charge my laptop. Decide what I want to do in the car first.\n",
    "\n",
    "1. seperate all entries into above and below the average for that assignment. Might take a hefty function for that.\n",
    "    - Above will be a df and below will be a df\n",
    "2. Find a way to match the assessment_type entry and page_view to the student's grade on the assessment. Do a merge?\n",
    "3. Graph the grade distribution for above and below. Only take first attempts though? Second attempts should be \n",
    "seperated into their own graphs I think\n",
    "    - Or maybe group by student and assessment_type and then average the duration of all their attempts. Then start \n",
    "    filtering them out of the above and below. I feel like this removes something important, so I won't do that.\n",
    "    - The dataframe is also an entry for a page_view that is on an assessment. So the assessment grade will be \n",
    "    related to an assessment_type, attempt_id, and user_id I think. The highest score or the last attempt is what they will\n",
    "    keep. Do they really keep the grade for each attempt? how would I get that information? assessment_responses?\n",
    "    - Keep it simple stupid. I should average all of their attempts or maybe add them together to take into account\n",
    "    the 'total' time they spent on the assessment.\n",
    "    - I could create a similar thing that does user_id --> assessment_type --> number of attempts and correlate that with \n",
    "    grade on the assessment.\n",
    "    * Then I could need to find the average number of attempts or just draw attempt number with a better grade on the guided\n",
    "    learning which would make sense since they should be getting better at it. I should really correlate the average number of \n",
    "    attempts each student too on the assessments in guided learning and then correlate that with their final grade in the class,\n",
    "    their average quiz grades, or maybe their midterm grade.\n",
    "    * Using duration, I need to look at the grades thing again. It seems useless to correlate it to a grade in guided learning\n",
    "    since it is mostly completion and more attempts would obviously lead to a better score since you can just guess 4-5 \n",
    "    times to get the corect answer. I propose getting the average time a student spent on the assessment_type, and compare that too\n",
    "    the average for all students. Then group the students into two groups of above and below. Then just test the \n",
    "    correlation with various factors. I have to do some linear regressions and confidence intervals and margin of error\n",
    "    and what not. I could also do a hypothesis test whether the mean grade on stuff between the two is the same or not\n",
    "    with a t-test hypothesis test using the mean. I would do the same confidence interval and margin of error.\n",
    "    That would be pretty dope analysis. \n",
    "    - The other two questions can be more for just perceivant. How about for this project. I turn it in with just two\n",
    "    questions answered. Then start working on the milestone report while also brainstorming for the third questions.\n",
    "    I can turn it in a little bit later, but I need to get a move on with my progress.\n",
    "    \n",
    "To-do: create a dataframe of average attempts for each student for all assessment_types\n",
    "create a dataframe of average time spent on each assessment_type. \n",
    "Then an average for each student across all assessment_types.\n",
    "After that I can focus on correlating things with different types of grades and also bucketing students and stuff.\n",
    "4. How to get these on like the same axis or something.\n",
    "\n",
    "\"\"\""
   ]
  },
  {
   "cell_type": "code",
   "execution_count": 75,
   "metadata": {},
   "outputs": [
    {
     "data": {
      "text/html": [
       "<div>\n",
       "<style scoped>\n",
       "    .dataframe tbody tr th:only-of-type {\n",
       "        vertical-align: middle;\n",
       "    }\n",
       "\n",
       "    .dataframe tbody tr th {\n",
       "        vertical-align: top;\n",
       "    }\n",
       "\n",
       "    .dataframe thead th {\n",
       "        text-align: right;\n",
       "    }\n",
       "</style>\n",
       "<table border=\"1\" class=\"dataframe\">\n",
       "  <thead>\n",
       "    <tr style=\"text-align: right;\">\n",
       "      <th></th>\n",
       "      <th>user_param_external_user_id</th>\n",
       "      <th>assessment_type</th>\n",
       "      <th>avg_duration</th>\n",
       "    </tr>\n",
       "  </thead>\n",
       "  <tbody>\n",
       "    <tr>\n",
       "      <th>0</th>\n",
       "      <td>2168</td>\n",
       "      <td>KsuNutritionChapterAssessment</td>\n",
       "      <td>2833.333333</td>\n",
       "    </tr>\n",
       "    <tr>\n",
       "      <th>1</th>\n",
       "      <td>2168</td>\n",
       "      <td>KsuStressChapterAssessment</td>\n",
       "      <td>271.000000</td>\n",
       "    </tr>\n",
       "    <tr>\n",
       "      <th>2</th>\n",
       "      <td>2886</td>\n",
       "      <td>KsuWeightManagementChapterAssessment</td>\n",
       "      <td>15274.000000</td>\n",
       "    </tr>\n",
       "    <tr>\n",
       "      <th>3</th>\n",
       "      <td>2899</td>\n",
       "      <td>SyllabusGeneralChapterAssessment</td>\n",
       "      <td>2890.500000</td>\n",
       "    </tr>\n",
       "    <tr>\n",
       "      <th>4</th>\n",
       "      <td>3562</td>\n",
       "      <td>BehaviorChangeChapterAssessment</td>\n",
       "      <td>2675.500000</td>\n",
       "    </tr>\n",
       "  </tbody>\n",
       "</table>\n",
       "</div>"
      ],
      "text/plain": [
       "   user_param_external_user_id                       assessment_type  \\\n",
       "0                         2168         KsuNutritionChapterAssessment   \n",
       "1                         2168            KsuStressChapterAssessment   \n",
       "2                         2886  KsuWeightManagementChapterAssessment   \n",
       "3                         2899      SyllabusGeneralChapterAssessment   \n",
       "4                         3562       BehaviorChangeChapterAssessment   \n",
       "\n",
       "   avg_duration  \n",
       "0   2833.333333  \n",
       "1    271.000000  \n",
       "2  15274.000000  \n",
       "3   2890.500000  \n",
       "4   2675.500000  "
      ]
     },
     "execution_count": 75,
     "metadata": {},
     "output_type": "execute_result"
    }
   ],
   "source": [
    "student_avg_duration = pd.DataFrame(page_views.groupby(['user_param_external_user_id','assessment_type'])['duration'].mean())\n",
    "student_avg_duration = student_avg_duration.reset_index()\n",
    "student_avg_duration.columns = ['user_param_external_user_id','assessment_type', 'avg_duration']\n",
    "student_avg_duration.head()\n",
    "\n"
   ]
  },
  {
   "cell_type": "code",
   "execution_count": 76,
   "metadata": {},
   "outputs": [
    {
     "data": {
      "text/html": [
       "<div>\n",
       "<style scoped>\n",
       "    .dataframe tbody tr th:only-of-type {\n",
       "        vertical-align: middle;\n",
       "    }\n",
       "\n",
       "    .dataframe tbody tr th {\n",
       "        vertical-align: top;\n",
       "    }\n",
       "\n",
       "    .dataframe thead th {\n",
       "        text-align: right;\n",
       "    }\n",
       "</style>\n",
       "<table border=\"1\" class=\"dataframe\">\n",
       "  <thead>\n",
       "    <tr style=\"text-align: right;\">\n",
       "      <th></th>\n",
       "      <th>user_param_external_user_id</th>\n",
       "      <th>avg_duration</th>\n",
       "    </tr>\n",
       "  </thead>\n",
       "  <tbody>\n",
       "    <tr>\n",
       "      <th>0</th>\n",
       "      <td>2168</td>\n",
       "      <td>1808.4</td>\n",
       "    </tr>\n",
       "    <tr>\n",
       "      <th>1</th>\n",
       "      <td>2886</td>\n",
       "      <td>15274.0</td>\n",
       "    </tr>\n",
       "    <tr>\n",
       "      <th>2</th>\n",
       "      <td>2899</td>\n",
       "      <td>2890.5</td>\n",
       "    </tr>\n",
       "    <tr>\n",
       "      <th>3</th>\n",
       "      <td>3562</td>\n",
       "      <td>5685.8</td>\n",
       "    </tr>\n",
       "    <tr>\n",
       "      <th>4</th>\n",
       "      <td>3892</td>\n",
       "      <td>559.4</td>\n",
       "    </tr>\n",
       "  </tbody>\n",
       "</table>\n",
       "</div>"
      ],
      "text/plain": [
       "   user_param_external_user_id  avg_duration\n",
       "0                         2168        1808.4\n",
       "1                         2886       15274.0\n",
       "2                         2899        2890.5\n",
       "3                         3562        5685.8\n",
       "4                         3892         559.4"
      ]
     },
     "execution_count": 76,
     "metadata": {},
     "output_type": "execute_result"
    }
   ],
   "source": [
    "student_avg_duration_all = pd.DataFrame(page_views.groupby(['user_param_external_user_id'])['duration'].mean())\n",
    "student_avg_duration_all = student_avg_duration_all.reset_index()\n",
    "student_avg_duration_all.columns = ['user_param_external_user_id', 'avg_duration']\n",
    "student_avg_duration_all.head()"
   ]
  },
  {
   "cell_type": "code",
   "execution_count": 77,
   "metadata": {},
   "outputs": [
    {
     "data": {
      "text/html": [
       "<div>\n",
       "<style scoped>\n",
       "    .dataframe tbody tr th:only-of-type {\n",
       "        vertical-align: middle;\n",
       "    }\n",
       "\n",
       "    .dataframe tbody tr th {\n",
       "        vertical-align: top;\n",
       "    }\n",
       "\n",
       "    .dataframe thead th {\n",
       "        text-align: right;\n",
       "    }\n",
       "</style>\n",
       "<table border=\"1\" class=\"dataframe\">\n",
       "  <thead>\n",
       "    <tr style=\"text-align: right;\">\n",
       "      <th></th>\n",
       "      <th>user_param_external_user_id</th>\n",
       "      <th>assessment_type</th>\n",
       "      <th>attempt_count</th>\n",
       "    </tr>\n",
       "  </thead>\n",
       "  <tbody>\n",
       "    <tr>\n",
       "      <th>0</th>\n",
       "      <td>2168</td>\n",
       "      <td>KsuNutritionChapterAssessment</td>\n",
       "      <td>3</td>\n",
       "    </tr>\n",
       "    <tr>\n",
       "      <th>1</th>\n",
       "      <td>2168</td>\n",
       "      <td>KsuStressChapterAssessment</td>\n",
       "      <td>2</td>\n",
       "    </tr>\n",
       "    <tr>\n",
       "      <th>2</th>\n",
       "      <td>2886</td>\n",
       "      <td>KsuWeightManagementChapterAssessment</td>\n",
       "      <td>1</td>\n",
       "    </tr>\n",
       "    <tr>\n",
       "      <th>3</th>\n",
       "      <td>2899</td>\n",
       "      <td>SyllabusGeneralChapterAssessment</td>\n",
       "      <td>2</td>\n",
       "    </tr>\n",
       "    <tr>\n",
       "      <th>4</th>\n",
       "      <td>3562</td>\n",
       "      <td>BehaviorChangeChapterAssessment</td>\n",
       "      <td>6</td>\n",
       "    </tr>\n",
       "  </tbody>\n",
       "</table>\n",
       "</div>"
      ],
      "text/plain": [
       "   user_param_external_user_id                       assessment_type  \\\n",
       "0                         2168         KsuNutritionChapterAssessment   \n",
       "1                         2168            KsuStressChapterAssessment   \n",
       "2                         2886  KsuWeightManagementChapterAssessment   \n",
       "3                         2899      SyllabusGeneralChapterAssessment   \n",
       "4                         3562       BehaviorChangeChapterAssessment   \n",
       "\n",
       "   attempt_count  \n",
       "0              3  \n",
       "1              2  \n",
       "2              1  \n",
       "3              2  \n",
       "4              6  "
      ]
     },
     "execution_count": 77,
     "metadata": {},
     "output_type": "execute_result"
    }
   ],
   "source": [
    "student_attempt_count = pd.DataFrame(page_views.groupby(['user_param_external_user_id','assessment_type'])['assessment_attempt_id'].count())\n",
    "student_attempt_count = student_attempt_count.reset_index()\n",
    "student_attempt_count.columns = ['user_param_external_user_id','assessment_type', 'attempt_count']\n",
    "student_attempt_count.head()\n",
    "\n"
   ]
  },
  {
   "cell_type": "code",
   "execution_count": 78,
   "metadata": {},
   "outputs": [
    {
     "name": "stdout",
     "output_type": "stream",
     "text": [
      "(1301, 2)\n"
     ]
    },
    {
     "data": {
      "text/html": [
       "<div>\n",
       "<style scoped>\n",
       "    .dataframe tbody tr th:only-of-type {\n",
       "        vertical-align: middle;\n",
       "    }\n",
       "\n",
       "    .dataframe tbody tr th {\n",
       "        vertical-align: top;\n",
       "    }\n",
       "\n",
       "    .dataframe thead th {\n",
       "        text-align: right;\n",
       "    }\n",
       "</style>\n",
       "<table border=\"1\" class=\"dataframe\">\n",
       "  <thead>\n",
       "    <tr style=\"text-align: right;\">\n",
       "      <th></th>\n",
       "      <th>user_param_external_user_id</th>\n",
       "      <th>avg_attempts</th>\n",
       "    </tr>\n",
       "  </thead>\n",
       "  <tbody>\n",
       "    <tr>\n",
       "      <th>0</th>\n",
       "      <td>2168</td>\n",
       "      <td>2.5</td>\n",
       "    </tr>\n",
       "    <tr>\n",
       "      <th>1</th>\n",
       "      <td>2886</td>\n",
       "      <td>1.0</td>\n",
       "    </tr>\n",
       "    <tr>\n",
       "      <th>2</th>\n",
       "      <td>2899</td>\n",
       "      <td>2.0</td>\n",
       "    </tr>\n",
       "    <tr>\n",
       "      <th>3</th>\n",
       "      <td>3562</td>\n",
       "      <td>5.0</td>\n",
       "    </tr>\n",
       "    <tr>\n",
       "      <th>4</th>\n",
       "      <td>3892</td>\n",
       "      <td>5.0</td>\n",
       "    </tr>\n",
       "  </tbody>\n",
       "</table>\n",
       "</div>"
      ],
      "text/plain": [
       "   user_param_external_user_id  avg_attempts\n",
       "0                         2168           2.5\n",
       "1                         2886           1.0\n",
       "2                         2899           2.0\n",
       "3                         3562           5.0\n",
       "4                         3892           5.0"
      ]
     },
     "execution_count": 78,
     "metadata": {},
     "output_type": "execute_result"
    }
   ],
   "source": [
    "student_avg_attempt = pd.DataFrame(student_attempt_count.groupby(['user_param_external_user_id'])['attempt_count'].mean())\n",
    "student_avg_attempt = student_avg_attempt.reset_index()\n",
    "student_avg_attempt.columns = ['user_param_external_user_id','avg_attempts']\n",
    "print(student_avg_attempt.shape)\n",
    "student_avg_attempt.head()\n",
    "\n"
   ]
  },
  {
   "cell_type": "code",
   "execution_count": 79,
   "metadata": {},
   "outputs": [
    {
     "data": {
      "text/plain": [
       "'\\nFirst test for correlation between attempts on guided learning and final grade in the course.\\n'"
      ]
     },
     "execution_count": 79,
     "metadata": {},
     "output_type": "execute_result"
    }
   ],
   "source": [
    "\"\"\"\n",
    "First test for correlation between attempts on guided learning and final grade in the course.\n",
    "\"\"\""
   ]
  },
  {
   "cell_type": "code",
   "execution_count": 80,
   "metadata": {},
   "outputs": [
    {
     "data": {
      "text/plain": [
       "(3156, 16)"
      ]
     },
     "execution_count": 80,
     "metadata": {},
     "output_type": "execute_result"
    }
   ],
   "source": [
    "grades.shape"
   ]
  },
  {
   "cell_type": "code",
   "execution_count": 81,
   "metadata": {
    "scrolled": true
   },
   "outputs": [
    {
     "name": "stdout",
     "output_type": "stream",
     "text": [
      "(1312, 18)\n"
     ]
    },
    {
     "data": {
      "text/html": [
       "<div>\n",
       "<style scoped>\n",
       "    .dataframe tbody tr th:only-of-type {\n",
       "        vertical-align: middle;\n",
       "    }\n",
       "\n",
       "    .dataframe tbody tr th {\n",
       "        vertical-align: top;\n",
       "    }\n",
       "\n",
       "    .dataframe thead th {\n",
       "        text-align: right;\n",
       "    }\n",
       "</style>\n",
       "<table border=\"1\" class=\"dataframe\">\n",
       "  <thead>\n",
       "    <tr style=\"text-align: right;\">\n",
       "      <th></th>\n",
       "      <th>user_param_external_user_id</th>\n",
       "      <th>avg_attempts</th>\n",
       "      <th>student id</th>\n",
       "      <th>student sis</th>\n",
       "      <th>course</th>\n",
       "      <th>course id</th>\n",
       "      <th>course sis</th>\n",
       "      <th>section</th>\n",
       "      <th>section id</th>\n",
       "      <th>section sis</th>\n",
       "      <th>term</th>\n",
       "      <th>term id</th>\n",
       "      <th>term sis</th>\n",
       "      <th>current score</th>\n",
       "      <th>final score</th>\n",
       "      <th>enrollment state</th>\n",
       "      <th>unposted current score</th>\n",
       "      <th>unposted final score</th>\n",
       "    </tr>\n",
       "  </thead>\n",
       "  <tbody>\n",
       "    <tr>\n",
       "      <th>0</th>\n",
       "      <td>2168</td>\n",
       "      <td>2.5</td>\n",
       "      <td>2168</td>\n",
       "      <td>NaN</td>\n",
       "      <td>WELL1000 Foundations for Healthy Living - Onli...</td>\n",
       "      <td>637</td>\n",
       "      <td>NaN</td>\n",
       "      <td>WELL 1000/W70</td>\n",
       "      <td>1187</td>\n",
       "      <td>NaN</td>\n",
       "      <td>Fall 2018</td>\n",
       "      <td>20</td>\n",
       "      <td>NaN</td>\n",
       "      <td>53.57</td>\n",
       "      <td>51.19</td>\n",
       "      <td>active</td>\n",
       "      <td>53.57</td>\n",
       "      <td>51.19</td>\n",
       "    </tr>\n",
       "    <tr>\n",
       "      <th>1</th>\n",
       "      <td>2886</td>\n",
       "      <td>1.0</td>\n",
       "      <td>2886</td>\n",
       "      <td>NaN</td>\n",
       "      <td>WELL1000 Foundations for Healthy Living - Mart...</td>\n",
       "      <td>645</td>\n",
       "      <td>NaN</td>\n",
       "      <td>WELL1000/20</td>\n",
       "      <td>1203</td>\n",
       "      <td>NaN</td>\n",
       "      <td>Fall 2018</td>\n",
       "      <td>20</td>\n",
       "      <td>NaN</td>\n",
       "      <td>82.69</td>\n",
       "      <td>82.69</td>\n",
       "      <td>active</td>\n",
       "      <td>82.69</td>\n",
       "      <td>82.69</td>\n",
       "    </tr>\n",
       "    <tr>\n",
       "      <th>2</th>\n",
       "      <td>2899</td>\n",
       "      <td>2.0</td>\n",
       "      <td>2899</td>\n",
       "      <td>NaN</td>\n",
       "      <td>WELL1000 Foundations for Healthy Living - Onli...</td>\n",
       "      <td>638</td>\n",
       "      <td>NaN</td>\n",
       "      <td>WELL 1000/W75</td>\n",
       "      <td>1190</td>\n",
       "      <td>NaN</td>\n",
       "      <td>Fall 2018</td>\n",
       "      <td>20</td>\n",
       "      <td>NaN</td>\n",
       "      <td>58.25</td>\n",
       "      <td>55.62</td>\n",
       "      <td>active</td>\n",
       "      <td>58.25</td>\n",
       "      <td>55.62</td>\n",
       "    </tr>\n",
       "    <tr>\n",
       "      <th>3</th>\n",
       "      <td>3562</td>\n",
       "      <td>5.0</td>\n",
       "      <td>3562</td>\n",
       "      <td>NaN</td>\n",
       "      <td>WELL1000 Foundations for Healthy Living - Rave...</td>\n",
       "      <td>654</td>\n",
       "      <td>NaN</td>\n",
       "      <td>WELL 1000/30</td>\n",
       "      <td>1219</td>\n",
       "      <td>NaN</td>\n",
       "      <td>Fall 2018</td>\n",
       "      <td>20</td>\n",
       "      <td>NaN</td>\n",
       "      <td>92.02</td>\n",
       "      <td>92.02</td>\n",
       "      <td>active</td>\n",
       "      <td>92.02</td>\n",
       "      <td>92.02</td>\n",
       "    </tr>\n",
       "    <tr>\n",
       "      <th>4</th>\n",
       "      <td>3892</td>\n",
       "      <td>5.0</td>\n",
       "      <td>3892</td>\n",
       "      <td>NaN</td>\n",
       "      <td>WELL1000 Foundations for Healthy Living - Onli...</td>\n",
       "      <td>659</td>\n",
       "      <td>NaN</td>\n",
       "      <td>WELL 1000/W87</td>\n",
       "      <td>1230</td>\n",
       "      <td>NaN</td>\n",
       "      <td>Fall 2018</td>\n",
       "      <td>20</td>\n",
       "      <td>NaN</td>\n",
       "      <td>75.05</td>\n",
       "      <td>75.05</td>\n",
       "      <td>active</td>\n",
       "      <td>75.05</td>\n",
       "      <td>75.05</td>\n",
       "    </tr>\n",
       "  </tbody>\n",
       "</table>\n",
       "</div>"
      ],
      "text/plain": [
       "   user_param_external_user_id  avg_attempts  student id  student sis  \\\n",
       "0                         2168           2.5        2168          NaN   \n",
       "1                         2886           1.0        2886          NaN   \n",
       "2                         2899           2.0        2899          NaN   \n",
       "3                         3562           5.0        3562          NaN   \n",
       "4                         3892           5.0        3892          NaN   \n",
       "\n",
       "                                              course  course id  course sis  \\\n",
       "0  WELL1000 Foundations for Healthy Living - Onli...        637         NaN   \n",
       "1  WELL1000 Foundations for Healthy Living - Mart...        645         NaN   \n",
       "2  WELL1000 Foundations for Healthy Living - Onli...        638         NaN   \n",
       "3  WELL1000 Foundations for Healthy Living - Rave...        654         NaN   \n",
       "4  WELL1000 Foundations for Healthy Living - Onli...        659         NaN   \n",
       "\n",
       "         section  section id  section sis       term  term id  term sis  \\\n",
       "0  WELL 1000/W70        1187          NaN  Fall 2018       20       NaN   \n",
       "1    WELL1000/20        1203          NaN  Fall 2018       20       NaN   \n",
       "2  WELL 1000/W75        1190          NaN  Fall 2018       20       NaN   \n",
       "3   WELL 1000/30        1219          NaN  Fall 2018       20       NaN   \n",
       "4  WELL 1000/W87        1230          NaN  Fall 2018       20       NaN   \n",
       "\n",
       "   current score  final score enrollment state  unposted current score  \\\n",
       "0          53.57        51.19           active                   53.57   \n",
       "1          82.69        82.69           active                   82.69   \n",
       "2          58.25        55.62           active                   58.25   \n",
       "3          92.02        92.02           active                   92.02   \n",
       "4          75.05        75.05           active                   75.05   \n",
       "\n",
       "   unposted final score  \n",
       "0                 51.19  \n",
       "1                 82.69  \n",
       "2                 55.62  \n",
       "3                 92.02  \n",
       "4                 75.05  "
      ]
     },
     "execution_count": 81,
     "metadata": {},
     "output_type": "execute_result"
    }
   ],
   "source": [
    "#have to do a merge first\n",
    "final_grades_by_attempts = pd.merge(student_avg_attempt, grades, left_on = ['user_param_external_user_id'], right_on = ['student id'], how = 'inner')\n",
    "\n",
    "print(final_grades_by_attempts.shape)\n",
    "final_grades_by_attempts.head()\n"
   ]
  },
  {
   "cell_type": "code",
   "execution_count": 82,
   "metadata": {},
   "outputs": [],
   "source": [
    "x = final_grades_by_attempts['avg_attempts']\n",
    "y = final_grades_by_attempts['unposted final score']"
   ]
  },
  {
   "cell_type": "code",
   "execution_count": 83,
   "metadata": {},
   "outputs": [],
   "source": [
    "slope, intercept, r_value, p_value, std_err = stats.linregress(x,y)"
   ]
  },
  {
   "cell_type": "code",
   "execution_count": 84,
   "metadata": {},
   "outputs": [
    {
     "name": "stdout",
     "output_type": "stream",
     "text": [
      "-0.026845710656406153 85.07442693281664 -0.007142270992525314 0.7960513231213778 0.10384649803341589\n"
     ]
    }
   ],
   "source": [
    "print(slope, intercept, r_value, p_value, std_err)"
   ]
  },
  {
   "cell_type": "code",
   "execution_count": 101,
   "metadata": {},
   "outputs": [
    {
     "data": {
      "image/png": "[encoded data removed]",
      "text/plain": [
       "<Figure size 432x288 with 1 Axes>"
      ]
     },
     "metadata": {
      "needs_background": "light"
     },
     "output_type": "display_data"
    }
   ],
   "source": [
    "_ = plt.scatter(x, y)\n",
    "_ = plt.title('Unposted Final score by Average Assessment Attempts')\n",
    "_ = plt.xlabel('Average Attempts')\n",
    "_ = plt.ylabel('Unposted Final Score')\n",
    "plt.show()"
   ]
  },
  {
   "cell_type": "code",
   "execution_count": 86,
   "metadata": {
    "scrolled": true
   },
   "outputs": [
    {
     "data": {
      "text/plain": [
       "\"\\nAlright so basically no correlation at all here.\\n\\nI'll have to do some more specialized test.\\n\""
      ]
     },
     "execution_count": 86,
     "metadata": {},
     "output_type": "execute_result"
    }
   ],
   "source": [
    "\"\"\"\n",
    "Alright so basically no correlation at all here.\n",
    "\n",
    "I'll have to do some more specialized test.\n",
    "\"\"\""
   ]
  },
  {
   "cell_type": "code",
   "execution_count": 87,
   "metadata": {},
   "outputs": [
    {
     "data": {
      "text/plain": [
       "\"\\nCorrelation between duration and grade\\n\\nFirst bucket the students in above and below the average duration.\\n\\nThen get grade distributions for each. \\nCheck for correlations between them and final quiz grades, midterm grades, and final grades and such\\n\\nI could even do some bootstrapping to see if that is relevant at all. Not sure yet. I'll do it if I get an unclear p-value.\\n\""
      ]
     },
     "execution_count": 87,
     "metadata": {},
     "output_type": "execute_result"
    }
   ],
   "source": [
    "\"\"\"\n",
    "Correlation between duration and grade\n",
    "\n",
    "First bucket the students in above and below the average duration.\n",
    "\n",
    "Then get grade distributions for each. \n",
    "Check for correlations between them and final quiz grades, midterm grades, and final grades and such\n",
    "\n",
    "I could even do some bootstrapping to see if that is relevant at all. Not sure yet. I'll do it if I get an unclear p-value.\n",
    "\"\"\""
   ]
  },
  {
   "cell_type": "code",
   "execution_count": 88,
   "metadata": {},
   "outputs": [
    {
     "data": {
      "text/html": [
       "<div>\n",
       "<style scoped>\n",
       "    .dataframe tbody tr th:only-of-type {\n",
       "        vertical-align: middle;\n",
       "    }\n",
       "\n",
       "    .dataframe tbody tr th {\n",
       "        vertical-align: top;\n",
       "    }\n",
       "\n",
       "    .dataframe thead th {\n",
       "        text-align: right;\n",
       "    }\n",
       "</style>\n",
       "<table border=\"1\" class=\"dataframe\">\n",
       "  <thead>\n",
       "    <tr style=\"text-align: right;\">\n",
       "      <th></th>\n",
       "      <th>user_param_external_user_id</th>\n",
       "      <th>assessment_type</th>\n",
       "      <th>avg_duration</th>\n",
       "    </tr>\n",
       "  </thead>\n",
       "  <tbody>\n",
       "    <tr>\n",
       "      <th>0</th>\n",
       "      <td>2168</td>\n",
       "      <td>KsuNutritionChapterAssessment</td>\n",
       "      <td>2833.333333</td>\n",
       "    </tr>\n",
       "    <tr>\n",
       "      <th>1</th>\n",
       "      <td>2168</td>\n",
       "      <td>KsuStressChapterAssessment</td>\n",
       "      <td>271.000000</td>\n",
       "    </tr>\n",
       "    <tr>\n",
       "      <th>2</th>\n",
       "      <td>2886</td>\n",
       "      <td>KsuWeightManagementChapterAssessment</td>\n",
       "      <td>15274.000000</td>\n",
       "    </tr>\n",
       "    <tr>\n",
       "      <th>3</th>\n",
       "      <td>2899</td>\n",
       "      <td>SyllabusGeneralChapterAssessment</td>\n",
       "      <td>2890.500000</td>\n",
       "    </tr>\n",
       "    <tr>\n",
       "      <th>4</th>\n",
       "      <td>3562</td>\n",
       "      <td>BehaviorChangeChapterAssessment</td>\n",
       "      <td>2675.500000</td>\n",
       "    </tr>\n",
       "  </tbody>\n",
       "</table>\n",
       "</div>"
      ],
      "text/plain": [
       "   user_param_external_user_id                       assessment_type  \\\n",
       "0                         2168         KsuNutritionChapterAssessment   \n",
       "1                         2168            KsuStressChapterAssessment   \n",
       "2                         2886  KsuWeightManagementChapterAssessment   \n",
       "3                         2899      SyllabusGeneralChapterAssessment   \n",
       "4                         3562       BehaviorChangeChapterAssessment   \n",
       "\n",
       "   avg_duration  \n",
       "0   2833.333333  \n",
       "1    271.000000  \n",
       "2  15274.000000  \n",
       "3   2890.500000  \n",
       "4   2675.500000  "
      ]
     },
     "execution_count": 88,
     "metadata": {},
     "output_type": "execute_result"
    }
   ],
   "source": [
    "student_avg_duration.head()"
   ]
  },
  {
   "cell_type": "code",
   "execution_count": 89,
   "metadata": {},
   "outputs": [
    {
     "data": {
      "text/html": [
       "<div>\n",
       "<style scoped>\n",
       "    .dataframe tbody tr th:only-of-type {\n",
       "        vertical-align: middle;\n",
       "    }\n",
       "\n",
       "    .dataframe tbody tr th {\n",
       "        vertical-align: top;\n",
       "    }\n",
       "\n",
       "    .dataframe thead th {\n",
       "        text-align: right;\n",
       "    }\n",
       "</style>\n",
       "<table border=\"1\" class=\"dataframe\">\n",
       "  <thead>\n",
       "    <tr style=\"text-align: right;\">\n",
       "      <th></th>\n",
       "      <th>user_param_external_user_id</th>\n",
       "      <th>avg_duration</th>\n",
       "    </tr>\n",
       "  </thead>\n",
       "  <tbody>\n",
       "    <tr>\n",
       "      <th>0</th>\n",
       "      <td>2168</td>\n",
       "      <td>1808.4</td>\n",
       "    </tr>\n",
       "    <tr>\n",
       "      <th>1</th>\n",
       "      <td>2886</td>\n",
       "      <td>15274.0</td>\n",
       "    </tr>\n",
       "    <tr>\n",
       "      <th>2</th>\n",
       "      <td>2899</td>\n",
       "      <td>2890.5</td>\n",
       "    </tr>\n",
       "    <tr>\n",
       "      <th>3</th>\n",
       "      <td>3562</td>\n",
       "      <td>5685.8</td>\n",
       "    </tr>\n",
       "    <tr>\n",
       "      <th>4</th>\n",
       "      <td>3892</td>\n",
       "      <td>559.4</td>\n",
       "    </tr>\n",
       "  </tbody>\n",
       "</table>\n",
       "</div>"
      ],
      "text/plain": [
       "   user_param_external_user_id  avg_duration\n",
       "0                         2168        1808.4\n",
       "1                         2886       15274.0\n",
       "2                         2899        2890.5\n",
       "3                         3562        5685.8\n",
       "4                         3892         559.4"
      ]
     },
     "execution_count": 89,
     "metadata": {},
     "output_type": "execute_result"
    }
   ],
   "source": [
    "student_avg_duration_all.head()"
   ]
  },
  {
   "cell_type": "code",
   "execution_count": 90,
   "metadata": {},
   "outputs": [],
   "source": [
    "#merge in grades column\n",
    "final_grades_by_duration = pd.merge(student_avg_duration_all, grades, left_on = ['user_param_external_user_id'], right_on = ['student id'], how = 'inner')\n",
    "\n"
   ]
  },
  {
   "cell_type": "code",
   "execution_count": 91,
   "metadata": {},
   "outputs": [],
   "source": [
    "#The average duration for all students\n",
    "average_duration = final_grades_by_duration.avg_duration.mean()\n",
    "above_avg_duration = final_grades_by_duration[final_grades_by_duration.avg_duration >= average_duration]\n",
    "below_avg_duration = final_grades_by_duration[final_grades_by_duration.avg_duration < average_duration ]"
   ]
  },
  {
   "cell_type": "code",
   "execution_count": 92,
   "metadata": {
    "scrolled": true
   },
   "outputs": [
    {
     "name": "stdout",
     "output_type": "stream",
     "text": [
      "    user_param_external_user_id  avg_duration  student id  student sis  \\\n",
      "1                          2886       15274.0        2886          NaN   \n",
      "5                          6958       11338.0        6958          NaN   \n",
      "6                         12553       25302.5       12553          NaN   \n",
      "12                        16725       21757.0       16725          NaN   \n",
      "14                        20055       16347.5       20055          NaN   \n",
      "\n",
      "                                               course  course id  course sis  \\\n",
      "1   WELL1000 Foundations for Healthy Living - Mart...        645         NaN   \n",
      "5   WELL1000 Foundations for Healthy Living - Onli...        638         NaN   \n",
      "6   WELL1000 Foundations for Healthy Living - Whit...        658         NaN   \n",
      "12  WELL1000 Foundations for Healthy Living - Aenc...        626         NaN   \n",
      "14  WELL1000 Foundations for Healthy Living - Onli...        635         NaN   \n",
      "\n",
      "          section  section id  section sis       term  term id  term sis  \\\n",
      "1     WELL1000/20        1203          NaN  Fall 2018       20       NaN   \n",
      "5   WELL 1000/W75        1190          NaN  Fall 2018       20       NaN   \n",
      "6    WELL 1000/10        1228          NaN  Fall 2018       20       NaN   \n",
      "12   WELL 1000/08        1165          NaN  Fall 2018       20       NaN   \n",
      "14   WELL1000/W67        1184          NaN  Fall 2018       20       NaN   \n",
      "\n",
      "    current score  final score enrollment state  unposted current score  \\\n",
      "1           82.69        82.69           active                   82.69   \n",
      "5           39.01        37.25           active                   39.01   \n",
      "6           72.71        66.45           active                   72.71   \n",
      "12          90.91        90.91           active                   90.91   \n",
      "14          86.98        86.98           active                   86.98   \n",
      "\n",
      "    unposted final score  \n",
      "1                  82.69  \n",
      "5                  37.25  \n",
      "6                  66.45  \n",
      "12                 90.91  \n",
      "14                 86.98  \n",
      "   user_param_external_user_id  avg_duration  student id  student sis  \\\n",
      "0                         2168        1808.4        2168          NaN   \n",
      "2                         2899        2890.5        2899          NaN   \n",
      "3                         3562        5685.8        3562          NaN   \n",
      "4                         3892         559.4        3892          NaN   \n",
      "7                        12797        5762.6       12797          NaN   \n",
      "\n",
      "                                              course  course id  course sis  \\\n",
      "0  WELL1000 Foundations for Healthy Living - Onli...        637         NaN   \n",
      "2  WELL1000 Foundations for Healthy Living - Onli...        638         NaN   \n",
      "3  WELL1000 Foundations for Healthy Living - Rave...        654         NaN   \n",
      "4  WELL1000 Foundations for Healthy Living - Onli...        659         NaN   \n",
      "7     WELL1000 Foundations for Healthy Living - Bell        629         NaN   \n",
      "\n",
      "         section  section id  section sis       term  term id  term sis  \\\n",
      "0  WELL 1000/W70        1187          NaN  Fall 2018       20       NaN   \n",
      "2  WELL 1000/W75        1190          NaN  Fall 2018       20       NaN   \n",
      "3   WELL 1000/30        1219          NaN  Fall 2018       20       NaN   \n",
      "4  WELL 1000/W87        1230          NaN  Fall 2018       20       NaN   \n",
      "7   WELL 1000/13        1172          NaN  Fall 2018       20       NaN   \n",
      "\n",
      "   current score  final score enrollment state  unposted current score  \\\n",
      "0          53.57        51.19           active                   53.57   \n",
      "2          58.25        55.62           active                   58.25   \n",
      "3          92.02        92.02           active                   92.02   \n",
      "4          75.05        75.05           active                   75.05   \n",
      "7          87.94        86.90           active                   87.94   \n",
      "\n",
      "   unposted final score  \n",
      "0                 51.19  \n",
      "2                 55.62  \n",
      "3                 92.02  \n",
      "4                 75.05  \n",
      "7                 86.90  \n"
     ]
    }
   ],
   "source": [
    "print(above_avg_duration.head())\n",
    "print(below_avg_duration.head())"
   ]
  },
  {
   "cell_type": "code",
   "execution_count": 96,
   "metadata": {},
   "outputs": [
    {
     "data": {
      "image/png": "[encoded data removed]",
      "text/plain": [
       "<Figure size 432x288 with 1 Axes>"
      ]
     },
     "metadata": {
      "needs_background": "light"
     },
     "output_type": "display_data"
    },
    {
     "name": "stdout",
     "output_type": "stream",
     "text": [
      "85.54768361581927\n"
     ]
    }
   ],
   "source": [
    "_ = plt.hist(x = above_avg_duration['unposted final score'], bins = 50)\n",
    "plt.show()\n",
    "print(above_avg_duration['unposted final score'].mean())"
   ]
  },
  {
   "cell_type": "code",
   "execution_count": 95,
   "metadata": {},
   "outputs": [
    {
     "data": {
      "image/png": "[encoded data removed]",
      "text/plain": [
       "<Figure size 432x288 with 1 Axes>"
      ]
     },
     "metadata": {
      "needs_background": "light"
     },
     "output_type": "display_data"
    },
    {
     "name": "stdout",
     "output_type": "stream",
     "text": [
      "84.54563380281681\n"
     ]
    }
   ],
   "source": [
    "_ = plt.hist(x = below_avg_duration['unposted final score'], bins = 50)\n",
    "plt.show()\n",
    "print(below_avg_duration['unposted final score'].mean())"
   ]
  },
  {
   "cell_type": "code",
   "execution_count": 97,
   "metadata": {},
   "outputs": [
    {
     "name": "stdout",
     "output_type": "stream",
     "text": [
      "p =  0.2782323837362156\n"
     ]
    }
   ],
   "source": [
    "#T-test for difference of means\n",
    "stat, p = stats.ttest_ind(above_avg_duration['unposted final score'], below_avg_duration['unposted final score'])\n",
    "print(\"p = \", p)"
   ]
  },
  {
   "cell_type": "code",
   "execution_count": 99,
   "metadata": {},
   "outputs": [
    {
     "name": "stdout",
     "output_type": "stream",
     "text": [
      "95% confidence interval = [-98.15025  97.29225]\n"
     ]
    }
   ],
   "source": [
    "#Confidence Interval for the difference of means\n",
    "empirical_diff = above_avg_duration['unposted final score'].subtract(below_avg_duration['unposted final score'], fill_value=0)\n",
    "conf_int = np.percentile(empirical_diff, [2.5, 97.5])\n",
    "print('95% confidence interval =', conf_int)\n"
   ]
  },
  {
   "cell_type": "code",
   "execution_count": 100,
   "metadata": {},
   "outputs": [
    {
     "name": "stdout",
     "output_type": "stream",
     "text": [
      "Margin of Error 386.65681657436465 %\n"
     ]
    }
   ],
   "source": [
    "#Margin of error\n",
    "prob = 0.95\n",
    "df = len(empirical_diff) - 1\n",
    "sem = np.std(empirical_diff) / np.sqrt(len(empirical_diff))\n",
    "value = stats.t.ppf(prob, df)\n",
    "me = value * sem\n",
    "print('Margin of Error', np.abs(me)*100, '%')"
   ]
  },
  {
   "cell_type": "code",
   "execution_count": 102,
   "metadata": {},
   "outputs": [
    {
     "name": "stdout",
     "output_type": "stream",
     "text": [
      "4.087913570621825e-05 84.68520308835511 0.012908543110558985 0.6403989215909673 8.74888365860784e-05\n"
     ]
    }
   ],
   "source": [
    "#Linear Regression\n",
    "x = final_grades_by_duration['avg_duration']\n",
    "y = final_grades_by_duration['unposted final score']\n",
    "slope, intercept, r_value, p_value, std_err = stats.linregress(x,y)\n",
    "print(slope, intercept, r_value, p_value, std_err)"
   ]
  },
  {
   "cell_type": "code",
   "execution_count": 103,
   "metadata": {},
   "outputs": [
    {
     "data": {
      "image/png": "[encoded data removed]",
      "text/plain": [
       "<Figure size 432x288 with 1 Axes>"
      ]
     },
     "metadata": {
      "needs_background": "light"
     },
     "output_type": "display_data"
    }
   ],
   "source": [
    "_ = plt.scatter(x, y)\n",
    "_ = plt.title('Unposted Final score by Average Assessment Duration')\n",
    "_ = plt.xlabel('Average Duration')\n",
    "_ = plt.ylabel('Unposted Final Score')\n",
    "plt.show()"
   ]
  },
  {
   "cell_type": "code",
   "execution_count": null,
   "metadata": {},
   "outputs": [],
   "source": [
    "\"\"\"\n",
    "This one also yielded next to know good results.\n",
    "\n",
    "I'll need to bucket further and see if there is anything interesting. I need to ask more specific questions.\n",
    "I should also keep track of the questions I want to ask and have asked. It should come down to two big topics that\n",
    "are described by like 3-4 smaller ideas which can be broken up into =< 10 small tests.\n",
    "\n",
    "I should move away form just final grades, I should also differentiate by class, and maybe get a better measure than\n",
    "just AVERAGE duration/attempts for all guided learning. I could do better bucketing or something.\n",
    "\"\"\""
   ]
  },
  {
   "cell_type": "markdown",
   "metadata": {},
   "source": [
    "****\n",
    "### Question 2:"
   ]
  },
  {
   "cell_type": "code",
   "execution_count": null,
   "metadata": {},
   "outputs": [],
   "source": []
  },
  {
   "cell_type": "code",
   "execution_count": null,
   "metadata": {},
   "outputs": [],
   "source": []
  },
  {
   "cell_type": "markdown",
   "metadata": {},
   "source": [
    "****\n",
    "### Question 3:"
   ]
  },
  {
   "cell_type": "code",
   "execution_count": null,
   "metadata": {},
   "outputs": [],
   "source": []
  },
  {
   "cell_type": "code",
   "execution_count": null,
   "metadata": {},
   "outputs": [],
   "source": []
  },
  {
   "cell_type": "markdown",
   "metadata": {},
   "source": [
    "****\n",
    "# Conclusion:\n",
    "\n",
    "Conclude everything. Each question on its own should have a notes section and interpretation thing. This should be more of a summary of the findings.\n",
    "\n",
    "The report that needs to be submitted to springboard will markdown page with inserted graphs as images and stuff."
   ]
  },
  {
   "cell_type": "code",
   "execution_count": null,
   "metadata": {},
   "outputs": [],
   "source": []
  }
 ],
 "metadata": {
  "kernelspec": {
   "display_name": "Python 3",
   "language": "python",
   "name": "python3"
  },
  "language_info": {
   "codemirror_mode": {
    "name": "ipython",
    "version": 3
   },
   "file_extension": ".py",
   "mimetype": "text/x-python",
   "name": "python",
   "nbconvert_exporter": "python",
   "pygments_lexer": "ipython3",
   "version": "3.7.3"
  }
 },
 "nbformat": 4,
 "nbformat_minor": 2
}
