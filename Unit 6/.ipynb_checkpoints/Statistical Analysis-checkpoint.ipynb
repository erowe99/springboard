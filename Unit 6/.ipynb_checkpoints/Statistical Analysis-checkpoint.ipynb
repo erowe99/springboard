{
 "cells": [
  {
   "cell_type": "markdown",
   "metadata": {},
   "source": [
    "# Introduction:\n",
    "\n",
    "### Section 1: Effects of Guided Learning Duration and Attempts\n",
    "\n",
    "This section analyzes the correlation between average duration and average attempts seperately on final grades, quiz grades, and midterm grades.\n",
    "\n",
    "### Section 2: Effects of Class Structure\n",
    "\n",
    "This section groups students by class structure (face to face with quiz, face to face with midterm, and online). The\n",
    "students are also bucketed into letter grades that correspond to the numbers 0,1,2,3,4.\n",
    "\n",
    "### Section 3: Looking at the \"Dip\"\n",
    "\n",
    "This section will plot grades of students over the course of the semester. The grades of interest are project grades\n",
    "and guided learning grades. Quiz grades will also be looked at for the face to face quiz group.\n"
   ]
  },
  {
   "cell_type": "code",
   "execution_count": 259,
   "metadata": {},
   "outputs": [],
   "source": [
    "\"\"\"\n",
    "Import libraries\n",
    "\"\"\"\n",
    "import pandas as pd\n",
    "import numpy as np\n",
    "import matplotlib.pyplot as plt\n",
    "import seaborn as sns\n",
    "import pendulum\n",
    "import datetime\n",
    "from scipy import stats"
   ]
  },
  {
   "cell_type": "code",
   "execution_count": 120,
   "metadata": {},
   "outputs": [],
   "source": [
    "\"\"\"\n",
    "Import Data\n",
    "\"\"\"\n",
    "#Assessment Page Views\n",
    "page_views = pd.read_csv('/Users/ethanrowe/Dev/springboard_data/KSU Assessment Page Views Fall 2018 Clean.csv', nrows = 10000, index_col = 0)\n",
    "#Final Grade Export\n",
    "grades = pd.read_csv('/Users/ethanrowe/Dev/springboard_data/KSU Student Final Grades 2018 Anonymous.csv', index_col = 0)\n",
    "#detailed grades for face to face using quizzes\n",
    "grades_f2f_quiz = pd.read_csv('/Users/ethanrowe/Dev/springboard_data/grades detailed/Course Grades (Detail View) Fall 2018.xlsx - F2F Quizzes.csv', index_col = 0)\n",
    "#detailed grades for online\n",
    "grades_online = pd.read_csv('/Users/ethanrowe/Dev/springboard_data/grades detailed/Course Grades (Detail View) Fall 2018.xlsx - Online.csv', index_col = 0)\n",
    "#detailed grades for face to face using a midterm\n",
    "grades_f2f_midterm = pd.read_csv('/Users/ethanrowe/Dev/springboard_data/grades detailed/Course Grades (Detail View) Fall 2018.xlsx - F2F Tests.csv', index_col = 0)\n"
   ]
  },
  {
   "cell_type": "markdown",
   "metadata": {},
   "source": [
    "****\n",
    "## Section 1: Effects of Guided Learning Duration and Attempts\n",
    "\n",
    "This section will look at the correlation between average duration and attempts on guided learning and grade outcomes: final grades, quiz grades, and midterms.\n",
    "\n",
    "I will use simple linear regressions to test for correlations and hypothesis tests to evaluate the difference between groups (Those above versus below the average for duration and attempts)."
   ]
  },
  {
   "cell_type": "code",
   "execution_count": 180,
   "metadata": {},
   "outputs": [
    {
     "data": {
      "text/html": [
       "<div>\n",
       "<style scoped>\n",
       "    .dataframe tbody tr th:only-of-type {\n",
       "        vertical-align: middle;\n",
       "    }\n",
       "\n",
       "    .dataframe tbody tr th {\n",
       "        vertical-align: top;\n",
       "    }\n",
       "\n",
       "    .dataframe thead th {\n",
       "        text-align: right;\n",
       "    }\n",
       "</style>\n",
       "<table border=\"1\" class=\"dataframe\">\n",
       "  <thead>\n",
       "    <tr style=\"text-align: right;\">\n",
       "      <th></th>\n",
       "      <th>assessment_attempt_id</th>\n",
       "      <th>assessment_type</th>\n",
       "      <th>canvas_assignment_id</th>\n",
       "      <th>canvas_course_id</th>\n",
       "      <th>canvas_section_id</th>\n",
       "      <th>created_at</th>\n",
       "      <th>duration</th>\n",
       "      <th>id</th>\n",
       "      <th>load_time</th>\n",
       "      <th>page_id</th>\n",
       "      <th>raw_lti_param_ext_outcome_submission_submitted_at_accepted</th>\n",
       "      <th>submit_time</th>\n",
       "      <th>user_param_external_user_id</th>\n",
       "    </tr>\n",
       "  </thead>\n",
       "  <tbody>\n",
       "    <tr>\n",
       "      <th>0</th>\n",
       "      <td>289769</td>\n",
       "      <td>MentalHealthChapterAssessment</td>\n",
       "      <td>42549.0</td>\n",
       "      <td>640</td>\n",
       "      <td>1193.0</td>\n",
       "      <td>2018-11-09 10:37:31 UTC</td>\n",
       "      <td>1277.0</td>\n",
       "      <td>6475582</td>\n",
       "      <td>2018-11-09 10:37:37 UTC</td>\n",
       "      <td>76</td>\n",
       "      <td>True</td>\n",
       "      <td>2018-11-09 10:37:39 UTC</td>\n",
       "      <td>38922</td>\n",
       "    </tr>\n",
       "    <tr>\n",
       "      <th>1</th>\n",
       "      <td>286863</td>\n",
       "      <td>KsuStressChapterAssessment</td>\n",
       "      <td>41440.0</td>\n",
       "      <td>641</td>\n",
       "      <td>1196.0</td>\n",
       "      <td>2018-11-09 10:38:07 UTC</td>\n",
       "      <td>2720.0</td>\n",
       "      <td>6475589</td>\n",
       "      <td>2018-11-09 10:38:03 UTC</td>\n",
       "      <td>50</td>\n",
       "      <td>True</td>\n",
       "      <td>2018-11-09 10:38:06 UTC</td>\n",
       "      <td>37374</td>\n",
       "    </tr>\n",
       "  </tbody>\n",
       "</table>\n",
       "</div>"
      ],
      "text/plain": [
       "   assessment_attempt_id                assessment_type  canvas_assignment_id  \\\n",
       "0                 289769  MentalHealthChapterAssessment               42549.0   \n",
       "1                 286863     KsuStressChapterAssessment               41440.0   \n",
       "\n",
       "   canvas_course_id  canvas_section_id               created_at  duration  \\\n",
       "0               640             1193.0  2018-11-09 10:37:31 UTC    1277.0   \n",
       "1               641             1196.0  2018-11-09 10:38:07 UTC    2720.0   \n",
       "\n",
       "        id                load_time  page_id  \\\n",
       "0  6475582  2018-11-09 10:37:37 UTC       76   \n",
       "1  6475589  2018-11-09 10:38:03 UTC       50   \n",
       "\n",
       "   raw_lti_param_ext_outcome_submission_submitted_at_accepted  \\\n",
       "0                                               True            \n",
       "1                                               True            \n",
       "\n",
       "               submit_time  user_param_external_user_id  \n",
       "0  2018-11-09 10:37:39 UTC                        38922  \n",
       "1  2018-11-09 10:38:06 UTC                        37374  "
      ]
     },
     "execution_count": 180,
     "metadata": {},
     "output_type": "execute_result"
    }
   ],
   "source": [
    "page_views.head(2)"
   ]
  },
  {
   "cell_type": "code",
   "execution_count": 73,
   "metadata": {
    "scrolled": true
   },
   "outputs": [
    {
     "data": {
      "text/html": [
       "<div>\n",
       "<style scoped>\n",
       "    .dataframe tbody tr th:only-of-type {\n",
       "        vertical-align: middle;\n",
       "    }\n",
       "\n",
       "    .dataframe tbody tr th {\n",
       "        vertical-align: top;\n",
       "    }\n",
       "\n",
       "    .dataframe thead th {\n",
       "        text-align: right;\n",
       "    }\n",
       "</style>\n",
       "<table border=\"1\" class=\"dataframe\">\n",
       "  <thead>\n",
       "    <tr style=\"text-align: right;\">\n",
       "      <th></th>\n",
       "      <th>assessment_type</th>\n",
       "      <th>avg_duration</th>\n",
       "    </tr>\n",
       "  </thead>\n",
       "  <tbody>\n",
       "    <tr>\n",
       "      <th>0</th>\n",
       "      <td>BehaviorChangeChapterAssessment</td>\n",
       "      <td>5957.079470</td>\n",
       "    </tr>\n",
       "    <tr>\n",
       "      <th>1</th>\n",
       "      <td>BodyMassIndexAssessment</td>\n",
       "      <td>6224.692308</td>\n",
       "    </tr>\n",
       "    <tr>\n",
       "      <th>2</th>\n",
       "      <td>CalorieBmrAssessment</td>\n",
       "      <td>7815.461538</td>\n",
       "    </tr>\n",
       "    <tr>\n",
       "      <th>3</th>\n",
       "      <td>CurlUpAssessment</td>\n",
       "      <td>9241.600000</td>\n",
       "    </tr>\n",
       "    <tr>\n",
       "      <th>4</th>\n",
       "      <td>FamilyHistoryAssessment</td>\n",
       "      <td>25365.000000</td>\n",
       "    </tr>\n",
       "  </tbody>\n",
       "</table>\n",
       "</div>"
      ],
      "text/plain": [
       "                   assessment_type  avg_duration\n",
       "0  BehaviorChangeChapterAssessment   5957.079470\n",
       "1          BodyMassIndexAssessment   6224.692308\n",
       "2             CalorieBmrAssessment   7815.461538\n",
       "3                 CurlUpAssessment   9241.600000\n",
       "4          FamilyHistoryAssessment  25365.000000"
      ]
     },
     "execution_count": 73,
     "metadata": {},
     "output_type": "execute_result"
    }
   ],
   "source": [
    "\"\"\"\n",
    "Create dataframe grouped by assessment_type and average duration\n",
    "\"\"\"\n",
    "type_avg_duration = pd.DataFrame(page_views.groupby(['assessment_type'])['duration'].mean())\n",
    "type_avg_duration = type_avg_duration.reset_index()\n",
    "type_avg_duration.columns = ['assessment_type', 'avg_duration']\n",
    "type_avg_duration.head()"
   ]
  },
  {
   "cell_type": "code",
   "execution_count": null,
   "metadata": {},
   "outputs": [],
   "source": [
    "\"\"\"\n",
    "First, create the necessary dataframes to describe the students\n",
    "\"\"\""
   ]
  },
  {
   "cell_type": "code",
   "execution_count": 75,
   "metadata": {},
   "outputs": [
    {
     "data": {
      "text/html": [
       "<div>\n",
       "<style scoped>\n",
       "    .dataframe tbody tr th:only-of-type {\n",
       "        vertical-align: middle;\n",
       "    }\n",
       "\n",
       "    .dataframe tbody tr th {\n",
       "        vertical-align: top;\n",
       "    }\n",
       "\n",
       "    .dataframe thead th {\n",
       "        text-align: right;\n",
       "    }\n",
       "</style>\n",
       "<table border=\"1\" class=\"dataframe\">\n",
       "  <thead>\n",
       "    <tr style=\"text-align: right;\">\n",
       "      <th></th>\n",
       "      <th>user_param_external_user_id</th>\n",
       "      <th>assessment_type</th>\n",
       "      <th>avg_duration</th>\n",
       "    </tr>\n",
       "  </thead>\n",
       "  <tbody>\n",
       "    <tr>\n",
       "      <th>0</th>\n",
       "      <td>2168</td>\n",
       "      <td>KsuNutritionChapterAssessment</td>\n",
       "      <td>2833.333333</td>\n",
       "    </tr>\n",
       "    <tr>\n",
       "      <th>1</th>\n",
       "      <td>2168</td>\n",
       "      <td>KsuStressChapterAssessment</td>\n",
       "      <td>271.000000</td>\n",
       "    </tr>\n",
       "    <tr>\n",
       "      <th>2</th>\n",
       "      <td>2886</td>\n",
       "      <td>KsuWeightManagementChapterAssessment</td>\n",
       "      <td>15274.000000</td>\n",
       "    </tr>\n",
       "    <tr>\n",
       "      <th>3</th>\n",
       "      <td>2899</td>\n",
       "      <td>SyllabusGeneralChapterAssessment</td>\n",
       "      <td>2890.500000</td>\n",
       "    </tr>\n",
       "    <tr>\n",
       "      <th>4</th>\n",
       "      <td>3562</td>\n",
       "      <td>BehaviorChangeChapterAssessment</td>\n",
       "      <td>2675.500000</td>\n",
       "    </tr>\n",
       "  </tbody>\n",
       "</table>\n",
       "</div>"
      ],
      "text/plain": [
       "   user_param_external_user_id                       assessment_type  \\\n",
       "0                         2168         KsuNutritionChapterAssessment   \n",
       "1                         2168            KsuStressChapterAssessment   \n",
       "2                         2886  KsuWeightManagementChapterAssessment   \n",
       "3                         2899      SyllabusGeneralChapterAssessment   \n",
       "4                         3562       BehaviorChangeChapterAssessment   \n",
       "\n",
       "   avg_duration  \n",
       "0   2833.333333  \n",
       "1    271.000000  \n",
       "2  15274.000000  \n",
       "3   2890.500000  \n",
       "4   2675.500000  "
      ]
     },
     "execution_count": 75,
     "metadata": {},
     "output_type": "execute_result"
    }
   ],
   "source": [
    "#Calculate the average for each assignment\n",
    "student_avg_duration = pd.DataFrame(page_views.groupby(['user_param_external_user_id','assessment_type'])['duration'].mean())\n",
    "student_avg_duration = student_avg_duration.reset_index()\n",
    "student_avg_duration.columns = ['user_param_external_user_id','assessment_type', 'avg_duration']\n",
    "student_avg_duration.head()\n",
    "\n"
   ]
  },
  {
   "cell_type": "code",
   "execution_count": 76,
   "metadata": {},
   "outputs": [
    {
     "data": {
      "text/html": [
       "<div>\n",
       "<style scoped>\n",
       "    .dataframe tbody tr th:only-of-type {\n",
       "        vertical-align: middle;\n",
       "    }\n",
       "\n",
       "    .dataframe tbody tr th {\n",
       "        vertical-align: top;\n",
       "    }\n",
       "\n",
       "    .dataframe thead th {\n",
       "        text-align: right;\n",
       "    }\n",
       "</style>\n",
       "<table border=\"1\" class=\"dataframe\">\n",
       "  <thead>\n",
       "    <tr style=\"text-align: right;\">\n",
       "      <th></th>\n",
       "      <th>user_param_external_user_id</th>\n",
       "      <th>avg_duration</th>\n",
       "    </tr>\n",
       "  </thead>\n",
       "  <tbody>\n",
       "    <tr>\n",
       "      <th>0</th>\n",
       "      <td>2168</td>\n",
       "      <td>1808.4</td>\n",
       "    </tr>\n",
       "    <tr>\n",
       "      <th>1</th>\n",
       "      <td>2886</td>\n",
       "      <td>15274.0</td>\n",
       "    </tr>\n",
       "    <tr>\n",
       "      <th>2</th>\n",
       "      <td>2899</td>\n",
       "      <td>2890.5</td>\n",
       "    </tr>\n",
       "    <tr>\n",
       "      <th>3</th>\n",
       "      <td>3562</td>\n",
       "      <td>5685.8</td>\n",
       "    </tr>\n",
       "    <tr>\n",
       "      <th>4</th>\n",
       "      <td>3892</td>\n",
       "      <td>559.4</td>\n",
       "    </tr>\n",
       "  </tbody>\n",
       "</table>\n",
       "</div>"
      ],
      "text/plain": [
       "   user_param_external_user_id  avg_duration\n",
       "0                         2168        1808.4\n",
       "1                         2886       15274.0\n",
       "2                         2899        2890.5\n",
       "3                         3562        5685.8\n",
       "4                         3892         559.4"
      ]
     },
     "execution_count": 76,
     "metadata": {},
     "output_type": "execute_result"
    }
   ],
   "source": [
    "#Use the assignment average that to get the average for each student\n",
    "student_avg_duration_all = pd.DataFrame(page_views.groupby(['user_param_external_user_id'])['duration'].mean())\n",
    "student_avg_duration_all = student_avg_duration_all.reset_index()\n",
    "student_avg_duration_all.columns = ['user_param_external_user_id', 'avg_duration']\n",
    "student_avg_duration_all.head()"
   ]
  },
  {
   "cell_type": "code",
   "execution_count": 260,
   "metadata": {},
   "outputs": [
    {
     "data": {
      "text/html": [
       "<div>\n",
       "<style scoped>\n",
       "    .dataframe tbody tr th:only-of-type {\n",
       "        vertical-align: middle;\n",
       "    }\n",
       "\n",
       "    .dataframe tbody tr th {\n",
       "        vertical-align: top;\n",
       "    }\n",
       "\n",
       "    .dataframe thead th {\n",
       "        text-align: right;\n",
       "    }\n",
       "</style>\n",
       "<table border=\"1\" class=\"dataframe\">\n",
       "  <thead>\n",
       "    <tr style=\"text-align: right;\">\n",
       "      <th></th>\n",
       "      <th>user_param_external_user_id</th>\n",
       "      <th>assessment_type</th>\n",
       "      <th>attempt_count</th>\n",
       "    </tr>\n",
       "  </thead>\n",
       "  <tbody>\n",
       "    <tr>\n",
       "      <th>0</th>\n",
       "      <td>2168</td>\n",
       "      <td>KsuNutritionChapterAssessment</td>\n",
       "      <td>3</td>\n",
       "    </tr>\n",
       "    <tr>\n",
       "      <th>1</th>\n",
       "      <td>2168</td>\n",
       "      <td>KsuStressChapterAssessment</td>\n",
       "      <td>2</td>\n",
       "    </tr>\n",
       "    <tr>\n",
       "      <th>2</th>\n",
       "      <td>2886</td>\n",
       "      <td>KsuWeightManagementChapterAssessment</td>\n",
       "      <td>1</td>\n",
       "    </tr>\n",
       "    <tr>\n",
       "      <th>3</th>\n",
       "      <td>2899</td>\n",
       "      <td>SyllabusGeneralChapterAssessment</td>\n",
       "      <td>2</td>\n",
       "    </tr>\n",
       "    <tr>\n",
       "      <th>4</th>\n",
       "      <td>3562</td>\n",
       "      <td>BehaviorChangeChapterAssessment</td>\n",
       "      <td>6</td>\n",
       "    </tr>\n",
       "  </tbody>\n",
       "</table>\n",
       "</div>"
      ],
      "text/plain": [
       "   user_param_external_user_id                       assessment_type  \\\n",
       "0                         2168         KsuNutritionChapterAssessment   \n",
       "1                         2168            KsuStressChapterAssessment   \n",
       "2                         2886  KsuWeightManagementChapterAssessment   \n",
       "3                         2899      SyllabusGeneralChapterAssessment   \n",
       "4                         3562       BehaviorChangeChapterAssessment   \n",
       "\n",
       "   attempt_count  \n",
       "0              3  \n",
       "1              2  \n",
       "2              1  \n",
       "3              2  \n",
       "4              6  "
      ]
     },
     "execution_count": 260,
     "metadata": {},
     "output_type": "execute_result"
    }
   ],
   "source": [
    "#Now, find the number of attempts for each assignment\n",
    "student_attempt_count = pd.DataFrame(page_views.groupby(['user_param_external_user_id','assessment_type'])['assessment_attempt_id'].count())\n",
    "student_attempt_count = student_attempt_count.reset_index()\n",
    "student_attempt_count.columns = ['user_param_external_user_id','assessment_type', 'attempt_count']\n",
    "student_attempt_count.head()\n"
   ]
  },
  {
   "cell_type": "code",
   "execution_count": 261,
   "metadata": {},
   "outputs": [
    {
     "name": "stdout",
     "output_type": "stream",
     "text": [
      "(1301, 2)\n"
     ]
    },
    {
     "data": {
      "text/html": [
       "<div>\n",
       "<style scoped>\n",
       "    .dataframe tbody tr th:only-of-type {\n",
       "        vertical-align: middle;\n",
       "    }\n",
       "\n",
       "    .dataframe tbody tr th {\n",
       "        vertical-align: top;\n",
       "    }\n",
       "\n",
       "    .dataframe thead th {\n",
       "        text-align: right;\n",
       "    }\n",
       "</style>\n",
       "<table border=\"1\" class=\"dataframe\">\n",
       "  <thead>\n",
       "    <tr style=\"text-align: right;\">\n",
       "      <th></th>\n",
       "      <th>user_param_external_user_id</th>\n",
       "      <th>avg_attempts</th>\n",
       "    </tr>\n",
       "  </thead>\n",
       "  <tbody>\n",
       "    <tr>\n",
       "      <th>0</th>\n",
       "      <td>2168</td>\n",
       "      <td>2.5</td>\n",
       "    </tr>\n",
       "    <tr>\n",
       "      <th>1</th>\n",
       "      <td>2886</td>\n",
       "      <td>1.0</td>\n",
       "    </tr>\n",
       "    <tr>\n",
       "      <th>2</th>\n",
       "      <td>2899</td>\n",
       "      <td>2.0</td>\n",
       "    </tr>\n",
       "    <tr>\n",
       "      <th>3</th>\n",
       "      <td>3562</td>\n",
       "      <td>5.0</td>\n",
       "    </tr>\n",
       "    <tr>\n",
       "      <th>4</th>\n",
       "      <td>3892</td>\n",
       "      <td>5.0</td>\n",
       "    </tr>\n",
       "  </tbody>\n",
       "</table>\n",
       "</div>"
      ],
      "text/plain": [
       "   user_param_external_user_id  avg_attempts\n",
       "0                         2168           2.5\n",
       "1                         2886           1.0\n",
       "2                         2899           2.0\n",
       "3                         3562           5.0\n",
       "4                         3892           5.0"
      ]
     },
     "execution_count": 261,
     "metadata": {},
     "output_type": "execute_result"
    }
   ],
   "source": [
    "#Use the above dataframe to calculate the average number of attempts for each student\n",
    "student_avg_attempt = pd.DataFrame(student_attempt_count.groupby(['user_param_external_user_id'])['attempt_count'].mean())\n",
    "student_avg_attempt = student_avg_attempt.reset_index()\n",
    "student_avg_attempt.columns = ['user_param_external_user_id','avg_attempts']\n",
    "print(student_avg_attempt.shape)\n",
    "student_avg_attempt.head()\n",
    "\n"
   ]
  },
  {
   "cell_type": "code",
   "execution_count": 262,
   "metadata": {},
   "outputs": [
    {
     "data": {
      "text/plain": [
       "'\\nFirst test for correlation between attempts on guided learning and final grade in the course using linear regression.\\n'"
      ]
     },
     "execution_count": 262,
     "metadata": {},
     "output_type": "execute_result"
    }
   ],
   "source": [
    "\"\"\"\n",
    "First test for correlation between attempts on guided learning and final grade in the course using linear regression.\n",
    "\"\"\""
   ]
  },
  {
   "cell_type": "code",
   "execution_count": 80,
   "metadata": {},
   "outputs": [
    {
     "data": {
      "text/plain": [
       "(3156, 16)"
      ]
     },
     "execution_count": 80,
     "metadata": {},
     "output_type": "execute_result"
    }
   ],
   "source": [
    "grades.shape"
   ]
  },
  {
   "cell_type": "code",
   "execution_count": 179,
   "metadata": {
    "scrolled": true
   },
   "outputs": [
    {
     "name": "stdout",
     "output_type": "stream",
     "text": [
      "(1312, 18)\n"
     ]
    },
    {
     "data": {
      "text/html": [
       "<div>\n",
       "<style scoped>\n",
       "    .dataframe tbody tr th:only-of-type {\n",
       "        vertical-align: middle;\n",
       "    }\n",
       "\n",
       "    .dataframe tbody tr th {\n",
       "        vertical-align: top;\n",
       "    }\n",
       "\n",
       "    .dataframe thead th {\n",
       "        text-align: right;\n",
       "    }\n",
       "</style>\n",
       "<table border=\"1\" class=\"dataframe\">\n",
       "  <thead>\n",
       "    <tr style=\"text-align: right;\">\n",
       "      <th></th>\n",
       "      <th>user_param_external_user_id</th>\n",
       "      <th>avg_attempts</th>\n",
       "      <th>student id</th>\n",
       "      <th>student sis</th>\n",
       "      <th>course</th>\n",
       "      <th>course id</th>\n",
       "      <th>course sis</th>\n",
       "      <th>section</th>\n",
       "      <th>section id</th>\n",
       "      <th>section sis</th>\n",
       "      <th>term</th>\n",
       "      <th>term id</th>\n",
       "      <th>term sis</th>\n",
       "      <th>current score</th>\n",
       "      <th>final score</th>\n",
       "      <th>enrollment state</th>\n",
       "      <th>unposted current score</th>\n",
       "      <th>unposted final score</th>\n",
       "    </tr>\n",
       "  </thead>\n",
       "  <tbody>\n",
       "    <tr>\n",
       "      <th>0</th>\n",
       "      <td>2168</td>\n",
       "      <td>2.5</td>\n",
       "      <td>2168</td>\n",
       "      <td>NaN</td>\n",
       "      <td>WELL1000 Foundations for Healthy Living - Onli...</td>\n",
       "      <td>637</td>\n",
       "      <td>NaN</td>\n",
       "      <td>WELL 1000/W70</td>\n",
       "      <td>1187</td>\n",
       "      <td>NaN</td>\n",
       "      <td>Fall 2018</td>\n",
       "      <td>20</td>\n",
       "      <td>NaN</td>\n",
       "      <td>53.57</td>\n",
       "      <td>51.19</td>\n",
       "      <td>active</td>\n",
       "      <td>53.57</td>\n",
       "      <td>51.19</td>\n",
       "    </tr>\n",
       "    <tr>\n",
       "      <th>1</th>\n",
       "      <td>2886</td>\n",
       "      <td>1.0</td>\n",
       "      <td>2886</td>\n",
       "      <td>NaN</td>\n",
       "      <td>WELL1000 Foundations for Healthy Living - Mart...</td>\n",
       "      <td>645</td>\n",
       "      <td>NaN</td>\n",
       "      <td>WELL1000/20</td>\n",
       "      <td>1203</td>\n",
       "      <td>NaN</td>\n",
       "      <td>Fall 2018</td>\n",
       "      <td>20</td>\n",
       "      <td>NaN</td>\n",
       "      <td>82.69</td>\n",
       "      <td>82.69</td>\n",
       "      <td>active</td>\n",
       "      <td>82.69</td>\n",
       "      <td>82.69</td>\n",
       "    </tr>\n",
       "  </tbody>\n",
       "</table>\n",
       "</div>"
      ],
      "text/plain": [
       "   user_param_external_user_id  avg_attempts  student id  student sis  \\\n",
       "0                         2168           2.5        2168          NaN   \n",
       "1                         2886           1.0        2886          NaN   \n",
       "\n",
       "                                              course  course id  course sis  \\\n",
       "0  WELL1000 Foundations for Healthy Living - Onli...        637         NaN   \n",
       "1  WELL1000 Foundations for Healthy Living - Mart...        645         NaN   \n",
       "\n",
       "         section  section id  section sis       term  term id  term sis  \\\n",
       "0  WELL 1000/W70        1187          NaN  Fall 2018       20       NaN   \n",
       "1    WELL1000/20        1203          NaN  Fall 2018       20       NaN   \n",
       "\n",
       "   current score  final score enrollment state  unposted current score  \\\n",
       "0          53.57        51.19           active                   53.57   \n",
       "1          82.69        82.69           active                   82.69   \n",
       "\n",
       "   unposted final score  \n",
       "0                 51.19  \n",
       "1                 82.69  "
      ]
     },
     "execution_count": 179,
     "metadata": {},
     "output_type": "execute_result"
    }
   ],
   "source": [
    "#Merge with grades dataframe, so that we have access to 'unposted final score'\n",
    "final_grades_by_attempts = pd.merge(student_avg_attempt, grades, left_on = ['user_param_external_user_id'], right_on = ['student id'], how = 'inner')\n",
    "\n",
    "print(final_grades_by_attempts.shape)\n",
    "final_grades_by_attempts.head(2)\n"
   ]
  },
  {
   "cell_type": "code",
   "execution_count": 82,
   "metadata": {},
   "outputs": [],
   "source": [
    "#Define x and y for linear regression\n",
    "x = final_grades_by_attempts['avg_attempts']\n",
    "y = final_grades_by_attempts['unposted final score']"
   ]
  },
  {
   "cell_type": "code",
   "execution_count": 83,
   "metadata": {},
   "outputs": [],
   "source": [
    "slope, intercept, r_value, p_value, std_err = stats.linregress(x,y)"
   ]
  },
  {
   "cell_type": "code",
   "execution_count": 84,
   "metadata": {},
   "outputs": [
    {
     "name": "stdout",
     "output_type": "stream",
     "text": [
      "-0.026845710656406153 85.07442693281664 -0.007142270992525314 0.7960513231213778 0.10384649803341589\n"
     ]
    }
   ],
   "source": [
    "print(slope, intercept, r_value, p_value, std_err)"
   ]
  },
  {
   "cell_type": "code",
   "execution_count": 109,
   "metadata": {
    "scrolled": true
   },
   "outputs": [
    {
     "data": {
      "image/png": "[encoded data removed]",
      "text/plain": [
       "<Figure size 432x288 with 1 Axes>"
      ]
     },
     "metadata": {
      "needs_background": "light"
     },
     "output_type": "display_data"
    }
   ],
   "source": [
    "_ = plt.scatter(x, y)\n",
    "_ = plt.plot(x, intercept + slope * x, color = 'red')\n",
    "_ = plt.title('Unposted Final score by Average Assessment Attempts')\n",
    "_ = plt.xlabel('Average Attempts')\n",
    "_ = plt.ylabel('Unposted Final Score')\n",
    "plt.show()"
   ]
  },
  {
   "cell_type": "code",
   "execution_count": 86,
   "metadata": {
    "scrolled": true
   },
   "outputs": [
    {
     "data": {
      "text/plain": [
       "\"\\nAlright so basically no correlation at all here.\\n\\nI'll have to do some more specialized test.\\n\""
      ]
     },
     "execution_count": 86,
     "metadata": {},
     "output_type": "execute_result"
    }
   ],
   "source": [
    "\"\"\"\n",
    "RESULTS:\n",
    "According to cells 84 and 109, their is not a correlation between unposted final score e.g the final grade in the \n",
    "class and the average number of attempts the students took their assessments.\n",
    "\"\"\""
   ]
  },
  {
   "cell_type": "code",
   "execution_count": 264,
   "metadata": {},
   "outputs": [
    {
     "data": {
      "text/plain": [
       "'\\nCorrelation between duration and grade\\n\\n - First bucket the students in above and below the average duration.\\n\\n - Then get grade distributions for each. \\n\\n - Use hypothesis test to get a difference of means.\\n\\n - Perform a linear regression.\\n '"
      ]
     },
     "execution_count": 264,
     "metadata": {},
     "output_type": "execute_result"
    }
   ],
   "source": [
    "\"\"\"\n",
    "Correlation between duration and grade\n",
    "\n",
    " - First bucket the students in above and below the average duration.\n",
    "\n",
    " - Then get grade distributions for each. \n",
    "\n",
    " - Use hypothesis test to get a difference of means.\n",
    "\n",
    " - Perform a linear regression.\n",
    " \"\"\""
   ]
  },
  {
   "cell_type": "code",
   "execution_count": 88,
   "metadata": {},
   "outputs": [
    {
     "data": {
      "text/html": [
       "<div>\n",
       "<style scoped>\n",
       "    .dataframe tbody tr th:only-of-type {\n",
       "        vertical-align: middle;\n",
       "    }\n",
       "\n",
       "    .dataframe tbody tr th {\n",
       "        vertical-align: top;\n",
       "    }\n",
       "\n",
       "    .dataframe thead th {\n",
       "        text-align: right;\n",
       "    }\n",
       "</style>\n",
       "<table border=\"1\" class=\"dataframe\">\n",
       "  <thead>\n",
       "    <tr style=\"text-align: right;\">\n",
       "      <th></th>\n",
       "      <th>user_param_external_user_id</th>\n",
       "      <th>assessment_type</th>\n",
       "      <th>avg_duration</th>\n",
       "    </tr>\n",
       "  </thead>\n",
       "  <tbody>\n",
       "    <tr>\n",
       "      <th>0</th>\n",
       "      <td>2168</td>\n",
       "      <td>KsuNutritionChapterAssessment</td>\n",
       "      <td>2833.333333</td>\n",
       "    </tr>\n",
       "    <tr>\n",
       "      <th>1</th>\n",
       "      <td>2168</td>\n",
       "      <td>KsuStressChapterAssessment</td>\n",
       "      <td>271.000000</td>\n",
       "    </tr>\n",
       "    <tr>\n",
       "      <th>2</th>\n",
       "      <td>2886</td>\n",
       "      <td>KsuWeightManagementChapterAssessment</td>\n",
       "      <td>15274.000000</td>\n",
       "    </tr>\n",
       "    <tr>\n",
       "      <th>3</th>\n",
       "      <td>2899</td>\n",
       "      <td>SyllabusGeneralChapterAssessment</td>\n",
       "      <td>2890.500000</td>\n",
       "    </tr>\n",
       "    <tr>\n",
       "      <th>4</th>\n",
       "      <td>3562</td>\n",
       "      <td>BehaviorChangeChapterAssessment</td>\n",
       "      <td>2675.500000</td>\n",
       "    </tr>\n",
       "  </tbody>\n",
       "</table>\n",
       "</div>"
      ],
      "text/plain": [
       "   user_param_external_user_id                       assessment_type  \\\n",
       "0                         2168         KsuNutritionChapterAssessment   \n",
       "1                         2168            KsuStressChapterAssessment   \n",
       "2                         2886  KsuWeightManagementChapterAssessment   \n",
       "3                         2899      SyllabusGeneralChapterAssessment   \n",
       "4                         3562       BehaviorChangeChapterAssessment   \n",
       "\n",
       "   avg_duration  \n",
       "0   2833.333333  \n",
       "1    271.000000  \n",
       "2  15274.000000  \n",
       "3   2890.500000  \n",
       "4   2675.500000  "
      ]
     },
     "execution_count": 88,
     "metadata": {},
     "output_type": "execute_result"
    }
   ],
   "source": [
    "student_avg_duration.head()"
   ]
  },
  {
   "cell_type": "code",
   "execution_count": 89,
   "metadata": {},
   "outputs": [
    {
     "data": {
      "text/html": [
       "<div>\n",
       "<style scoped>\n",
       "    .dataframe tbody tr th:only-of-type {\n",
       "        vertical-align: middle;\n",
       "    }\n",
       "\n",
       "    .dataframe tbody tr th {\n",
       "        vertical-align: top;\n",
       "    }\n",
       "\n",
       "    .dataframe thead th {\n",
       "        text-align: right;\n",
       "    }\n",
       "</style>\n",
       "<table border=\"1\" class=\"dataframe\">\n",
       "  <thead>\n",
       "    <tr style=\"text-align: right;\">\n",
       "      <th></th>\n",
       "      <th>user_param_external_user_id</th>\n",
       "      <th>avg_duration</th>\n",
       "    </tr>\n",
       "  </thead>\n",
       "  <tbody>\n",
       "    <tr>\n",
       "      <th>0</th>\n",
       "      <td>2168</td>\n",
       "      <td>1808.4</td>\n",
       "    </tr>\n",
       "    <tr>\n",
       "      <th>1</th>\n",
       "      <td>2886</td>\n",
       "      <td>15274.0</td>\n",
       "    </tr>\n",
       "    <tr>\n",
       "      <th>2</th>\n",
       "      <td>2899</td>\n",
       "      <td>2890.5</td>\n",
       "    </tr>\n",
       "    <tr>\n",
       "      <th>3</th>\n",
       "      <td>3562</td>\n",
       "      <td>5685.8</td>\n",
       "    </tr>\n",
       "    <tr>\n",
       "      <th>4</th>\n",
       "      <td>3892</td>\n",
       "      <td>559.4</td>\n",
       "    </tr>\n",
       "  </tbody>\n",
       "</table>\n",
       "</div>"
      ],
      "text/plain": [
       "   user_param_external_user_id  avg_duration\n",
       "0                         2168        1808.4\n",
       "1                         2886       15274.0\n",
       "2                         2899        2890.5\n",
       "3                         3562        5685.8\n",
       "4                         3892         559.4"
      ]
     },
     "execution_count": 89,
     "metadata": {},
     "output_type": "execute_result"
    }
   ],
   "source": [
    "student_avg_duration_all.head()"
   ]
  },
  {
   "cell_type": "code",
   "execution_count": 90,
   "metadata": {},
   "outputs": [],
   "source": [
    "#merge in grades column\n",
    "final_grades_by_duration = pd.merge(student_avg_duration_all, grades, left_on = ['user_param_external_user_id'], right_on = ['student id'], how = 'inner')\n",
    "\n"
   ]
  },
  {
   "cell_type": "code",
   "execution_count": 91,
   "metadata": {},
   "outputs": [],
   "source": [
    "#The average duration for all students\n",
    "average_duration = final_grades_by_duration.avg_duration.mean()\n",
    "above_avg_duration = final_grades_by_duration[final_grades_by_duration.avg_duration >= average_duration]\n",
    "below_avg_duration = final_grades_by_duration[final_grades_by_duration.avg_duration < average_duration ]"
   ]
  },
  {
   "cell_type": "code",
   "execution_count": 178,
   "metadata": {
    "scrolled": true
   },
   "outputs": [
    {
     "name": "stdout",
     "output_type": "stream",
     "text": [
      "   user_param_external_user_id  avg_duration  student id  student sis  \\\n",
      "1                         2886       15274.0        2886          NaN   \n",
      "5                         6958       11338.0        6958          NaN   \n",
      "\n",
      "                                              course  course id  course sis  \\\n",
      "1  WELL1000 Foundations for Healthy Living - Mart...        645         NaN   \n",
      "5  WELL1000 Foundations for Healthy Living - Onli...        638         NaN   \n",
      "\n",
      "         section  section id  section sis       term  term id  term sis  \\\n",
      "1    WELL1000/20        1203          NaN  Fall 2018       20       NaN   \n",
      "5  WELL 1000/W75        1190          NaN  Fall 2018       20       NaN   \n",
      "\n",
      "   current score  final score enrollment state  unposted current score  \\\n",
      "1          82.69        82.69           active                   82.69   \n",
      "5          39.01        37.25           active                   39.01   \n",
      "\n",
      "   unposted final score  \n",
      "1                 82.69  \n",
      "5                 37.25  \n",
      "   user_param_external_user_id  avg_duration  student id  student sis  \\\n",
      "0                         2168        1808.4        2168          NaN   \n",
      "2                         2899        2890.5        2899          NaN   \n",
      "\n",
      "                                              course  course id  course sis  \\\n",
      "0  WELL1000 Foundations for Healthy Living - Onli...        637         NaN   \n",
      "2  WELL1000 Foundations for Healthy Living - Onli...        638         NaN   \n",
      "\n",
      "         section  section id  section sis       term  term id  term sis  \\\n",
      "0  WELL 1000/W70        1187          NaN  Fall 2018       20       NaN   \n",
      "2  WELL 1000/W75        1190          NaN  Fall 2018       20       NaN   \n",
      "\n",
      "   current score  final score enrollment state  unposted current score  \\\n",
      "0          53.57        51.19           active                   53.57   \n",
      "2          58.25        55.62           active                   58.25   \n",
      "\n",
      "   unposted final score  \n",
      "0                 51.19  \n",
      "2                 55.62  \n"
     ]
    }
   ],
   "source": [
    "print(above_avg_duration.head(2))\n",
    "print(below_avg_duration.head(2))"
   ]
  },
  {
   "cell_type": "code",
   "execution_count": 228,
   "metadata": {},
   "outputs": [
    {
     "data": {
      "image/png": "[encoded data removed]",
      "text/plain": [
       "<Figure size 432x288 with 1 Axes>"
      ]
     },
     "metadata": {
      "needs_background": "light"
     },
     "output_type": "display_data"
    },
    {
     "name": "stdout",
     "output_type": "stream",
     "text": [
      "Mean Final Score:  85.54768361581927\n"
     ]
    }
   ],
   "source": [
    "_ = plt.hist(x = above_avg_duration['unposted final score'], bins = 20)\n",
    "_ = plt.title('Grade Distribution for Students with Above Average Duration')\n",
    "_ = plt.xlabel('Final Score')\n",
    "plt.show()\n",
    "print('Mean Final Score: ', above_avg_duration['unposted final score'].mean())"
   ]
  },
  {
   "cell_type": "code",
   "execution_count": 229,
   "metadata": {},
   "outputs": [
    {
     "data": {
      "image/png": "[encoded data removed]",
      "text/plain": [
       "<Figure size 432x288 with 1 Axes>"
      ]
     },
     "metadata": {
      "needs_background": "light"
     },
     "output_type": "display_data"
    },
    {
     "name": "stdout",
     "output_type": "stream",
     "text": [
      "Mean Final Score:  84.54563380281681\n"
     ]
    }
   ],
   "source": [
    "_ = plt.hist(x = below_avg_duration['unposted final score'], bins = 20)\n",
    "_ = plt.title('Grade Distribution for Students with Below Average Duration')\n",
    "_ = plt.xlabel('Final Score')\n",
    "plt.show()\n",
    "print('Mean Final Score: ',below_avg_duration['unposted final score'].mean())"
   ]
  },
  {
   "cell_type": "code",
   "execution_count": 97,
   "metadata": {},
   "outputs": [
    {
     "name": "stdout",
     "output_type": "stream",
     "text": [
      "p =  0.2782323837362156\n"
     ]
    }
   ],
   "source": [
    "\"\"\"\n",
    "T-test for difference of means with confidence interval and margin of error.\n",
    "\"\"\"\n",
    "stat, p = stats.ttest_ind(above_avg_duration['unposted final score'], below_avg_duration['unposted final score'])\n",
    "print(\"p = \", p)"
   ]
  },
  {
   "cell_type": "code",
   "execution_count": 99,
   "metadata": {},
   "outputs": [
    {
     "name": "stdout",
     "output_type": "stream",
     "text": [
      "95% confidence interval = [-98.15025  97.29225]\n"
     ]
    }
   ],
   "source": [
    "#Confidence Interval for the difference of means\n",
    "empirical_diff = above_avg_duration['unposted final score'].subtract(below_avg_duration['unposted final score'], fill_value=0)\n",
    "conf_int = np.percentile(empirical_diff, [2.5, 97.5])\n",
    "print('95% confidence interval =', conf_int)\n"
   ]
  },
  {
   "cell_type": "code",
   "execution_count": 100,
   "metadata": {},
   "outputs": [
    {
     "name": "stdout",
     "output_type": "stream",
     "text": [
      "Margin of Error 386.65681657436465 %\n"
     ]
    }
   ],
   "source": [
    "#Margin of error\n",
    "prob = 0.95\n",
    "df = len(empirical_diff) - 1\n",
    "sem = np.std(empirical_diff) / np.sqrt(len(empirical_diff))\n",
    "value = stats.t.ppf(prob, df)\n",
    "me = value * sem\n",
    "print('Margin of Error', np.abs(me)*100, '%')"
   ]
  },
  {
   "cell_type": "code",
   "execution_count": null,
   "metadata": {},
   "outputs": [],
   "source": [
    "\"\"\"\n",
    "RESULT:\n",
    "The hypothesis test could not reject the null hypothesis. This support for the notion that the two grade distribution \n",
    "have the same mean. This is compounded with an incredibly wide confidence interval with a huge margin of error.\n",
    "\"\"\""
   ]
  },
  {
   "cell_type": "code",
   "execution_count": 102,
   "metadata": {},
   "outputs": [
    {
     "name": "stdout",
     "output_type": "stream",
     "text": [
      "4.087913570621825e-05 84.68520308835511 0.012908543110558985 0.6403989215909673 8.74888365860784e-05\n"
     ]
    }
   ],
   "source": [
    "\"\"\"\n",
    "Linear Regression\n",
    "\"\"\"\n",
    "x = final_grades_by_duration['avg_duration']\n",
    "y = final_grades_by_duration['unposted final score']\n",
    "slope, intercept, r_value, p_value, std_err = stats.linregress(x,y)\n",
    "print(slope, intercept, r_value, p_value, std_err)"
   ]
  },
  {
   "cell_type": "code",
   "execution_count": 108,
   "metadata": {
    "scrolled": true
   },
   "outputs": [
    {
     "data": {
      "image/png": "[encoded data removed]",
      "text/plain": [
       "<Figure size 432x288 with 1 Axes>"
      ]
     },
     "metadata": {
      "needs_background": "light"
     },
     "output_type": "display_data"
    }
   ],
   "source": [
    "_ = plt.scatter(x, y)\n",
    "_ = plt.plot(x, intercept + slope * x, color = 'red')\n",
    "_ = plt.title('Unposted Final score by Average Assessment Duration')\n",
    "_ = plt.xlabel('Average Duration')\n",
    "_ = plt.ylabel('Unposted Final Score')\n",
    "plt.show()"
   ]
  },
  {
   "cell_type": "code",
   "execution_count": 266,
   "metadata": {},
   "outputs": [
    {
     "data": {
      "text/plain": [
       "'\\nRESULT:\\n'"
      ]
     },
     "execution_count": 266,
     "metadata": {},
     "output_type": "execute_result"
    }
   ],
   "source": [
    "\"\"\"\n",
    "RESULT:\n",
    "According to cells 102 and 108, their is not a correlation between unposted final score e.g the final grade in the \n",
    "class and the average duration in milliseconds the students took their assessments.\n",
    "\"\"\""
   ]
  },
  {
   "cell_type": "code",
   "execution_count": null,
   "metadata": {},
   "outputs": [],
   "source": [
    "\"\"\"\n",
    "\n",
    "Note:\n",
    "\n",
    "The next two regressions seperate students based on what class structure they had.\n",
    "\n",
    "The first will use grades_f2f_quiz and then next will look at grades_f2f_midterm\n",
    "\n",
    "This overlaps with the ideas in Section 2: Effects of Class Structure a little, but these regressions focus\n",
    "on the effect of attempts and duration, not on class structure. These two regressions can not be done on the whole\n",
    "data set since they grade entries for each student are not of the same exact form.\n",
    "\n",
    "\"\"\""
   ]
  },
  {
   "cell_type": "code",
   "execution_count": null,
   "metadata": {},
   "outputs": [],
   "source": [
    "\"\"\"\n",
    "Linear regression of average duration and attempts on average Quiz grade\n",
    "\"\"\""
   ]
  },
  {
   "cell_type": "code",
   "execution_count": 309,
   "metadata": {},
   "outputs": [],
   "source": [
    "grades_f2f_quiz['avg_quiz_grade'] = grades_f2f_quiz.loc[:, 'Quiz 1: Chapter 1-3':'  Quiz 6: Chapter 14'].sum(axis = 1)/6.0"
   ]
  },
  {
   "cell_type": "code",
   "execution_count": 312,
   "metadata": {},
   "outputs": [],
   "source": [
    "quiz_grades_by_attempts = pd.merge(student_avg_attempt, grades_f2f_quiz, left_on = ['user_param_external_user_id'], right_on = ['User_param_external_user_id'], how = 'inner')\n",
    "quiz_grades_by_duration = pd.merge(student_avg_duration_all, grades_f2f_quiz, left_on = ['user_param_external_user_id'], right_on = ['User_param_external_user_id'], how = 'inner')"
   ]
  },
  {
   "cell_type": "code",
   "execution_count": 313,
   "metadata": {},
   "outputs": [
    {
     "name": "stdout",
     "output_type": "stream",
     "text": [
      "3.270125000592108e-05 28.971850967303727 0.027493096290986077 0.5113090163338656 4.975748828339579e-05\n"
     ]
    }
   ],
   "source": [
    "x = quiz_grades_by_duration['avg_duration']\n",
    "y = quiz_grades_by_duration['avg_quiz_grade']\n",
    "slope, intercept, r_value, p_value, std_err = stats.linregress(x,y)\n",
    "print(slope, intercept, r_value, p_value, std_err)"
   ]
  },
  {
   "cell_type": "code",
   "execution_count": 314,
   "metadata": {},
   "outputs": [
    {
     "data": {
      "image/png": "[encoded data removed]",
      "text/plain": [
       "<Figure size 432x288 with 1 Axes>"
      ]
     },
     "metadata": {
      "needs_background": "light"
     },
     "output_type": "display_data"
    }
   ],
   "source": [
    "_ = plt.scatter(x, y)\n",
    "_ = plt.plot(x, intercept + slope * x, color = 'red')\n",
    "_ = plt.title('Average Quiz Grade by Average Assessment Duration')\n",
    "_ = plt.xlabel('Average Duration')\n",
    "_ = plt.ylabel('Average Quiz Grade')\n",
    "plt.show()"
   ]
  },
  {
   "cell_type": "code",
   "execution_count": 315,
   "metadata": {},
   "outputs": [
    {
     "name": "stdout",
     "output_type": "stream",
     "text": [
      "-0.05624356596602214 29.44518607228267 -0.03769401773073497 0.3677759140702348 0.0623984228507943\n"
     ]
    }
   ],
   "source": [
    "x = quiz_grades_by_attempts['avg_attempts']\n",
    "y = quiz_grades_by_attempts['avg_quiz_grade']\n",
    "slope, intercept, r_value, p_value, std_err = stats.linregress(x,y)\n",
    "print(slope, intercept, r_value, p_value, std_err)"
   ]
  },
  {
   "cell_type": "code",
   "execution_count": 316,
   "metadata": {},
   "outputs": [
    {
     "data": {
      "image/png": "[encoded data removed]",
      "text/plain": [
       "<Figure size 432x288 with 1 Axes>"
      ]
     },
     "metadata": {
      "needs_background": "light"
     },
     "output_type": "display_data"
    }
   ],
   "source": [
    "_ = plt.scatter(x, y)\n",
    "_ = plt.plot(x, intercept + slope * x, color = 'red')\n",
    "_ = plt.title('Average Quiz Grade by Average Assessment Attemps')\n",
    "_ = plt.xlabel('Average Attempts')\n",
    "_ = plt.ylabel('Average Quiz Grade')\n",
    "plt.show()"
   ]
  },
  {
   "cell_type": "code",
   "execution_count": null,
   "metadata": {},
   "outputs": [],
   "source": [
    "\"\"\"\n",
    "RESULTS:\n",
    "\n",
    "Neither of these two linear regressions yielded any correlation. All p-values were too large to be considered \n",
    "signifcant, the r-values were two close to zero, and the slopes were too close to zero.\n",
    "\"\"\""
   ]
  },
  {
   "cell_type": "code",
   "execution_count": null,
   "metadata": {},
   "outputs": [],
   "source": [
    "\"\"\"\n",
    "Linear regression of average duration and attempts on midterm grade\n",
    "\"\"\""
   ]
  },
  {
   "cell_type": "code",
   "execution_count": 317,
   "metadata": {},
   "outputs": [],
   "source": [
    "midterm_grades_by_attempts = pd.merge(student_avg_attempt, grades_f2f_midterm, left_on = ['user_param_external_user_id'], right_on = ['User_param_external_user_id'], how = 'inner')\n",
    "midterm_grades_by_duration = pd.merge(student_avg_duration_all, grades_f2f_midterm, left_on = ['user_param_external_user_id'], right_on = ['User_param_external_user_id'], how = 'inner')"
   ]
  },
  {
   "cell_type": "code",
   "execution_count": 318,
   "metadata": {},
   "outputs": [
    {
     "name": "stdout",
     "output_type": "stream",
     "text": [
      "0.00020044496187070224 81.51657616473484 0.06762707931884246 0.42390615319567215 0.0002499281138478368\n"
     ]
    }
   ],
   "source": [
    "x = midterm_grades_by_duration['avg_duration']\n",
    "y = midterm_grades_by_duration['MidTerm']\n",
    "slope, intercept, r_value, p_value, std_err = stats.linregress(x,y)\n",
    "print(slope, intercept, r_value, p_value, std_err)"
   ]
  },
  {
   "cell_type": "code",
   "execution_count": 319,
   "metadata": {},
   "outputs": [
    {
     "data": {
      "image/png": "[encoded data removed]",
      "text/plain": [
       "<Figure size 432x288 with 1 Axes>"
      ]
     },
     "metadata": {
      "needs_background": "light"
     },
     "output_type": "display_data"
    }
   ],
   "source": [
    "_ = plt.scatter(x, y)\n",
    "_ = plt.plot(x, intercept + slope * x, color = 'red')\n",
    "_ = plt.title('Midterm Grade by Average Assessment Duration')\n",
    "_ = plt.xlabel('Average Duration')\n",
    "_ = plt.ylabel('Midterm Grade')\n",
    "plt.show()"
   ]
  },
  {
   "cell_type": "code",
   "execution_count": 320,
   "metadata": {},
   "outputs": [
    {
     "name": "stdout",
     "output_type": "stream",
     "text": [
      "-0.38320540288037563 84.91305529252834 -0.15690406954921313 0.06221374520439227 0.20385462490514472\n"
     ]
    }
   ],
   "source": [
    "x = midterm_grades_by_attempts['avg_attempts']\n",
    "y = midterm_grades_by_attempts['MidTerm']\n",
    "slope, intercept, r_value, p_value, std_err = stats.linregress(x,y)\n",
    "print(slope, intercept, r_value, p_value, std_err)"
   ]
  },
  {
   "cell_type": "code",
   "execution_count": 321,
   "metadata": {},
   "outputs": [
    {
     "data": {
      "image/png": "[encoded data removed]",
      "text/plain": [
       "<Figure size 432x288 with 1 Axes>"
      ]
     },
     "metadata": {
      "needs_background": "light"
     },
     "output_type": "display_data"
    }
   ],
   "source": [
    "_ = plt.scatter(x, y)\n",
    "_ = plt.plot(x, intercept + slope * x, color = 'red')\n",
    "_ = plt.title('Midterm Grade by Average Assessment Attempts')\n",
    "_ = plt.xlabel('Average Attempts')\n",
    "_ = plt.ylabel('Midterm Grade')\n",
    "plt.show()"
   ]
  },
  {
   "cell_type": "code",
   "execution_count": null,
   "metadata": {},
   "outputs": [],
   "source": [
    "\"\"\"\n",
    "RESULTS:\n",
    "Neither of these two linear regressions yielded any correlation. All p-values were too large to be considered \n",
    "signifcant, the r-values were two close to zero, and the slopes were too close to zero.\n",
    "\"\"\""
   ]
  },
  {
   "cell_type": "markdown",
   "metadata": {},
   "source": [
    "## Results:\n",
    "\n",
    "The linear regressions and hypothesis tests performed are as follows:\n",
    " * Unposted Final score and Average Assessment Attempts\n",
    " * Unposted Final score and Average Assessment Duration\n",
    " * Difference of means for Students with above versus below average assessment durations\n",
    " * Average Quiz Grade by Average Assessment Duration\n",
    " * Average Quiz Grade by Average Assessment Attempts\n",
    " * Average Midterm Grade by Average Assessment Duration\n",
    " * Average Midterm Grade by Average Assessment Attempts\n",
    "\n",
    "None of these yielded any correlation or difference of means. The conclusion is that none of these factors were\n",
    "a direct contributor or indicator of student success in the course."
   ]
  },
  {
   "cell_type": "markdown",
   "metadata": {},
   "source": [
    "****\n",
    "## Section 2: Effects of Class Structure\n",
    "\n",
    "This section will divide students based on their final scores in the class. They will be bucketed into 5 groups: 105-90, 90 - 80, 80 - 70, 70 - 60, 60-0. The last group is larger, but it charcterizes all the students that got failing grades. It is a grouping essentially of A,B,C,D, and F letter grades.\n",
    "\n",
    "Then students will be divided based on the class structure they took: face to face with quizzes (which includes the hybrid group), face to face with a midterm, and online.\n",
    "\n",
    "Using these grouping, I will calculate descriptive statistics and perform hypothesis test to see if their are statisitaclly significant difference between the groups. This will be a basis for furhter analysis with machine learning.\n",
    "\n"
   ]
  },
  {
   "cell_type": "code",
   "execution_count": 122,
   "metadata": {},
   "outputs": [],
   "source": [
    "\"\"\"\n",
    "Concatenate the detailed grade dataframes and add a column to identify what the class structure is.\n",
    "See description of dataframes at the beginning of the report.\n",
    "grades_f2f_quiz\n",
    "grades_f2f_midterm\n",
    "grades_online \n",
    "\"\"\"\n",
    "#Add column to identify class structure\n",
    "grades_f2f_quiz['structure'] = 'quiz'\n",
    "grades_f2f_midterm['structure'] = 'midterm'\n",
    "grades_online['structure'] = 'online'"
   ]
  },
  {
   "cell_type": "code",
   "execution_count": 177,
   "metadata": {
    "scrolled": true
   },
   "outputs": [
    {
     "data": {
      "text/html": [
       "<div>\n",
       "<style scoped>\n",
       "    .dataframe tbody tr th:only-of-type {\n",
       "        vertical-align: middle;\n",
       "    }\n",
       "\n",
       "    .dataframe tbody tr th {\n",
       "        vertical-align: top;\n",
       "    }\n",
       "\n",
       "    .dataframe thead th {\n",
       "        text-align: right;\n",
       "    }\n",
       "</style>\n",
       "<table border=\"1\" class=\"dataframe\">\n",
       "  <thead>\n",
       "    <tr style=\"text-align: right;\">\n",
       "      <th></th>\n",
       "      <th>Quiz 6: Chapter 14</th>\n",
       "      <th>Interactive Syllabus</th>\n",
       "      <th>Alcohol Assessment</th>\n",
       "      <th>Attendence</th>\n",
       "      <th>Body Mass Index (BMI) Assessment</th>\n",
       "      <th>Calorie Calculator Activity</th>\n",
       "      <th>Chapter 1 Guided Learning</th>\n",
       "      <th>Chapter 10 Guided Learning</th>\n",
       "      <th>Chapter 11 Guided Learning</th>\n",
       "      <th>Chapter 12 Guided Learning</th>\n",
       "      <th>...</th>\n",
       "      <th>SMART Goal Discussion</th>\n",
       "      <th>Section</th>\n",
       "      <th>Self-Introduction Discussion</th>\n",
       "      <th>Sexual Health Assessment</th>\n",
       "      <th>Strength Assessment</th>\n",
       "      <th>Stress Assessment</th>\n",
       "      <th>Target Heart Rate Assessment</th>\n",
       "      <th>Total Points Earned</th>\n",
       "      <th>Waist Circumference Activity</th>\n",
       "      <th>structure</th>\n",
       "    </tr>\n",
       "    <tr>\n",
       "      <th>User_param_external_user_id</th>\n",
       "      <th></th>\n",
       "      <th></th>\n",
       "      <th></th>\n",
       "      <th></th>\n",
       "      <th></th>\n",
       "      <th></th>\n",
       "      <th></th>\n",
       "      <th></th>\n",
       "      <th></th>\n",
       "      <th></th>\n",
       "      <th></th>\n",
       "      <th></th>\n",
       "      <th></th>\n",
       "      <th></th>\n",
       "      <th></th>\n",
       "      <th></th>\n",
       "      <th></th>\n",
       "      <th></th>\n",
       "      <th></th>\n",
       "      <th></th>\n",
       "      <th></th>\n",
       "    </tr>\n",
       "  </thead>\n",
       "  <tbody>\n",
       "    <tr>\n",
       "      <th>39408</th>\n",
       "      <td>0.0</td>\n",
       "      <td>0.0</td>\n",
       "      <td>0.0</td>\n",
       "      <td>NaN</td>\n",
       "      <td>0</td>\n",
       "      <td>0</td>\n",
       "      <td>0.0</td>\n",
       "      <td>0.0</td>\n",
       "      <td>0.0</td>\n",
       "      <td>0</td>\n",
       "      <td>...</td>\n",
       "      <td>NaN</td>\n",
       "      <td>WELL 1000/37</td>\n",
       "      <td>NaN</td>\n",
       "      <td>0.0</td>\n",
       "      <td>6.0</td>\n",
       "      <td>0</td>\n",
       "      <td>5.0</td>\n",
       "      <td>188.6</td>\n",
       "      <td>0</td>\n",
       "      <td>quiz</td>\n",
       "    </tr>\n",
       "    <tr>\n",
       "      <th>38171</th>\n",
       "      <td>40.0</td>\n",
       "      <td>10.0</td>\n",
       "      <td>0.0</td>\n",
       "      <td>NaN</td>\n",
       "      <td>0</td>\n",
       "      <td>0</td>\n",
       "      <td>5.0</td>\n",
       "      <td>0.0</td>\n",
       "      <td>0.0</td>\n",
       "      <td>0</td>\n",
       "      <td>...</td>\n",
       "      <td>NaN</td>\n",
       "      <td>WELL 1000/38</td>\n",
       "      <td>NaN</td>\n",
       "      <td>0.0</td>\n",
       "      <td>0.0</td>\n",
       "      <td>0</td>\n",
       "      <td>0.0</td>\n",
       "      <td>192.0</td>\n",
       "      <td>0</td>\n",
       "      <td>quiz</td>\n",
       "    </tr>\n",
       "  </tbody>\n",
       "</table>\n",
       "<p>2 rows × 91 columns</p>\n",
       "</div>"
      ],
      "text/plain": [
       "                               Quiz 6: Chapter 14   Interactive Syllabus  \\\n",
       "User_param_external_user_id                                                \n",
       "39408                                         0.0                    0.0   \n",
       "38171                                        40.0                   10.0   \n",
       "\n",
       "                             Alcohol Assessment  Attendence  \\\n",
       "User_param_external_user_id                                   \n",
       "39408                                       0.0         NaN   \n",
       "38171                                       0.0         NaN   \n",
       "\n",
       "                            Body Mass Index (BMI) Assessment  \\\n",
       "User_param_external_user_id                                    \n",
       "39408                                                      0   \n",
       "38171                                                      0   \n",
       "\n",
       "                            Calorie Calculator Activity  \\\n",
       "User_param_external_user_id                               \n",
       "39408                                                 0   \n",
       "38171                                                 0   \n",
       "\n",
       "                             Chapter 1 Guided Learning  \\\n",
       "User_param_external_user_id                              \n",
       "39408                                              0.0   \n",
       "38171                                              5.0   \n",
       "\n",
       "                             Chapter 10 Guided Learning  \\\n",
       "User_param_external_user_id                               \n",
       "39408                                               0.0   \n",
       "38171                                               0.0   \n",
       "\n",
       "                             Chapter 11 Guided Learning  \\\n",
       "User_param_external_user_id                               \n",
       "39408                                               0.0   \n",
       "38171                                               0.0   \n",
       "\n",
       "                            Chapter 12 Guided Learning  ...  \\\n",
       "User_param_external_user_id                             ...   \n",
       "39408                                                0  ...   \n",
       "38171                                                0  ...   \n",
       "\n",
       "                            SMART Goal Discussion       Section  \\\n",
       "User_param_external_user_id                                       \n",
       "39408                                         NaN  WELL 1000/37   \n",
       "38171                                         NaN  WELL 1000/38   \n",
       "\n",
       "                             Self-Introduction Discussion  \\\n",
       "User_param_external_user_id                                 \n",
       "39408                                                 NaN   \n",
       "38171                                                 NaN   \n",
       "\n",
       "                             Sexual Health Assessment  Strength Assessment  \\\n",
       "User_param_external_user_id                                                  \n",
       "39408                                             0.0                  6.0   \n",
       "38171                                             0.0                  0.0   \n",
       "\n",
       "                             Stress Assessment  Target Heart Rate Assessment  \\\n",
       "User_param_external_user_id                                                    \n",
       "39408                                        0                           5.0   \n",
       "38171                                        0                           0.0   \n",
       "\n",
       "                             Total Points Earned Waist Circumference Activity  \\\n",
       "User_param_external_user_id                                                     \n",
       "39408                                      188.6                            0   \n",
       "38171                                      192.0                            0   \n",
       "\n",
       "                             structure  \n",
       "User_param_external_user_id             \n",
       "39408                             quiz  \n",
       "38171                             quiz  \n",
       "\n",
       "[2 rows x 91 columns]"
      ]
     },
     "execution_count": 177,
     "metadata": {},
     "output_type": "execute_result"
    }
   ],
   "source": [
    "#Concatenate the dataframes\n",
    "\n",
    "detailed_grades = pd.concat([grades_f2f_quiz, grades_f2f_midterm, grades_online], sort = True)\n",
    "detailed_grades.head(2)"
   ]
  },
  {
   "cell_type": "code",
   "execution_count": 236,
   "metadata": {
    "scrolled": true
   },
   "outputs": [
    {
     "data": {
      "text/plain": [
       "User_param_external_user_id\n",
       "39408    4\n",
       "38171    4\n",
       "41858    4\n",
       "37707    4\n",
       "38718    4\n",
       "Name: grade_bucket, dtype: int64"
      ]
     },
     "execution_count": 236,
     "metadata": {},
     "output_type": "execute_result"
    }
   ],
   "source": [
    "\"\"\"\n",
    "Bucket students into six groups by final score.\n",
    "The 'grade_bucket' will return a column whose values are the index of the buckets array e.g\n",
    "4: 60-0 F\n",
    "3: 70-60 D\n",
    "2: 80-70 C\n",
    "1: 90-80 B\n",
    "0: 105-90 A\n",
    "\"\"\"\n",
    "\n",
    "#for i in range(6):\n",
    "    #detailed_grades['grade_bucket'] = (detailed_grades['Grade (%)'] < buckets[i][0]) & (detailed_grades['Grade (%)'] >= buckets[i][1])\n",
    "    \n",
    "def create_bucket(x):\n",
    "    buckets = [[105, 90], [90,80], [80, 70], [70, 60],[60, 0]]\n",
    "    for i in range(5):\n",
    "        if (x < buckets[i][0]) & (x >= buckets[i][1]):\n",
    "            return (i)\n",
    "detailed_grades['grade_bucket'] = detailed_grades['Grade (%)'].apply(create_bucket)    \n",
    "detailed_grades['grade_bucket'].head()\n",
    "    "
   ]
  },
  {
   "cell_type": "code",
   "execution_count": 237,
   "metadata": {},
   "outputs": [
    {
     "data": {
      "text/html": [
       "<div>\n",
       "<style scoped>\n",
       "    .dataframe tbody tr th:only-of-type {\n",
       "        vertical-align: middle;\n",
       "    }\n",
       "\n",
       "    .dataframe tbody tr th {\n",
       "        vertical-align: top;\n",
       "    }\n",
       "\n",
       "    .dataframe thead th {\n",
       "        text-align: right;\n",
       "    }\n",
       "</style>\n",
       "<table border=\"1\" class=\"dataframe\">\n",
       "  <thead>\n",
       "    <tr style=\"text-align: right;\">\n",
       "      <th></th>\n",
       "      <th>Quiz 6: Chapter 14</th>\n",
       "      <th>Interactive Syllabus</th>\n",
       "      <th>Alcohol Assessment</th>\n",
       "      <th>Attendence</th>\n",
       "      <th>Body Mass Index (BMI) Assessment</th>\n",
       "      <th>Calorie Calculator Activity</th>\n",
       "      <th>Chapter 1 Guided Learning</th>\n",
       "      <th>Chapter 10 Guided Learning</th>\n",
       "      <th>Chapter 11 Guided Learning</th>\n",
       "      <th>Chapter 12 Guided Learning</th>\n",
       "      <th>...</th>\n",
       "      <th>Section</th>\n",
       "      <th>Self-Introduction Discussion</th>\n",
       "      <th>Sexual Health Assessment</th>\n",
       "      <th>Strength Assessment</th>\n",
       "      <th>Stress Assessment</th>\n",
       "      <th>Target Heart Rate Assessment</th>\n",
       "      <th>Total Points Earned</th>\n",
       "      <th>Waist Circumference Activity</th>\n",
       "      <th>structure</th>\n",
       "      <th>grade_bucket</th>\n",
       "    </tr>\n",
       "    <tr>\n",
       "      <th>User_param_external_user_id</th>\n",
       "      <th></th>\n",
       "      <th></th>\n",
       "      <th></th>\n",
       "      <th></th>\n",
       "      <th></th>\n",
       "      <th></th>\n",
       "      <th></th>\n",
       "      <th></th>\n",
       "      <th></th>\n",
       "      <th></th>\n",
       "      <th></th>\n",
       "      <th></th>\n",
       "      <th></th>\n",
       "      <th></th>\n",
       "      <th></th>\n",
       "      <th></th>\n",
       "      <th></th>\n",
       "      <th></th>\n",
       "      <th></th>\n",
       "      <th></th>\n",
       "      <th></th>\n",
       "    </tr>\n",
       "  </thead>\n",
       "  <tbody>\n",
       "    <tr>\n",
       "      <th>39408</th>\n",
       "      <td>0.0</td>\n",
       "      <td>0.0</td>\n",
       "      <td>0.0</td>\n",
       "      <td>NaN</td>\n",
       "      <td>0</td>\n",
       "      <td>0</td>\n",
       "      <td>0.0</td>\n",
       "      <td>0.0</td>\n",
       "      <td>0.0</td>\n",
       "      <td>0</td>\n",
       "      <td>...</td>\n",
       "      <td>WELL 1000/37</td>\n",
       "      <td>NaN</td>\n",
       "      <td>0.0</td>\n",
       "      <td>6.0</td>\n",
       "      <td>0</td>\n",
       "      <td>5.0</td>\n",
       "      <td>188.6</td>\n",
       "      <td>0</td>\n",
       "      <td>quiz</td>\n",
       "      <td>4</td>\n",
       "    </tr>\n",
       "    <tr>\n",
       "      <th>38171</th>\n",
       "      <td>40.0</td>\n",
       "      <td>10.0</td>\n",
       "      <td>0.0</td>\n",
       "      <td>NaN</td>\n",
       "      <td>0</td>\n",
       "      <td>0</td>\n",
       "      <td>5.0</td>\n",
       "      <td>0.0</td>\n",
       "      <td>0.0</td>\n",
       "      <td>0</td>\n",
       "      <td>...</td>\n",
       "      <td>WELL 1000/38</td>\n",
       "      <td>NaN</td>\n",
       "      <td>0.0</td>\n",
       "      <td>0.0</td>\n",
       "      <td>0</td>\n",
       "      <td>0.0</td>\n",
       "      <td>192.0</td>\n",
       "      <td>0</td>\n",
       "      <td>quiz</td>\n",
       "      <td>4</td>\n",
       "    </tr>\n",
       "  </tbody>\n",
       "</table>\n",
       "<p>2 rows × 92 columns</p>\n",
       "</div>"
      ],
      "text/plain": [
       "                               Quiz 6: Chapter 14   Interactive Syllabus  \\\n",
       "User_param_external_user_id                                                \n",
       "39408                                         0.0                    0.0   \n",
       "38171                                        40.0                   10.0   \n",
       "\n",
       "                             Alcohol Assessment  Attendence  \\\n",
       "User_param_external_user_id                                   \n",
       "39408                                       0.0         NaN   \n",
       "38171                                       0.0         NaN   \n",
       "\n",
       "                            Body Mass Index (BMI) Assessment  \\\n",
       "User_param_external_user_id                                    \n",
       "39408                                                      0   \n",
       "38171                                                      0   \n",
       "\n",
       "                            Calorie Calculator Activity  \\\n",
       "User_param_external_user_id                               \n",
       "39408                                                 0   \n",
       "38171                                                 0   \n",
       "\n",
       "                             Chapter 1 Guided Learning  \\\n",
       "User_param_external_user_id                              \n",
       "39408                                              0.0   \n",
       "38171                                              5.0   \n",
       "\n",
       "                             Chapter 10 Guided Learning  \\\n",
       "User_param_external_user_id                               \n",
       "39408                                               0.0   \n",
       "38171                                               0.0   \n",
       "\n",
       "                             Chapter 11 Guided Learning  \\\n",
       "User_param_external_user_id                               \n",
       "39408                                               0.0   \n",
       "38171                                               0.0   \n",
       "\n",
       "                            Chapter 12 Guided Learning  ...       Section  \\\n",
       "User_param_external_user_id                             ...                 \n",
       "39408                                                0  ...  WELL 1000/37   \n",
       "38171                                                0  ...  WELL 1000/38   \n",
       "\n",
       "                             Self-Introduction Discussion  \\\n",
       "User_param_external_user_id                                 \n",
       "39408                                                 NaN   \n",
       "38171                                                 NaN   \n",
       "\n",
       "                             Sexual Health Assessment  Strength Assessment  \\\n",
       "User_param_external_user_id                                                  \n",
       "39408                                             0.0                  6.0   \n",
       "38171                                             0.0                  0.0   \n",
       "\n",
       "                             Stress Assessment  Target Heart Rate Assessment  \\\n",
       "User_param_external_user_id                                                    \n",
       "39408                                        0                           5.0   \n",
       "38171                                        0                           0.0   \n",
       "\n",
       "                             Total Points Earned  \\\n",
       "User_param_external_user_id                        \n",
       "39408                                      188.6   \n",
       "38171                                      192.0   \n",
       "\n",
       "                             Waist Circumference Activity structure  \\\n",
       "User_param_external_user_id                                           \n",
       "39408                                                   0      quiz   \n",
       "38171                                                   0      quiz   \n",
       "\n",
       "                             grade_bucket  \n",
       "User_param_external_user_id                \n",
       "39408                                   4  \n",
       "38171                                   4  \n",
       "\n",
       "[2 rows x 92 columns]"
      ]
     },
     "execution_count": 237,
     "metadata": {},
     "output_type": "execute_result"
    }
   ],
   "source": [
    "detailed_grades.head(2)"
   ]
  },
  {
   "cell_type": "code",
   "execution_count": 238,
   "metadata": {},
   "outputs": [],
   "source": [
    "\"\"\"\n",
    "Final Grade Distributions by Class Structure\n",
    "\"\"\"\n",
    "#group\n",
    "detailed_grades_quiz = detailed_grades[detailed_grades['structure'] == 'quiz']\n",
    "detailed_grades_midterm = detailed_grades[detailed_grades['structure'] == 'midterm']\n",
    "detailed_grades_online = detailed_grades[detailed_grades['structure'] == 'online']"
   ]
  },
  {
   "cell_type": "code",
   "execution_count": 249,
   "metadata": {
    "scrolled": false
   },
   "outputs": [
    {
     "name": "stdout",
     "output_type": "stream",
     "text": [
      "Quiz:\n",
      " count    1298.000000\n",
      "mean       85.698844\n",
      "std        13.695829\n",
      "min        20.280000\n",
      "25%        81.295000\n",
      "50%        90.155000\n",
      "75%        94.687500\n",
      "max       103.140000\n",
      "Name: Grade (%), dtype: float64 \n",
      "Midterm:\n",
      " count    371.000000\n",
      "mean      83.492399\n",
      "std       16.898238\n",
      "min        1.080000\n",
      "25%       78.900000\n",
      "50%       89.540000\n",
      "75%       94.150000\n",
      "max      102.150000\n",
      "Name: Grade (%), dtype: float64 \n",
      "Online:\n",
      " count    1120.000000\n",
      "mean       85.310518\n",
      "std        14.112293\n",
      "min        12.900000\n",
      "25%        82.120000\n",
      "50%        90.290000\n",
      "75%        94.100000\n",
      "max       101.280000\n",
      "Name: Grade (%), dtype: float64\n"
     ]
    },
    {
     "data": {
      "image/png": "[encoded data removed]",
      "text/plain": [
       "<Figure size 432x288 with 3 Axes>"
      ]
     },
     "metadata": {
      "needs_background": "light"
     },
     "output_type": "display_data"
    }
   ],
   "source": [
    "#plots using 'Grades (%)'\n",
    "#These plot do not need to share a y axis because they are histograms (the y-axis is just a count)\n",
    "fig, (ax1,ax2,ax3) = plt.subplots(1,3)\n",
    "_ = ax1.hist(x = detailed_grades_quiz['Grade (%)'], bins = 12)\n",
    "_ = ax2.hist(x = detailed_grades_midterm['Grade (%)'], bins = 12)\n",
    "_ = ax3.hist(x = detailed_grades_online['Grade (%)'], bins = 12)\n",
    "_ = plt.title('Grade Distribution by Class Structure')\n",
    "print('Quiz:\\n', detailed_grades_quiz['Grade (%)'].describe(), '\\nMidterm:\\n', detailed_grades_midterm['Grade (%)'].describe()\n",
    "     ,'\\nOnline:\\n', detailed_grades_online['Grade (%)'].describe())\n"
   ]
  },
  {
   "cell_type": "code",
   "execution_count": 248,
   "metadata": {
    "scrolled": true
   },
   "outputs": [
    {
     "data": {
      "image/png": "[encoded data removed]",
      "text/plain": [
       "<Figure size 432x288 with 3 Axes>"
      ]
     },
     "metadata": {
      "needs_background": "light"
     },
     "output_type": "display_data"
    }
   ],
   "source": [
    "#plots using 'grade_bucket'\n",
    "#These plot do not need to share a y axis because they are histograms (the y-axis is just a count)\n",
    "#Refer to the scale above: 0 is an A and 4 is an F\n",
    "fig, (ax1,ax2,ax3) = plt.subplots(1,3)\n",
    "_ = ax1.hist(x = detailed_grades_quiz['grade_bucket'], bins = 5)\n",
    "_ = ax2.hist(x = detailed_grades_midterm['grade_bucket'], bins = 5)\n",
    "_ = ax3.hist(x = detailed_grades_online['grade_bucket'], bins = 5)\n",
    "_ = plt.title('Grade Distribution by Class Structure')"
   ]
  },
  {
   "cell_type": "code",
   "execution_count": 326,
   "metadata": {},
   "outputs": [
    {
     "data": {
      "text/plain": [
       "'\\nRESULTS:\\nThe distributions look very similar with slightly different descriptive statistics. Nothing that looks practially\\nor statistically significant.\\n'"
      ]
     },
     "execution_count": 326,
     "metadata": {},
     "output_type": "execute_result"
    }
   ],
   "source": [
    "\"\"\"\n",
    "RESULTS:\n",
    "The distributions look very similar with slightly different descriptive statistics. Nothing that looks practially\n",
    "or statistically significant.\n",
    "\"\"\""
   ]
  },
  {
   "cell_type": "code",
   "execution_count": null,
   "metadata": {},
   "outputs": [],
   "source": [
    "\"\"\"\n",
    "Hypothesis Tests (T-tests) to evaluate whether the means of the distributions are different. This will use Grade (%)\n",
    "\"\"\""
   ]
  },
  {
   "cell_type": "code",
   "execution_count": 257,
   "metadata": {},
   "outputs": [
    {
     "name": "stdout",
     "output_type": "stream",
     "text": [
      "p =  0.009667467365850804\n"
     ]
    }
   ],
   "source": [
    "#T-test for difference of means. Null hypothesis: Quiz and Midterm class structures have the same mean final grade.\n",
    "stat1, p1 = stats.ttest_ind(detailed_grades_quiz['Grade (%)'], detailed_grades_midterm['Grade (%)'])\n",
    "print(\"p = \", p1)"
   ]
  },
  {
   "cell_type": "code",
   "execution_count": 253,
   "metadata": {},
   "outputs": [
    {
     "name": "stdout",
     "output_type": "stream",
     "text": [
      "p =  0.4930971665160936\n"
     ]
    }
   ],
   "source": [
    "#T-test for difference of means. Null hypothesis: Quiz and Online class structures have the same mean final grade\n",
    "stat2, p2 = stats.ttest_ind(detailed_grades_quiz['Grade (%)'], detailed_grades_online['Grade (%)'])\n",
    "print(\"p = \", p2)"
   ]
  },
  {
   "cell_type": "code",
   "execution_count": 252,
   "metadata": {},
   "outputs": [
    {
     "name": "stdout",
     "output_type": "stream",
     "text": [
      "p =  0.04118902171050326\n"
     ]
    }
   ],
   "source": [
    "#T-test for difference of means. Null hypothesis: Midterm and Online class structures have the same mean final grade\n",
    "stat3, p3 = stats.ttest_ind(detailed_grades_midterm['Grade (%)'], detailed_grades_online['Grade (%)'])\n",
    "print(\"p = \", p3)"
   ]
  },
  {
   "cell_type": "code",
   "execution_count": null,
   "metadata": {},
   "outputs": [],
   "source": [
    "\"\"\"\n",
    "Hypothesis Tests (T-tests) to evaluate whether the means of the distributions are different. This will use grade_bucket\n",
    "\"\"\""
   ]
  },
  {
   "cell_type": "code",
   "execution_count": 254,
   "metadata": {},
   "outputs": [
    {
     "name": "stdout",
     "output_type": "stream",
     "text": [
      "p =  0.10648733057737642\n"
     ]
    }
   ],
   "source": [
    "#T-test for difference of means. Null hypothesis: Quiz and Midterm class structures have the same mean final grade.\n",
    "stat4, p4 = stats.ttest_ind(detailed_grades_quiz['grade_bucket'], detailed_grades_midterm['grade_bucket'])\n",
    "print(\"p = \", p4)"
   ]
  },
  {
   "cell_type": "code",
   "execution_count": 255,
   "metadata": {},
   "outputs": [
    {
     "name": "stdout",
     "output_type": "stream",
     "text": [
      "p =  0.7730813674345433\n"
     ]
    }
   ],
   "source": [
    "#T-test for difference of means. Null hypothesis: Quiz and Online class structures have the same mean final grade\n",
    "stat5, p5 = stats.ttest_ind(detailed_grades_quiz['grade_bucket'], detailed_grades_online['grade_bucket'])\n",
    "print(\"p = \", p5)"
   ]
  },
  {
   "cell_type": "code",
   "execution_count": 256,
   "metadata": {},
   "outputs": [
    {
     "name": "stdout",
     "output_type": "stream",
     "text": [
      "p =  0.076092472567597\n"
     ]
    }
   ],
   "source": [
    "#T-test for difference of means. Null hypothesis: Midterm and Online class structures have the same mean final grade\n",
    "stat6, p6 = stats.ttest_ind(detailed_grades_midterm['grade_bucket'], detailed_grades_online['grade_bucket'])\n",
    "print(\"p = \", p6)"
   ]
  },
  {
   "cell_type": "code",
   "execution_count": null,
   "metadata": {},
   "outputs": [],
   "source": [
    "\"\"\"\n",
    "RESULTS:\n",
    "When using 'Grade (%)' which shows grade as a percentage, there were two p-values that looked significant: \n",
    "Quiz and Midterm class structures have the same mean final grade was rejected and\n",
    "Midterm and Online class structures have the same mean final grade\n",
    "\n",
    "This difference was significant at alpha = 0.01 and alpha = 0.042 respectivally. \n",
    "This does not tell if the difference is practially significant though.\n",
    "\n",
    "When grouped by letter grade, the same hypothesis tests could not reject the null hypothesis that\n",
    "Quiz and Midterm class structures have the same mean final grade. This likely means the difference was not practically\n",
    "signifcant now that the students are bucketed.\n",
    "\n",
    "Midterm and Online class structures have the same mean final grade was rejected at alpha = 0.077. This is means that\n",
    "about 93% of values were less extreme than the test statistic which would be the difference of means here.\n",
    "\n",
    "If there were the same it would be zero, but for this case it seems likely that it is not zero. This could be a point\n",
    "to explore later with machine learning.\n",
    "\"\"\""
   ]
  },
  {
   "cell_type": "markdown",
   "metadata": {},
   "source": [
    "## Interpretation:\n",
    "\n",
    "The distributions and means appear to be the same for the different class structures. All of the grade distributions had a mean of about 83-85 which is not varied enough to be significant. None of the standard deviations or other descriptive statistics stood out either. None of the hypothesis tests were able to reject the null hypothesis for the difference of means between the grade distributions except for Midterm and Online class structures having the same mean final grade was rejected at alpha = 0.077. This was after bucketing to assign students to 6 categories of letter grades. \n",
    "\n",
    "It makes sense that the purely online class would have a different average final grade in the class compared to the face to face classes (quiz and midterm). It does stand out a little bit that Quiz and Online class structures having the same mean final grade had a p-value of 0.77308, but Quiz and Midterm grades only had a p-value of 0.1065 after bucketing. \n",
    "\n",
    "So although Midterm and Online have statistically different mean final grades, and their is a case for Midterm and Quiz having different means, Quiz and Online are most likely not different.\n",
    "\n",
    "This is consistent with the descriptive statistics that were calculated were Quiz and Online students had a mean final score of 85 while Midterm students had a mean final score of 83.\n",
    "\n",
    "This is statistically different, but maybe not practically significant. It is worth recognizing since they were also different after bucketing to account for small percentage gaps like above."
   ]
  },
  {
   "cell_type": "markdown",
   "metadata": {},
   "source": [
    "****\n",
    "## Section 3: Looking at the \"Dip\""
   ]
  },
  {
   "cell_type": "code",
   "execution_count": 241,
   "metadata": {},
   "outputs": [
    {
     "data": {
      "text/plain": [
       "''"
      ]
     },
     "execution_count": 241,
     "metadata": {},
     "output_type": "execute_result"
    }
   ],
   "source": [
    "\"\"\"\n",
    "I think look at project and guided learning grades over time\n",
    "This will be mostly exploratory. The rest of the report needs to be ready to turn in essentially before I move on to this.\n",
    "\n",
    "The plan for this is to graph the assignments or guided learning grade average for the students that were in\n",
    "two different sets of groups.\n",
    "Either by class structure, then by grade_bucket, and then by both to see the overall trend.\n",
    "\n",
    "We can also look at other grade trends or something.\n",
    "\n",
    "Note: we have also not correlated guided learning duration/attempts with quiz grades or midterm grade.\n",
    "Jenn did specifically ask for that.\n",
    "\n",
    "Today: Tidy up the report (make graphs look nice, add comments, interpretations, and \n",
    "descriptions, and also save graphs). Finish correlations for question 1. (this could take upwards of 3-4 hours)\n",
    "\n",
    "Tomorrow: Finish question 3 and make the report turn-in ready. I won't turn it in until I have wifi again though.\n",
    "Then start looking at the milestone report and get ready to draft that sucker. That will be due on saturday.\n",
    "Over the weekend will be relatively relax and focused on catching up. I should watch a couple of the lecture videos \n",
    "just so that I don't suck. I will also need to email dad and jenn the milestone report probably and talk with them \n",
    "before vacation.\n",
    "Ben's birthday is monday, but so is packing for vacation and leaving...\n",
    "I'll need to pack all the clothes I want for the week, and find time to see Ben, and also watch videos and shit.\n",
    "\n",
    "I assume I'll have wifi to watch the videos on in New York. I'll cram through those super easily and take notes.\n",
    "The big thing will be looking up those machine learning tutorials that dad talked about too.\n",
    "Then I'll need to decide with them what the direction for the captstone project will be.\n",
    "\n",
    "------------------\n",
    "I'll finish these two regressions today. - today - done\n",
    "Then I'll make all of the plots look nice and save them to figures. - today (not done) - Tomorow\n",
    "Then I'll write the interpretation sections which just summarize each section. - today + tomorrow - done\n",
    "    (p90x takes priority) (Do whatever I missed yesterday and then do a bunch of pushups too. That will take at least 1hr 15min)\n",
    "Finish Section three - tomorrow - 1.5hrs\n",
    "Write the conclusion. - tomorrow - 20min\n",
    "Finalize report and make ready to turn in - tomorrow - 20min\n",
    "Outline milestone report - tomorrow and saturday - 30min\n",
    "+1hr for breaks = 3hrs 40mins tops tomorrow. I can still do more tonight...\n",
    "Write milestone report - saturday and sunday. absolutely due monday.\n",
    "Monday - busy repacking for a different vacation and hanging out with ben. (I also need to download a bunch of music and\n",
    "books for the drive since I will not have data. Maybe watch a lecture video too.)\n",
    "\"\"\""
   ]
  },
  {
   "cell_type": "code",
   "execution_count": null,
   "metadata": {},
   "outputs": [],
   "source": []
  },
  {
   "cell_type": "markdown",
   "metadata": {},
   "source": [
    "****\n",
    "# Conclusion:\n",
    "\n",
    "Conclude everything. Each question on its own should have a notes section and interpretation thing. This should be more of a summary of the findings.\n",
    "\n",
    "The report that needs to be submitted to springboard will markdown page with inserted graphs as images and stuff."
   ]
  },
  {
   "cell_type": "code",
   "execution_count": null,
   "metadata": {},
   "outputs": [],
   "source": []
  }
 ],
 "metadata": {
  "kernelspec": {
   "display_name": "Python 3",
   "language": "python",
   "name": "python3"
  },
  "language_info": {
   "codemirror_mode": {
    "name": "ipython",
    "version": 3
   },
   "file_extension": ".py",
   "mimetype": "text/x-python",
   "name": "python",
   "nbconvert_exporter": "python",
   "pygments_lexer": "ipython3",
   "version": "3.7.3"
  }
 },
 "nbformat": 4,
 "nbformat_minor": 2
}
